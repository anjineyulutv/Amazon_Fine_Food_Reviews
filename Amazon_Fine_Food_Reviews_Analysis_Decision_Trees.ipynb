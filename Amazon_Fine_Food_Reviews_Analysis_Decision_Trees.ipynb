{
 "cells": [
  {
   "cell_type": "markdown",
   "metadata": {
    "colab_type": "text",
    "id": "IXmtUCbYiWM3"
   },
   "source": [
    "# Amazon Fine Food Reviews Analysis\n",
    "\n",
    "\n",
    "Data Source: https://www.kaggle.com/snap/amazon-fine-food-reviews <br>\n",
    "\n",
    "EDA: https://nycdatascience.com/blog/student-works/amazon-fine-foods-visualization/\n",
    "\n",
    "\n",
    "The Amazon Fine Food Reviews dataset consists of reviews of fine foods from Amazon.<br>\n",
    "\n",
    "Number of reviews: 568,454<br>\n",
    "Number of users: 256,059<br>\n",
    "Number of products: 74,258<br>\n",
    "Timespan: Oct 1999 - Oct 2012<br>\n",
    "Number of Attributes/Columns in data: 10 \n",
    "\n",
    "Attribute Information:\n",
    "\n",
    "1. Id\n",
    "2. ProductId - unique identifier for the product\n",
    "3. UserId - unqiue identifier for the user\n",
    "4. ProfileName\n",
    "5. HelpfulnessNumerator - number of users who found the review helpful\n",
    "6. HelpfulnessDenominator - number of users who indicated whether they found the review helpful or not\n",
    "7. Score - rating between 1 and 5\n",
    "8. Time - timestamp for the review\n",
    "9. Summary - brief summary of the review\n",
    "10. Text - text of the review\n",
    "\n",
    "\n",
    "#### Objective:\n",
    "Given a review, determine whether the review is positive (rating of 4 or 5) or negative (rating of 1 or 2).\n",
    "\n",
    "<br>\n",
    "[Q] How to determine if a review is positive or negative?<br>\n",
    "<br> \n",
    "[Ans] We could use Score/Rating. A rating of 4 or 5 can be cosnidered as a positive review. A rating of 1 or 2 can be considered as negative one. A review of rating 3 is considered nuetral and such reviews are ignored from our analysis. This is an approximate and proxy way of determining the polarity (positivity/negativity) of a review.\n",
    "\n",
    "\n"
   ]
  },
  {
   "cell_type": "markdown",
   "metadata": {
    "colab_type": "text",
    "id": "syeYHDR_iWM7"
   },
   "source": [
    "# [1]. Reading Data"
   ]
  },
  {
   "cell_type": "markdown",
   "metadata": {
    "colab_type": "text",
    "id": "D_eZrQC0iWM9"
   },
   "source": [
    "## [1.1] Loading the data\n",
    "\n",
    "The dataset is available in two forms\n",
    "1. .csv file\n",
    "2. SQLite Database\n",
    "\n",
    "In order to load the data, We have used the SQLITE dataset as it is easier to query the data and visualise the data efficiently.\n",
    "<br> \n",
    "\n",
    "Here as we only want to get the global sentiment of the recommendations (positive or negative), we will purposefully ignore all Scores equal to 3. If the score is above 3, then the recommendation wil be set to \"positive\". Otherwise, it will be set to \"negative\"."
   ]
  },
  {
   "cell_type": "code",
   "execution_count": 1,
   "metadata": {
    "colab": {},
    "colab_type": "code",
    "id": "53fLFqf8iWNA"
   },
   "outputs": [
    {
     "name": "stderr",
     "output_type": "stream",
     "text": [
      "C:\\Users\\anjineyulu\\AppData\\Local\\Continuum\\anaconda3\\lib\\site-packages\\gensim\\utils.py:1212: UserWarning: detected Windows; aliasing chunkize to chunkize_serial\n",
      "  warnings.warn(\"detected Windows; aliasing chunkize to chunkize_serial\")\n"
     ]
    }
   ],
   "source": [
    "%matplotlib inline\n",
    "import warnings\n",
    "warnings.filterwarnings(\"ignore\")\n",
    "\n",
    "\n",
    "import sqlite3\n",
    "import pandas as pd\n",
    "import numpy as np\n",
    "import nltk\n",
    "import string\n",
    "import matplotlib.pyplot as plt\n",
    "import seaborn as sns\n",
    "from sklearn.feature_extraction.text import TfidfTransformer\n",
    "from sklearn.feature_extraction.text import TfidfVectorizer\n",
    "\n",
    "from sklearn.feature_extraction.text import CountVectorizer\n",
    "from sklearn.metrics import confusion_matrix\n",
    "from sklearn import metrics\n",
    "from sklearn.metrics import roc_curve, auc\n",
    "from nltk.stem.porter import PorterStemmer\n",
    "\n",
    "import re\n",
    "# Tutorial about Python regular expressions: https://pymotw.com/2/re/\n",
    "import string\n",
    "from nltk.corpus import stopwords\n",
    "from nltk.stem import PorterStemmer\n",
    "from nltk.stem.wordnet import WordNetLemmatizer\n",
    "\n",
    "from gensim.models import Word2Vec\n",
    "from gensim.models import KeyedVectors\n",
    "import pickle\n",
    "\n",
    "from tqdm import tqdm\n",
    "import os"
   ]
  },
  {
   "cell_type": "code",
   "execution_count": 2,
   "metadata": {
    "colab": {},
    "colab_type": "code",
    "id": "j3kshrC-iWNI",
    "outputId": "07826916-2c3f-4a0a-e928-ddbc6d567a11"
   },
   "outputs": [
    {
     "name": "stdout",
     "output_type": "stream",
     "text": [
      "Number of data points in our data (100000, 10)\n"
     ]
    },
    {
     "data": {
      "text/html": [
       "<div>\n",
       "<style scoped>\n",
       "    .dataframe tbody tr th:only-of-type {\n",
       "        vertical-align: middle;\n",
       "    }\n",
       "\n",
       "    .dataframe tbody tr th {\n",
       "        vertical-align: top;\n",
       "    }\n",
       "\n",
       "    .dataframe thead th {\n",
       "        text-align: right;\n",
       "    }\n",
       "</style>\n",
       "<table border=\"1\" class=\"dataframe\">\n",
       "  <thead>\n",
       "    <tr style=\"text-align: right;\">\n",
       "      <th></th>\n",
       "      <th>Id</th>\n",
       "      <th>ProductId</th>\n",
       "      <th>UserId</th>\n",
       "      <th>ProfileName</th>\n",
       "      <th>HelpfulnessNumerator</th>\n",
       "      <th>HelpfulnessDenominator</th>\n",
       "      <th>Score</th>\n",
       "      <th>Time</th>\n",
       "      <th>Summary</th>\n",
       "      <th>Text</th>\n",
       "    </tr>\n",
       "  </thead>\n",
       "  <tbody>\n",
       "    <tr>\n",
       "      <th>0</th>\n",
       "      <td>1</td>\n",
       "      <td>B001E4KFG0</td>\n",
       "      <td>A3SGXH7AUHU8GW</td>\n",
       "      <td>delmartian</td>\n",
       "      <td>1</td>\n",
       "      <td>1</td>\n",
       "      <td>1</td>\n",
       "      <td>1303862400</td>\n",
       "      <td>Good Quality Dog Food</td>\n",
       "      <td>I have bought several of the Vitality canned d...</td>\n",
       "    </tr>\n",
       "    <tr>\n",
       "      <th>1</th>\n",
       "      <td>2</td>\n",
       "      <td>B00813GRG4</td>\n",
       "      <td>A1D87F6ZCVE5NK</td>\n",
       "      <td>dll pa</td>\n",
       "      <td>0</td>\n",
       "      <td>0</td>\n",
       "      <td>0</td>\n",
       "      <td>1346976000</td>\n",
       "      <td>Not as Advertised</td>\n",
       "      <td>Product arrived labeled as Jumbo Salted Peanut...</td>\n",
       "    </tr>\n",
       "    <tr>\n",
       "      <th>2</th>\n",
       "      <td>3</td>\n",
       "      <td>B000LQOCH0</td>\n",
       "      <td>ABXLMWJIXXAIN</td>\n",
       "      <td>Natalia Corres \"Natalia Corres\"</td>\n",
       "      <td>1</td>\n",
       "      <td>1</td>\n",
       "      <td>1</td>\n",
       "      <td>1219017600</td>\n",
       "      <td>\"Delight\" says it all</td>\n",
       "      <td>This is a confection that has been around a fe...</td>\n",
       "    </tr>\n",
       "  </tbody>\n",
       "</table>\n",
       "</div>"
      ],
      "text/plain": [
       "   Id   ProductId          UserId                      ProfileName  \\\n",
       "0   1  B001E4KFG0  A3SGXH7AUHU8GW                       delmartian   \n",
       "1   2  B00813GRG4  A1D87F6ZCVE5NK                           dll pa   \n",
       "2   3  B000LQOCH0   ABXLMWJIXXAIN  Natalia Corres \"Natalia Corres\"   \n",
       "\n",
       "   HelpfulnessNumerator  HelpfulnessDenominator  Score        Time  \\\n",
       "0                     1                       1      1  1303862400   \n",
       "1                     0                       0      0  1346976000   \n",
       "2                     1                       1      1  1219017600   \n",
       "\n",
       "                 Summary                                               Text  \n",
       "0  Good Quality Dog Food  I have bought several of the Vitality canned d...  \n",
       "1      Not as Advertised  Product arrived labeled as Jumbo Salted Peanut...  \n",
       "2  \"Delight\" says it all  This is a confection that has been around a fe...  "
      ]
     },
     "execution_count": 2,
     "metadata": {},
     "output_type": "execute_result"
    }
   ],
   "source": [
    "# using SQLite Table to read data.\n",
    "con = sqlite3.connect('database.sqlite') \n",
    "\n",
    "# filtering only positive and negative reviews i.e. \n",
    "# not taking into consideration those reviews with Score=3\n",
    "# SELECT * FROM Reviews WHERE Score != 3 LIMIT 500000, will give top 500000 data points\n",
    "# you can change the number to any other number based on your computing power\n",
    "\n",
    "# filtered_data = pd.read_sql_query(\"\"\" SELECT * FROM Reviews WHERE Score != 3 LIMIT 500000\"\"\", con) \n",
    "# for tsne assignment you can take 5k data points\n",
    "\n",
    "filtered_data = pd.read_sql_query(\"\"\" SELECT * FROM Reviews WHERE Score != 3 LIMIT 100000\"\"\", con) \n",
    "\n",
    "# Give reviews with Score>3 a positive rating(1), and reviews with a score<3 a negative rating(0).\n",
    "def partition(x):\n",
    "    if x < 3:\n",
    "        return 0\n",
    "    return 1\n",
    "\n",
    "#changing reviews with score less than 3 to be positive and vice-versa\n",
    "actualScore = filtered_data['Score']\n",
    "positiveNegative = actualScore.map(partition) \n",
    "filtered_data['Score'] = positiveNegative\n",
    "print(\"Number of data points in our data\", filtered_data.shape)\n",
    "filtered_data.head(3)"
   ]
  },
  {
   "cell_type": "code",
   "execution_count": 3,
   "metadata": {
    "colab": {},
    "colab_type": "code",
    "id": "-7Iy8yWfiWNR"
   },
   "outputs": [],
   "source": [
    "display = pd.read_sql_query(\"\"\"\n",
    "SELECT UserId, ProductId, ProfileName, Time, Score, Text, COUNT(*)\n",
    "FROM Reviews\n",
    "GROUP BY UserId\n",
    "HAVING COUNT(*)>1\n",
    "\"\"\", con)"
   ]
  },
  {
   "cell_type": "code",
   "execution_count": 4,
   "metadata": {
    "colab": {},
    "colab_type": "code",
    "id": "wuK6OYpOiWNV",
    "outputId": "5cb5082e-47b9-4d4b-cf90-fc6ffe0dceeb",
    "scrolled": true
   },
   "outputs": [
    {
     "name": "stdout",
     "output_type": "stream",
     "text": [
      "(80668, 7)\n"
     ]
    },
    {
     "data": {
      "text/html": [
       "<div>\n",
       "<style scoped>\n",
       "    .dataframe tbody tr th:only-of-type {\n",
       "        vertical-align: middle;\n",
       "    }\n",
       "\n",
       "    .dataframe tbody tr th {\n",
       "        vertical-align: top;\n",
       "    }\n",
       "\n",
       "    .dataframe thead th {\n",
       "        text-align: right;\n",
       "    }\n",
       "</style>\n",
       "<table border=\"1\" class=\"dataframe\">\n",
       "  <thead>\n",
       "    <tr style=\"text-align: right;\">\n",
       "      <th></th>\n",
       "      <th>UserId</th>\n",
       "      <th>ProductId</th>\n",
       "      <th>ProfileName</th>\n",
       "      <th>Time</th>\n",
       "      <th>Score</th>\n",
       "      <th>Text</th>\n",
       "      <th>COUNT(*)</th>\n",
       "    </tr>\n",
       "  </thead>\n",
       "  <tbody>\n",
       "    <tr>\n",
       "      <th>0</th>\n",
       "      <td>#oc-R115TNMSPFT9I7</td>\n",
       "      <td>B007Y59HVM</td>\n",
       "      <td>Breyton</td>\n",
       "      <td>1331510400</td>\n",
       "      <td>2</td>\n",
       "      <td>Overall its just OK when considering the price...</td>\n",
       "      <td>2</td>\n",
       "    </tr>\n",
       "    <tr>\n",
       "      <th>1</th>\n",
       "      <td>#oc-R11D9D7SHXIJB9</td>\n",
       "      <td>B005HG9ET0</td>\n",
       "      <td>Louis E. Emory \"hoppy\"</td>\n",
       "      <td>1342396800</td>\n",
       "      <td>5</td>\n",
       "      <td>My wife has recurring extreme muscle spasms, u...</td>\n",
       "      <td>3</td>\n",
       "    </tr>\n",
       "    <tr>\n",
       "      <th>2</th>\n",
       "      <td>#oc-R11DNU2NBKQ23Z</td>\n",
       "      <td>B007Y59HVM</td>\n",
       "      <td>Kim Cieszykowski</td>\n",
       "      <td>1348531200</td>\n",
       "      <td>1</td>\n",
       "      <td>This coffee is horrible and unfortunately not ...</td>\n",
       "      <td>2</td>\n",
       "    </tr>\n",
       "    <tr>\n",
       "      <th>3</th>\n",
       "      <td>#oc-R11O5J5ZVQE25C</td>\n",
       "      <td>B005HG9ET0</td>\n",
       "      <td>Penguin Chick</td>\n",
       "      <td>1346889600</td>\n",
       "      <td>5</td>\n",
       "      <td>This will be the bottle that you grab from the...</td>\n",
       "      <td>3</td>\n",
       "    </tr>\n",
       "    <tr>\n",
       "      <th>4</th>\n",
       "      <td>#oc-R12KPBODL2B5ZD</td>\n",
       "      <td>B007OSBE1U</td>\n",
       "      <td>Christopher P. Presta</td>\n",
       "      <td>1348617600</td>\n",
       "      <td>1</td>\n",
       "      <td>I didnt like this coffee. Instead of telling y...</td>\n",
       "      <td>2</td>\n",
       "    </tr>\n",
       "  </tbody>\n",
       "</table>\n",
       "</div>"
      ],
      "text/plain": [
       "               UserId   ProductId             ProfileName        Time  Score  \\\n",
       "0  #oc-R115TNMSPFT9I7  B007Y59HVM                 Breyton  1331510400      2   \n",
       "1  #oc-R11D9D7SHXIJB9  B005HG9ET0  Louis E. Emory \"hoppy\"  1342396800      5   \n",
       "2  #oc-R11DNU2NBKQ23Z  B007Y59HVM        Kim Cieszykowski  1348531200      1   \n",
       "3  #oc-R11O5J5ZVQE25C  B005HG9ET0           Penguin Chick  1346889600      5   \n",
       "4  #oc-R12KPBODL2B5ZD  B007OSBE1U   Christopher P. Presta  1348617600      1   \n",
       "\n",
       "                                                Text  COUNT(*)  \n",
       "0  Overall its just OK when considering the price...         2  \n",
       "1  My wife has recurring extreme muscle spasms, u...         3  \n",
       "2  This coffee is horrible and unfortunately not ...         2  \n",
       "3  This will be the bottle that you grab from the...         3  \n",
       "4  I didnt like this coffee. Instead of telling y...         2  "
      ]
     },
     "execution_count": 4,
     "metadata": {},
     "output_type": "execute_result"
    }
   ],
   "source": [
    "print(display.shape)\n",
    "display.head()"
   ]
  },
  {
   "cell_type": "code",
   "execution_count": 5,
   "metadata": {
    "colab": {},
    "colab_type": "code",
    "id": "OMKVKkH7iWNZ",
    "outputId": "acc9d31a-27a1-48a1-d2f2-ce1f2e511793"
   },
   "outputs": [
    {
     "data": {
      "text/html": [
       "<div>\n",
       "<style scoped>\n",
       "    .dataframe tbody tr th:only-of-type {\n",
       "        vertical-align: middle;\n",
       "    }\n",
       "\n",
       "    .dataframe tbody tr th {\n",
       "        vertical-align: top;\n",
       "    }\n",
       "\n",
       "    .dataframe thead th {\n",
       "        text-align: right;\n",
       "    }\n",
       "</style>\n",
       "<table border=\"1\" class=\"dataframe\">\n",
       "  <thead>\n",
       "    <tr style=\"text-align: right;\">\n",
       "      <th></th>\n",
       "      <th>UserId</th>\n",
       "      <th>ProductId</th>\n",
       "      <th>ProfileName</th>\n",
       "      <th>Time</th>\n",
       "      <th>Score</th>\n",
       "      <th>Text</th>\n",
       "      <th>COUNT(*)</th>\n",
       "    </tr>\n",
       "  </thead>\n",
       "  <tbody>\n",
       "    <tr>\n",
       "      <th>80638</th>\n",
       "      <td>AZY10LLTJ71NX</td>\n",
       "      <td>B006P7E5ZI</td>\n",
       "      <td>undertheshrine \"undertheshrine\"</td>\n",
       "      <td>1334707200</td>\n",
       "      <td>5</td>\n",
       "      <td>I was recommended to try green tea extract to ...</td>\n",
       "      <td>5</td>\n",
       "    </tr>\n",
       "  </tbody>\n",
       "</table>\n",
       "</div>"
      ],
      "text/plain": [
       "              UserId   ProductId                      ProfileName        Time  \\\n",
       "80638  AZY10LLTJ71NX  B006P7E5ZI  undertheshrine \"undertheshrine\"  1334707200   \n",
       "\n",
       "       Score                                               Text  COUNT(*)  \n",
       "80638      5  I was recommended to try green tea extract to ...         5  "
      ]
     },
     "execution_count": 5,
     "metadata": {},
     "output_type": "execute_result"
    }
   ],
   "source": [
    "display[display['UserId']=='AZY10LLTJ71NX']"
   ]
  },
  {
   "cell_type": "code",
   "execution_count": 6,
   "metadata": {
    "colab": {},
    "colab_type": "code",
    "id": "s37uqS_jiWNe",
    "outputId": "489f08d4-48a2-4e82-bfc1-4f982f35b2e4"
   },
   "outputs": [
    {
     "data": {
      "text/plain": [
       "393063"
      ]
     },
     "execution_count": 6,
     "metadata": {},
     "output_type": "execute_result"
    }
   ],
   "source": [
    "display['COUNT(*)'].sum()"
   ]
  },
  {
   "cell_type": "markdown",
   "metadata": {
    "colab_type": "text",
    "id": "efnNNqNfiWNh"
   },
   "source": [
    "#  [2] Exploratory Data Analysis"
   ]
  },
  {
   "cell_type": "markdown",
   "metadata": {
    "colab_type": "text",
    "id": "Eq0hnbxhiWNi"
   },
   "source": [
    "## [2.1] Data Cleaning: Deduplication\n",
    "\n",
    "It is observed (as shown in the table below) that the reviews data had many duplicate entries. Hence it was necessary to remove duplicates in order to get unbiased results for the analysis of the data.  Following is an example:"
   ]
  },
  {
   "cell_type": "code",
   "execution_count": 7,
   "metadata": {
    "colab": {},
    "colab_type": "code",
    "id": "3CKLJ2FFiWNj",
    "outputId": "c995e0c8-7ef1-48a0-d7a9-b0cc50efaa83",
    "scrolled": false
   },
   "outputs": [
    {
     "data": {
      "text/html": [
       "<div>\n",
       "<style scoped>\n",
       "    .dataframe tbody tr th:only-of-type {\n",
       "        vertical-align: middle;\n",
       "    }\n",
       "\n",
       "    .dataframe tbody tr th {\n",
       "        vertical-align: top;\n",
       "    }\n",
       "\n",
       "    .dataframe thead th {\n",
       "        text-align: right;\n",
       "    }\n",
       "</style>\n",
       "<table border=\"1\" class=\"dataframe\">\n",
       "  <thead>\n",
       "    <tr style=\"text-align: right;\">\n",
       "      <th></th>\n",
       "      <th>Id</th>\n",
       "      <th>ProductId</th>\n",
       "      <th>UserId</th>\n",
       "      <th>ProfileName</th>\n",
       "      <th>HelpfulnessNumerator</th>\n",
       "      <th>HelpfulnessDenominator</th>\n",
       "      <th>Score</th>\n",
       "      <th>Time</th>\n",
       "      <th>Summary</th>\n",
       "      <th>Text</th>\n",
       "    </tr>\n",
       "  </thead>\n",
       "  <tbody>\n",
       "    <tr>\n",
       "      <th>0</th>\n",
       "      <td>78445</td>\n",
       "      <td>B000HDL1RQ</td>\n",
       "      <td>AR5J8UI46CURR</td>\n",
       "      <td>Geetha Krishnan</td>\n",
       "      <td>2</td>\n",
       "      <td>2</td>\n",
       "      <td>5</td>\n",
       "      <td>1199577600</td>\n",
       "      <td>LOACKER QUADRATINI VANILLA WAFERS</td>\n",
       "      <td>DELICIOUS WAFERS. I FIND THAT EUROPEAN WAFERS ...</td>\n",
       "    </tr>\n",
       "    <tr>\n",
       "      <th>1</th>\n",
       "      <td>138317</td>\n",
       "      <td>B000HDOPYC</td>\n",
       "      <td>AR5J8UI46CURR</td>\n",
       "      <td>Geetha Krishnan</td>\n",
       "      <td>2</td>\n",
       "      <td>2</td>\n",
       "      <td>5</td>\n",
       "      <td>1199577600</td>\n",
       "      <td>LOACKER QUADRATINI VANILLA WAFERS</td>\n",
       "      <td>DELICIOUS WAFERS. I FIND THAT EUROPEAN WAFERS ...</td>\n",
       "    </tr>\n",
       "    <tr>\n",
       "      <th>2</th>\n",
       "      <td>138277</td>\n",
       "      <td>B000HDOPYM</td>\n",
       "      <td>AR5J8UI46CURR</td>\n",
       "      <td>Geetha Krishnan</td>\n",
       "      <td>2</td>\n",
       "      <td>2</td>\n",
       "      <td>5</td>\n",
       "      <td>1199577600</td>\n",
       "      <td>LOACKER QUADRATINI VANILLA WAFERS</td>\n",
       "      <td>DELICIOUS WAFERS. I FIND THAT EUROPEAN WAFERS ...</td>\n",
       "    </tr>\n",
       "    <tr>\n",
       "      <th>3</th>\n",
       "      <td>73791</td>\n",
       "      <td>B000HDOPZG</td>\n",
       "      <td>AR5J8UI46CURR</td>\n",
       "      <td>Geetha Krishnan</td>\n",
       "      <td>2</td>\n",
       "      <td>2</td>\n",
       "      <td>5</td>\n",
       "      <td>1199577600</td>\n",
       "      <td>LOACKER QUADRATINI VANILLA WAFERS</td>\n",
       "      <td>DELICIOUS WAFERS. I FIND THAT EUROPEAN WAFERS ...</td>\n",
       "    </tr>\n",
       "    <tr>\n",
       "      <th>4</th>\n",
       "      <td>155049</td>\n",
       "      <td>B000PAQ75C</td>\n",
       "      <td>AR5J8UI46CURR</td>\n",
       "      <td>Geetha Krishnan</td>\n",
       "      <td>2</td>\n",
       "      <td>2</td>\n",
       "      <td>5</td>\n",
       "      <td>1199577600</td>\n",
       "      <td>LOACKER QUADRATINI VANILLA WAFERS</td>\n",
       "      <td>DELICIOUS WAFERS. I FIND THAT EUROPEAN WAFERS ...</td>\n",
       "    </tr>\n",
       "  </tbody>\n",
       "</table>\n",
       "</div>"
      ],
      "text/plain": [
       "       Id   ProductId         UserId      ProfileName  HelpfulnessNumerator  \\\n",
       "0   78445  B000HDL1RQ  AR5J8UI46CURR  Geetha Krishnan                     2   \n",
       "1  138317  B000HDOPYC  AR5J8UI46CURR  Geetha Krishnan                     2   \n",
       "2  138277  B000HDOPYM  AR5J8UI46CURR  Geetha Krishnan                     2   \n",
       "3   73791  B000HDOPZG  AR5J8UI46CURR  Geetha Krishnan                     2   \n",
       "4  155049  B000PAQ75C  AR5J8UI46CURR  Geetha Krishnan                     2   \n",
       "\n",
       "   HelpfulnessDenominator  Score        Time  \\\n",
       "0                       2      5  1199577600   \n",
       "1                       2      5  1199577600   \n",
       "2                       2      5  1199577600   \n",
       "3                       2      5  1199577600   \n",
       "4                       2      5  1199577600   \n",
       "\n",
       "                             Summary  \\\n",
       "0  LOACKER QUADRATINI VANILLA WAFERS   \n",
       "1  LOACKER QUADRATINI VANILLA WAFERS   \n",
       "2  LOACKER QUADRATINI VANILLA WAFERS   \n",
       "3  LOACKER QUADRATINI VANILLA WAFERS   \n",
       "4  LOACKER QUADRATINI VANILLA WAFERS   \n",
       "\n",
       "                                                Text  \n",
       "0  DELICIOUS WAFERS. I FIND THAT EUROPEAN WAFERS ...  \n",
       "1  DELICIOUS WAFERS. I FIND THAT EUROPEAN WAFERS ...  \n",
       "2  DELICIOUS WAFERS. I FIND THAT EUROPEAN WAFERS ...  \n",
       "3  DELICIOUS WAFERS. I FIND THAT EUROPEAN WAFERS ...  \n",
       "4  DELICIOUS WAFERS. I FIND THAT EUROPEAN WAFERS ...  "
      ]
     },
     "execution_count": 7,
     "metadata": {},
     "output_type": "execute_result"
    }
   ],
   "source": [
    "display= pd.read_sql_query(\"\"\"\n",
    "SELECT *\n",
    "FROM Reviews\n",
    "WHERE Score != 3 AND UserId=\"AR5J8UI46CURR\"\n",
    "ORDER BY ProductID\n",
    "\"\"\", con)\n",
    "display.head()"
   ]
  },
  {
   "cell_type": "markdown",
   "metadata": {
    "colab_type": "text",
    "id": "GmHe67iviWNn"
   },
   "source": [
    "As it can be seen above that same user has multiple reviews with same values for HelpfulnessNumerator, HelpfulnessDenominator, Score, Time, Summary and Text and on doing analysis it was found that <br>\n",
    "<br> \n",
    "ProductId=B000HDOPZG was Loacker Quadratini Vanilla Wafer Cookies, 8.82-Ounce Packages (Pack of 8)<br>\n",
    "<br> \n",
    "ProductId=B000HDL1RQ was Loacker Quadratini Lemon Wafer Cookies, 8.82-Ounce Packages (Pack of 8) and so on<br>\n",
    "\n",
    "It was inferred after analysis that reviews with same parameters other than ProductId belonged to the same product just having different flavour or quantity. Hence in order to reduce redundancy it was decided to eliminate the rows having same parameters.<br>\n",
    "\n",
    "The method used for the same was that we first sort the data according to ProductId and then just keep the first similar product review and delelte the others. for eg. in the above just the review for ProductId=B000HDL1RQ remains. This method ensures that there is only one representative for each product and deduplication without sorting would lead to possibility of different representatives still existing for the same product."
   ]
  },
  {
   "cell_type": "code",
   "execution_count": 8,
   "metadata": {
    "colab": {},
    "colab_type": "code",
    "id": "wgmdXIJviWNn"
   },
   "outputs": [],
   "source": [
    "#Sorting data according to ProductId in ascending order\n",
    "sorted_data=filtered_data.sort_values('ProductId', axis=0, ascending=True, inplace=False, kind='quicksort', na_position='last')"
   ]
  },
  {
   "cell_type": "code",
   "execution_count": 9,
   "metadata": {
    "colab": {},
    "colab_type": "code",
    "id": "ComjQ0rHiWNp",
    "outputId": "1c155404-4bb7-4078-c46b-1a9a33ac0602"
   },
   "outputs": [
    {
     "data": {
      "text/plain": [
       "(87775, 10)"
      ]
     },
     "execution_count": 9,
     "metadata": {},
     "output_type": "execute_result"
    }
   ],
   "source": [
    "#Deduplication of entries\n",
    "final=sorted_data.drop_duplicates(subset={\"UserId\",\"ProfileName\",\"Time\",\"Text\"}, keep='first', inplace=False)\n",
    "final.shape"
   ]
  },
  {
   "cell_type": "code",
   "execution_count": 10,
   "metadata": {
    "colab": {},
    "colab_type": "code",
    "id": "yFrWiU23iWNt",
    "outputId": "b9d26952-d8af-4fbb-eb3d-c6a28abcc029"
   },
   "outputs": [
    {
     "data": {
      "text/plain": [
       "87.775"
      ]
     },
     "execution_count": 10,
     "metadata": {},
     "output_type": "execute_result"
    }
   ],
   "source": [
    "#Checking to see how much % of data still remains\n",
    "(final['Id'].size*1.0)/(filtered_data['Id'].size*1.0)*100"
   ]
  },
  {
   "cell_type": "markdown",
   "metadata": {
    "colab_type": "text",
    "id": "g4lvCHn6iWNw"
   },
   "source": [
    "<b>Observation:-</b> It was also seen that in two rows given below the value of HelpfulnessNumerator is greater than HelpfulnessDenominator which is not practically possible hence these two rows too are removed from calcualtions"
   ]
  },
  {
   "cell_type": "code",
   "execution_count": 11,
   "metadata": {
    "colab": {},
    "colab_type": "code",
    "id": "6ehzwEdgiWNw",
    "outputId": "60e18da4-784f-49d8-84b7-59823cfa3e85"
   },
   "outputs": [
    {
     "data": {
      "text/html": [
       "<div>\n",
       "<style scoped>\n",
       "    .dataframe tbody tr th:only-of-type {\n",
       "        vertical-align: middle;\n",
       "    }\n",
       "\n",
       "    .dataframe tbody tr th {\n",
       "        vertical-align: top;\n",
       "    }\n",
       "\n",
       "    .dataframe thead th {\n",
       "        text-align: right;\n",
       "    }\n",
       "</style>\n",
       "<table border=\"1\" class=\"dataframe\">\n",
       "  <thead>\n",
       "    <tr style=\"text-align: right;\">\n",
       "      <th></th>\n",
       "      <th>Id</th>\n",
       "      <th>ProductId</th>\n",
       "      <th>UserId</th>\n",
       "      <th>ProfileName</th>\n",
       "      <th>HelpfulnessNumerator</th>\n",
       "      <th>HelpfulnessDenominator</th>\n",
       "      <th>Score</th>\n",
       "      <th>Time</th>\n",
       "      <th>Summary</th>\n",
       "      <th>Text</th>\n",
       "    </tr>\n",
       "  </thead>\n",
       "  <tbody>\n",
       "    <tr>\n",
       "      <th>0</th>\n",
       "      <td>64422</td>\n",
       "      <td>B000MIDROQ</td>\n",
       "      <td>A161DK06JJMCYF</td>\n",
       "      <td>J. E. Stephens \"Jeanne\"</td>\n",
       "      <td>3</td>\n",
       "      <td>1</td>\n",
       "      <td>5</td>\n",
       "      <td>1224892800</td>\n",
       "      <td>Bought This for My Son at College</td>\n",
       "      <td>My son loves spaghetti so I didn't hesitate or...</td>\n",
       "    </tr>\n",
       "    <tr>\n",
       "      <th>1</th>\n",
       "      <td>44737</td>\n",
       "      <td>B001EQ55RW</td>\n",
       "      <td>A2V0I904FH7ABY</td>\n",
       "      <td>Ram</td>\n",
       "      <td>3</td>\n",
       "      <td>2</td>\n",
       "      <td>4</td>\n",
       "      <td>1212883200</td>\n",
       "      <td>Pure cocoa taste with crunchy almonds inside</td>\n",
       "      <td>It was almost a 'love at first bite' - the per...</td>\n",
       "    </tr>\n",
       "  </tbody>\n",
       "</table>\n",
       "</div>"
      ],
      "text/plain": [
       "      Id   ProductId          UserId              ProfileName  \\\n",
       "0  64422  B000MIDROQ  A161DK06JJMCYF  J. E. Stephens \"Jeanne\"   \n",
       "1  44737  B001EQ55RW  A2V0I904FH7ABY                      Ram   \n",
       "\n",
       "   HelpfulnessNumerator  HelpfulnessDenominator  Score        Time  \\\n",
       "0                     3                       1      5  1224892800   \n",
       "1                     3                       2      4  1212883200   \n",
       "\n",
       "                                        Summary  \\\n",
       "0             Bought This for My Son at College   \n",
       "1  Pure cocoa taste with crunchy almonds inside   \n",
       "\n",
       "                                                Text  \n",
       "0  My son loves spaghetti so I didn't hesitate or...  \n",
       "1  It was almost a 'love at first bite' - the per...  "
      ]
     },
     "execution_count": 11,
     "metadata": {},
     "output_type": "execute_result"
    }
   ],
   "source": [
    "display= pd.read_sql_query(\"\"\"\n",
    "SELECT *\n",
    "FROM Reviews\n",
    "WHERE Score != 3 AND Id=44737 OR Id=64422\n",
    "ORDER BY ProductID\n",
    "\"\"\", con)\n",
    "\n",
    "display.head()"
   ]
  },
  {
   "cell_type": "code",
   "execution_count": 12,
   "metadata": {
    "colab": {},
    "colab_type": "code",
    "id": "EBa1d6gViWNz"
   },
   "outputs": [],
   "source": [
    "final=final[final.HelpfulnessNumerator<=final.HelpfulnessDenominator]"
   ]
  },
  {
   "cell_type": "code",
   "execution_count": 13,
   "metadata": {
    "colab": {},
    "colab_type": "code",
    "id": "KNQ01asjiWN1",
    "outputId": "0d2433fb-dd33-41cd-a18d-110d776f60b4"
   },
   "outputs": [
    {
     "name": "stdout",
     "output_type": "stream",
     "text": [
      "(87773, 10)\n"
     ]
    },
    {
     "data": {
      "text/plain": [
       "1    73592\n",
       "0    14181\n",
       "Name: Score, dtype: int64"
      ]
     },
     "execution_count": 13,
     "metadata": {},
     "output_type": "execute_result"
    }
   ],
   "source": [
    "#Before starting the next phase of preprocessing lets see the number of entries left\n",
    "print(final.shape)\n",
    "\n",
    "#How many positive and negative reviews are present in our dataset?\n",
    "final['Score'].value_counts()"
   ]
  },
  {
   "cell_type": "markdown",
   "metadata": {
    "colab_type": "text",
    "id": "92IZ5ea0iWN4"
   },
   "source": [
    "#  [3] Preprocessing"
   ]
  },
  {
   "cell_type": "markdown",
   "metadata": {
    "colab_type": "text",
    "id": "NTwQITJKiWN5"
   },
   "source": [
    "## [3.1].  Preprocessing Review Text\n",
    "\n",
    "Now that we have finished deduplication our data requires some preprocessing before we go on further with analysis and making the prediction model.\n",
    "\n",
    "Hence in the Preprocessing phase we do the following in the order below:-\n",
    "\n",
    "1. Begin by removing the html tags\n",
    "2. Remove any punctuations or limited set of special characters like , or . or # etc.\n",
    "3. Check if the word is made up of english letters and is not alpha-numeric\n",
    "4. Check to see if the length of the word is greater than 2 (as it was researched that there is no adjective in 2-letters)\n",
    "5. Convert the word to lowercase\n",
    "6. Remove Stopwords\n",
    "7. Finally Snowball Stemming the word (it was obsereved to be better than Porter Stemming)<br>\n",
    "\n",
    "After which we collect the words used to describe positive and negative reviews"
   ]
  },
  {
   "cell_type": "code",
   "execution_count": 14,
   "metadata": {
    "colab": {},
    "colab_type": "code",
    "id": "kTCxT5aWiWN5",
    "outputId": "64588cda-64b3-47f0-8d01-941e1cc85cc5"
   },
   "outputs": [
    {
     "name": "stdout",
     "output_type": "stream",
     "text": [
      "My dogs loves this chicken but its a product from China, so we wont be buying it anymore.  Its very hard to find any chicken products made in the USA but they are out there, but this one isnt.  Its too bad too because its a good product but I wont take any chances till they know what is going on with the china imports.\n",
      "==================================================\n",
      "The Candy Blocks were a nice visual for the Lego Birthday party but the candy has little taste to it.  Very little of the 2 lbs that I bought were eaten and I threw the rest away.  I would not buy the candy again.\n",
      "==================================================\n",
      "was way to hot for my blood, took a bite and did a jig  lol\n",
      "==================================================\n",
      "I have fructose malabsorption which means I can't have anything with high fructose corn syrup unless I want to be very ill afterward.  Sadly, I also love ginger ale.<br /><br />I've tried countless HFCS-free ginger ales and drinks and this is, hands down, the best.  I'm so happy that Amazon now carries it!\n",
      "==================================================\n"
     ]
    }
   ],
   "source": [
    "# printing some random reviews\n",
    "sent_0 = final['Text'].values[0]\n",
    "print(sent_0)\n",
    "print(\"=\"*50)\n",
    "\n",
    "sent_1000 = final['Text'].values[1000]\n",
    "print(sent_1000)\n",
    "print(\"=\"*50)\n",
    "\n",
    "sent_1500 = final['Text'].values[1500]\n",
    "print(sent_1500)\n",
    "print(\"=\"*50)\n",
    "\n",
    "sent_4900 = final['Text'].values[1900]\n",
    "print(sent_4900)\n",
    "print(\"=\"*50)"
   ]
  },
  {
   "cell_type": "code",
   "execution_count": 15,
   "metadata": {
    "colab": {},
    "colab_type": "code",
    "id": "iX3VndCPiWN8",
    "outputId": "7f8cad02-65a6-4530-e7e1-bb6775877737"
   },
   "outputs": [
    {
     "name": "stdout",
     "output_type": "stream",
     "text": [
      "My dogs loves this chicken but its a product from China, so we wont be buying it anymore.  Its very hard to find any chicken products made in the USA but they are out there, but this one isnt.  Its too bad too because its a good product but I wont take any chances till they know what is going on with the china imports.\n"
     ]
    }
   ],
   "source": [
    "# remove urls from text python: https://stackoverflow.com/a/40823105/4084039\n",
    "sent_0 = re.sub(r\"http\\S+\", \"\", sent_0)\n",
    "sent_1000 = re.sub(r\"http\\S+\", \"\", sent_1000)\n",
    "sent_150 = re.sub(r\"http\\S+\", \"\", sent_1500)\n",
    "sent_4900 = re.sub(r\"http\\S+\", \"\", sent_4900)\n",
    "\n",
    "print(sent_0)"
   ]
  },
  {
   "cell_type": "code",
   "execution_count": 16,
   "metadata": {
    "colab": {},
    "colab_type": "code",
    "id": "DyO7iqEriWN_",
    "outputId": "2a010a1c-574d-409f-d725-c726a25d3e70"
   },
   "outputs": [
    {
     "name": "stdout",
     "output_type": "stream",
     "text": [
      "My dogs loves this chicken but its a product from China, so we wont be buying it anymore.  Its very hard to find any chicken products made in the USA but they are out there, but this one isnt.  Its too bad too because its a good product but I wont take any chances till they know what is going on with the china imports.\n",
      "==================================================\n",
      "The Candy Blocks were a nice visual for the Lego Birthday party but the candy has little taste to it.  Very little of the 2 lbs that I bought were eaten and I threw the rest away.  I would not buy the candy again.\n",
      "==================================================\n",
      "was way to hot for my blood, took a bite and did a jig  lol\n",
      "==================================================\n",
      "I have fructose malabsorption which means I can't have anything with high fructose corn syrup unless I want to be very ill afterward.  Sadly, I also love ginger ale.I've tried countless HFCS-free ginger ales and drinks and this is, hands down, the best.  I'm so happy that Amazon now carries it!\n"
     ]
    }
   ],
   "source": [
    "# https://stackoverflow.com/questions/16206380/python-beautifulsoup-how-to-remove-all-tags-from-an-element\n",
    "from bs4 import BeautifulSoup\n",
    "\n",
    "soup = BeautifulSoup(sent_0, 'lxml')\n",
    "text = soup.get_text()\n",
    "print(text)\n",
    "print(\"=\"*50)\n",
    "\n",
    "soup = BeautifulSoup(sent_1000, 'lxml')\n",
    "text = soup.get_text()\n",
    "print(text)\n",
    "print(\"=\"*50)\n",
    "\n",
    "soup = BeautifulSoup(sent_1500, 'lxml')\n",
    "text = soup.get_text()\n",
    "print(text)\n",
    "print(\"=\"*50)\n",
    "\n",
    "soup = BeautifulSoup(sent_4900, 'lxml')\n",
    "text = soup.get_text()\n",
    "print(text)"
   ]
  },
  {
   "cell_type": "code",
   "execution_count": 17,
   "metadata": {
    "colab": {},
    "colab_type": "code",
    "id": "qzIaKh8niWOC"
   },
   "outputs": [],
   "source": [
    "# https://stackoverflow.com/a/47091490/4084039\n",
    "import re\n",
    "\n",
    "def decontracted(phrase):\n",
    "    # specific\n",
    "    phrase = re.sub(r\"won't\", \"will not\", phrase)\n",
    "    phrase = re.sub(r\"can\\'t\", \"can not\", phrase)\n",
    "\n",
    "    # general\n",
    "    phrase = re.sub(r\"n\\'t\", \" not\", phrase)\n",
    "    phrase = re.sub(r\"\\'re\", \" are\", phrase)\n",
    "    phrase = re.sub(r\"\\'s\", \" is\", phrase)\n",
    "    phrase = re.sub(r\"\\'d\", \" would\", phrase)\n",
    "    phrase = re.sub(r\"\\'ll\", \" will\", phrase)\n",
    "    phrase = re.sub(r\"\\'t\", \" not\", phrase)\n",
    "    phrase = re.sub(r\"\\'ve\", \" have\", phrase)\n",
    "    phrase = re.sub(r\"\\'m\", \" am\", phrase)\n",
    "    return phrase"
   ]
  },
  {
   "cell_type": "code",
   "execution_count": 18,
   "metadata": {
    "colab": {},
    "colab_type": "code",
    "id": "Esa29-JwiWOD",
    "outputId": "be726596-752d-489b-d311-f4180ac83ac4"
   },
   "outputs": [
    {
     "name": "stdout",
     "output_type": "stream",
     "text": [
      "was way to hot for my blood, took a bite and did a jig  lol\n",
      "==================================================\n"
     ]
    }
   ],
   "source": [
    "sent_1500 = decontracted(sent_1500)\n",
    "print(sent_1500)\n",
    "print(\"=\"*50)"
   ]
  },
  {
   "cell_type": "code",
   "execution_count": 19,
   "metadata": {
    "colab": {},
    "colab_type": "code",
    "id": "qf0c7-nXiWOG",
    "outputId": "6104976d-bda8-4de1-9d91-808f3661d53b"
   },
   "outputs": [
    {
     "name": "stdout",
     "output_type": "stream",
     "text": [
      "My dogs loves this chicken but its a product from China, so we wont be buying it anymore.  Its very hard to find any chicken products made in the USA but they are out there, but this one isnt.  Its too bad too because its a good product but I wont take any chances till they know what is going on with the china imports.\n"
     ]
    }
   ],
   "source": [
    "#remove words with numbers python: https://stackoverflow.com/a/18082370/4084039\n",
    "sent_0 = re.sub(\"\\S*\\d\\S*\", \"\", sent_0).strip()\n",
    "print(sent_0)"
   ]
  },
  {
   "cell_type": "code",
   "execution_count": 20,
   "metadata": {
    "colab": {},
    "colab_type": "code",
    "id": "1Z5VK6wxiWOI",
    "outputId": "d3405347-aa6a-4df5-c3d9-2c11441c2385"
   },
   "outputs": [
    {
     "name": "stdout",
     "output_type": "stream",
     "text": [
      "was way to hot for my blood took a bite and did a jig lol\n"
     ]
    }
   ],
   "source": [
    "#remove spacial character: https://stackoverflow.com/a/5843547/4084039\n",
    "sent_1500 = re.sub('[^A-Za-z0-9]+', ' ', sent_1500)\n",
    "print(sent_1500)"
   ]
  },
  {
   "cell_type": "code",
   "execution_count": 21,
   "metadata": {
    "colab": {},
    "colab_type": "code",
    "id": "MfzZtIP1iWOL"
   },
   "outputs": [],
   "source": [
    "# https://gist.github.com/sebleier/554280\n",
    "# we are removing the words from the stop words list: 'no', 'nor', 'not'\n",
    "# <br /><br /> ==> after the above steps, we are getting \"br br\"\n",
    "# we are including them into stop words list\n",
    "# instead of <br /> if we have <br/> these tags would have revmoved in the 1st step\n",
    "\n",
    "stopwords= set(['br', 'the', 'i', 'me', 'my', 'myself', 'we', 'our', 'ours', 'ourselves', 'you', \"you're\", \"you've\",\\\n",
    "            \"you'll\", \"you'd\", 'your', 'yours', 'yourself', 'yourselves', 'he', 'him', 'his', 'himself', \\\n",
    "            'she', \"she's\", 'her', 'hers', 'herself', 'it', \"it's\", 'its', 'itself', 'they', 'them', 'their',\\\n",
    "            'theirs', 'themselves', 'what', 'which', 'who', 'whom', 'this', 'that', \"that'll\", 'these', 'those', \\\n",
    "            'am', 'is', 'are', 'was', 'were', 'be', 'been', 'being', 'have', 'has', 'had', 'having', 'do', 'does', \\\n",
    "            'did', 'doing', 'a', 'an', 'the', 'and', 'but', 'if', 'or', 'because', 'as', 'until', 'while', 'of', \\\n",
    "            'at', 'by', 'for', 'with', 'about', 'against', 'between', 'into', 'through', 'during', 'before', 'after',\\\n",
    "            'above', 'below', 'to', 'from', 'up', 'down', 'in', 'out', 'on', 'off', 'over', 'under', 'again', 'further',\\\n",
    "            'then', 'once', 'here', 'there', 'when', 'where', 'why', 'how', 'all', 'any', 'both', 'each', 'few', 'more',\\\n",
    "            'most', 'other', 'some', 'such', 'only', 'own', 'same', 'so', 'than', 'too', 'very', \\\n",
    "            's', 't', 'can', 'will', 'just', 'don', \"don't\", 'should', \"should've\", 'now', 'd', 'll', 'm', 'o', 're', \\\n",
    "            've', 'y', 'ain', 'aren', \"aren't\", 'couldn', \"couldn't\", 'didn', \"didn't\", 'doesn', \"doesn't\", 'hadn',\\\n",
    "            \"hadn't\", 'hasn', \"hasn't\", 'haven', \"haven't\", 'isn', \"isn't\", 'ma', 'mightn', \"mightn't\", 'mustn',\\\n",
    "            \"mustn't\", 'needn', \"needn't\", 'shan', \"shan't\", 'shouldn', \"shouldn't\", 'wasn', \"wasn't\", 'weren', \"weren't\", \\\n",
    "            'won', \"won't\", 'wouldn', \"wouldn't\"])"
   ]
  },
  {
   "cell_type": "code",
   "execution_count": 22,
   "metadata": {
    "colab": {},
    "colab_type": "code",
    "id": "g1C43tjNiWOM",
    "outputId": "a997afc9-894c-4a56-d538-dadea8a21e6d"
   },
   "outputs": [
    {
     "name": "stderr",
     "output_type": "stream",
     "text": [
      "100%|██████████████████████████████████████████████████████████████████████████| 87773/87773 [00:49<00:00, 1758.57it/s]\n"
     ]
    }
   ],
   "source": [
    "# Combining all the above stundents \n",
    "from tqdm import tqdm\n",
    "preprocessed_reviews = []\n",
    "# tqdm is for printing the status bar\n",
    "for sentance in tqdm(final['Text'].values):\n",
    "    sentance = re.sub(r\"http\\S+\", \"\", sentance)\n",
    "    sentance = BeautifulSoup(sentance, 'lxml').get_text()\n",
    "    sentance = decontracted(sentance)\n",
    "    sentance = re.sub(\"\\S*\\d\\S*\", \"\", sentance).strip()\n",
    "    sentance = re.sub('[^A-Za-z]+', ' ', sentance)\n",
    "    # https://gist.github.com/sebleier/554280\n",
    "    sentance = ' '.join(e.lower() for e in sentance.split() if e.lower() not in stopwords)\n",
    "    preprocessed_reviews.append(sentance.strip())"
   ]
  },
  {
   "cell_type": "code",
   "execution_count": 23,
   "metadata": {
    "colab": {},
    "colab_type": "code",
    "id": "MWDrCFxViWOP",
    "outputId": "5618c9c3-a86a-42a4-e9c4-d24d93fd5a7a"
   },
   "outputs": [
    {
     "data": {
      "text/plain": [
       "'way hot blood took bite jig lol'"
      ]
     },
     "execution_count": 23,
     "metadata": {},
     "output_type": "execute_result"
    }
   ],
   "source": [
    "preprocessed_reviews[1500]"
   ]
  },
  {
   "cell_type": "markdown",
   "metadata": {
    "colab_type": "text",
    "id": "fEu8sShciWOS"
   },
   "source": [
    "<h2><font color='red'>[3.2] Preprocessing Review Summary</font></h2>"
   ]
  },
  {
   "cell_type": "code",
   "execution_count": 30,
   "metadata": {
    "colab": {},
    "colab_type": "code",
    "id": "XP1URIERiWOU"
   },
   "outputs": [],
   "source": [
    "## Similartly you can do preprocessing for review summary also."
   ]
  },
  {
   "cell_type": "markdown",
   "metadata": {
    "colab_type": "text",
    "id": "p2lyiwJ_iWOW"
   },
   "source": [
    "# [4] Featurization"
   ]
  },
  {
   "cell_type": "markdown",
   "metadata": {
    "colab_type": "text",
    "id": "T_LFck8iiWOX"
   },
   "source": [
    "## [4.1] BAG OF WORDS"
   ]
  },
  {
   "cell_type": "code",
   "execution_count": 89,
   "metadata": {
    "colab": {},
    "colab_type": "code",
    "id": "OVHZ9f8biWOX",
    "outputId": "b121f6f4-e30a-4184-b083-a77cdab3ca19"
   },
   "outputs": [
    {
     "name": "stdout",
     "output_type": "stream",
     "text": [
      "some feature names  ['aa', 'aaaa', 'aahhhs', 'ab', 'aback', 'abandon', 'abates', 'abberline', 'abbott', 'abby']\n",
      "==================================================\n",
      "the type of count vectorizer  <class 'scipy.sparse.csr.csr_matrix'>\n",
      "the shape of out text BOW vectorizer  (9564, 18244)\n",
      "the number of unique words  18244\n"
     ]
    }
   ],
   "source": [
    "#BoW\n",
    "count_vect = CountVectorizer() #in scikit-learn\n",
    "count_vect.fit(preprocessed_reviews)\n",
    "print(\"some feature names \", count_vect.get_feature_names()[:10])\n",
    "print('='*50)\n",
    "\n",
    "final_counts = count_vect.transform(preprocessed_reviews)\n",
    "print(\"the type of count vectorizer \",type(final_counts))\n",
    "print(\"the shape of out text BOW vectorizer \",final_counts.get_shape())\n",
    "print(\"the number of unique words \", final_counts.get_shape()[1])"
   ]
  },
  {
   "cell_type": "markdown",
   "metadata": {
    "colab_type": "text",
    "id": "mjfrB76yiWOa"
   },
   "source": [
    "## [4.2] Bi-Grams and n-Grams."
   ]
  },
  {
   "cell_type": "code",
   "execution_count": 90,
   "metadata": {
    "colab": {},
    "colab_type": "code",
    "id": "mzOdOY6MiWOb",
    "outputId": "5ca07a6a-fb12-4deb-b0f4-21cdb42ccb7a"
   },
   "outputs": [
    {
     "name": "stdout",
     "output_type": "stream",
     "text": [
      "the type of count vectorizer  <class 'scipy.sparse.csr.csr_matrix'>\n",
      "the shape of out text BOW vectorizer  (9564, 5000)\n",
      "the number of unique words including both unigrams and bigrams  5000\n"
     ]
    }
   ],
   "source": [
    "#bi-gram, tri-gram and n-gram\n",
    "\n",
    "#removing stop words like \"not\" should be avoided before building n-grams\n",
    "# count_vect = CountVectorizer(ngram_range=(1,2))\n",
    "# please do read the CountVectorizer documentation http://scikit-learn.org/stable/modules/generated/sklearn.feature_extraction.text.CountVectorizer.html\n",
    "\n",
    "# you can choose these numebrs min_df=10, max_features=5000, of your choice\n",
    "count_vect = CountVectorizer(ngram_range=(1,2), min_df=10, max_features=5000)\n",
    "final_bigram_counts = count_vect.fit_transform(preprocessed_reviews)\n",
    "print(\"the type of count vectorizer \",type(final_bigram_counts))\n",
    "print(\"the shape of out text BOW vectorizer \",final_bigram_counts.get_shape())\n",
    "print(\"the number of unique words including both unigrams and bigrams \", final_bigram_counts.get_shape()[1])"
   ]
  },
  {
   "cell_type": "markdown",
   "metadata": {
    "colab_type": "text",
    "id": "0tcbbZxSiWOd"
   },
   "source": [
    "## [4.3] TF-IDF"
   ]
  },
  {
   "cell_type": "code",
   "execution_count": 91,
   "metadata": {
    "colab": {},
    "colab_type": "code",
    "id": "mQ3EDEsoiWOd",
    "outputId": "b305ed29-861d-40e9-c1df-b12c4e6492a8"
   },
   "outputs": [
    {
     "name": "stdout",
     "output_type": "stream",
     "text": [
      "some sample features(unique words in the corpus) ['ability', 'able', 'able buy', 'able eat', 'able find', 'able get', 'able order', 'able use', 'absolute', 'absolute best']\n",
      "==================================================\n",
      "the type of count vectorizer  <class 'scipy.sparse.csr.csr_matrix'>\n",
      "the shape of out text TFIDF vectorizer  (9564, 5765)\n",
      "the number of unique words including both unigrams and bigrams  5765\n"
     ]
    }
   ],
   "source": [
    "tf_idf_vect = TfidfVectorizer(ngram_range=(1,2), min_df=10)\n",
    "tf_idf_vect.fit(preprocessed_reviews)\n",
    "print(\"some sample features(unique words in the corpus)\",tf_idf_vect.get_feature_names()[0:10])\n",
    "print('='*50)\n",
    "\n",
    "final_tf_idf = tf_idf_vect.transform(preprocessed_reviews)\n",
    "print(\"the type of count vectorizer \",type(final_tf_idf))\n",
    "print(\"the shape of out text TFIDF vectorizer \",final_tf_idf.get_shape())\n",
    "print(\"the number of unique words including both unigrams and bigrams \", final_tf_idf.get_shape()[1])"
   ]
  },
  {
   "cell_type": "markdown",
   "metadata": {
    "colab_type": "text",
    "id": "u566lt93iWOf"
   },
   "source": [
    "## [4.4] Word2Vec"
   ]
  },
  {
   "cell_type": "code",
   "execution_count": 92,
   "metadata": {
    "colab": {},
    "colab_type": "code",
    "id": "pxlbMwFjiWOg"
   },
   "outputs": [],
   "source": [
    "# Train your own Word2Vec model using your own text corpus\n",
    "i=0\n",
    "list_of_sentance=[]\n",
    "for sentance in preprocessed_reviews:\n",
    "    list_of_sentance.append(sentance.split())"
   ]
  },
  {
   "cell_type": "code",
   "execution_count": 93,
   "metadata": {
    "colab": {},
    "colab_type": "code",
    "id": "NOd5wp0yiWOh",
    "outputId": "ae28439d-438c-4d88-ed12-db5f3317218f",
    "scrolled": true
   },
   "outputs": [
    {
     "name": "stdout",
     "output_type": "stream",
     "text": [
      "[('excellent', 0.8977519273757935), ('good', 0.8763203024864197), ('wonderful', 0.8139073252677917), ('overall', 0.7955032587051392), ('fresh', 0.7870441675186157), ('alternative', 0.7816916108131409), ('especially', 0.7786270976066589), ('quick', 0.7781598567962646), ('makes', 0.777671217918396), ('works', 0.775716245174408)]\n",
      "==================================================\n",
      "[('addict', 0.9873242974281311), ('disappointing', 0.9860668778419495), ('dunkin', 0.9840484857559204), ('kcups', 0.9821478724479675), ('absolute', 0.9820682406425476), ('folgers', 0.9820042848587036), ('britt', 0.9818375706672668), ('grey', 0.9811224341392517), ('hands', 0.9809374213218689), ('irritating', 0.9805065393447876)]\n"
     ]
    }
   ],
   "source": [
    "# Using Google News Word2Vectors\n",
    "\n",
    "# in this project we are using a pretrained model by google\n",
    "# its 3.3G file, once you load this into your memory \n",
    "# it occupies ~9Gb, so please do this step only if you have >12G of ram\n",
    "# we will provide a pickle file wich contains a dict , \n",
    "# and it contains all our courpus words as keys and  model[word] as values\n",
    "# To use this code-snippet, download \"GoogleNews-vectors-negative300.bin\" \n",
    "# from https://drive.google.com/file/d/0B7XkCwpI5KDYNlNUTTlSS21pQmM/edit\n",
    "# it's 1.9GB in size.\n",
    "\n",
    "\n",
    "# http://kavita-ganesan.com/gensim-word2vec-tutorial-starter-code/#.W17SRFAzZPY\n",
    "# you can comment this whole cell\n",
    "# or change these varible according to your need\n",
    "\n",
    "is_your_ram_gt_16g=False\n",
    "want_to_use_google_w2v = False\n",
    "want_to_train_w2v = True\n",
    "\n",
    "if want_to_train_w2v:\n",
    "    # min_count = 5 considers only words that occured atleast 5 times\n",
    "    w2v_model=Word2Vec(list_of_sentance,min_count=5,size=50, workers=4)\n",
    "    print(w2v_model.wv.most_similar('great'))\n",
    "    print('='*50)\n",
    "    print(w2v_model.wv.most_similar('worst'))\n",
    "    \n",
    "elif want_to_use_google_w2v and is_your_ram_gt_16g:\n",
    "    if os.path.isfile('GoogleNews-vectors-negative300.bin'):\n",
    "        w2v_model=KeyedVectors.load_word2vec_format('GoogleNews-vectors-negative300.bin', binary=True)\n",
    "        print(w2v_model.wv.most_similar('great'))\n",
    "        print(w2v_model.wv.most_similar('worst'))\n",
    "    else:\n",
    "        print(\"you don't have gogole's word2vec file, keep want_to_train_w2v = True, to train your own w2v \")"
   ]
  },
  {
   "cell_type": "code",
   "execution_count": 94,
   "metadata": {
    "colab": {},
    "colab_type": "code",
    "id": "teE01Qk2iWOj",
    "outputId": "f063436c-8b62-49d3-e093-723395e66ccd"
   },
   "outputs": [
    {
     "name": "stdout",
     "output_type": "stream",
     "text": [
      "number of words that occured minimum 5 times  5652\n",
      "sample words  ['used', 'fly', 'bait', 'seasons', 'ca', 'not', 'beat', 'great', 'product', 'available', 'traps', 'course', 'total', 'pretty', 'stinky', 'right', 'nearby', 'received', 'shipment', 'could', 'hardly', 'wait', 'try', 'love', 'call', 'instead', 'stickers', 'removed', 'easily', 'daughter', 'designed', 'printed', 'use', 'car', 'windows', 'beautifully', 'print', 'shop', 'program', 'going', 'lot', 'fun', 'everywhere', 'like', 'tv', 'computer', 'really', 'good', 'idea', 'final']\n"
     ]
    }
   ],
   "source": [
    "w2v_words = list(w2v_model.wv.vocab)\n",
    "print(\"number of words that occured minimum 5 times \",len(w2v_words))\n",
    "print(\"sample words \", w2v_words[0:50])"
   ]
  },
  {
   "cell_type": "markdown",
   "metadata": {
    "colab_type": "text",
    "id": "mUNnof40iWOl"
   },
   "source": [
    "## [4.4.1] Converting text into vectors using Avg W2V, TFIDF-W2V"
   ]
  },
  {
   "cell_type": "markdown",
   "metadata": {
    "colab_type": "text",
    "id": "heHLB_FCiWOm"
   },
   "source": [
    "#### [4.4.1.1] Avg W2v"
   ]
  },
  {
   "cell_type": "code",
   "execution_count": 95,
   "metadata": {
    "colab": {},
    "colab_type": "code",
    "id": "iCYoNRANiWOm",
    "outputId": "96ebb104-44d7-4b7d-aa45-62614bbfcf44"
   },
   "outputs": [
    {
     "name": "stderr",
     "output_type": "stream",
     "text": [
      "100%|█████████████████████████████████████████████████████████████████████████████| 9564/9564 [00:16<00:00, 573.87it/s]\n"
     ]
    },
    {
     "name": "stdout",
     "output_type": "stream",
     "text": [
      "9564\n",
      "50\n"
     ]
    }
   ],
   "source": [
    "# average Word2Vec\n",
    "# compute average word2vec for each review.\n",
    "sent_vectors = []; # the avg-w2v for each sentence/review is stored in this list\n",
    "for sent in tqdm(list_of_sentance): # for each review/sentence\n",
    "    sent_vec = np.zeros(50) # as word vectors are of zero length 50, you might need to change this to 300 if you use google's w2v\n",
    "    cnt_words =0; # num of words with a valid vector in the sentence/review\n",
    "    for word in sent: # for each word in a review/sentence\n",
    "        if word in w2v_words:\n",
    "            vec = w2v_model.wv[word]\n",
    "            sent_vec += vec\n",
    "            cnt_words += 1\n",
    "    if cnt_words != 0:\n",
    "        sent_vec /= cnt_words\n",
    "    sent_vectors.append(sent_vec)\n",
    "print(len(sent_vectors))\n",
    "print(len(sent_vectors[0]))"
   ]
  },
  {
   "cell_type": "markdown",
   "metadata": {
    "colab_type": "text",
    "id": "ylTn3LgiiWOo"
   },
   "source": [
    "#### [4.4.1.2] TFIDF weighted W2v"
   ]
  },
  {
   "cell_type": "code",
   "execution_count": 96,
   "metadata": {
    "colab": {},
    "colab_type": "code",
    "id": "XBxf_qKSiWOo"
   },
   "outputs": [],
   "source": [
    "# S = [\"abc def pqr\", \"def def def abc\", \"pqr pqr def\"]\n",
    "model = TfidfVectorizer()\n",
    "tf_idf_matrix = model.fit_transform(preprocessed_reviews)\n",
    "# we are converting a dictionary with word as a key, and the idf as a value\n",
    "dictionary = dict(zip(model.get_feature_names(), list(model.idf_)))"
   ]
  },
  {
   "cell_type": "code",
   "execution_count": 97,
   "metadata": {
    "colab": {},
    "colab_type": "code",
    "id": "5FHQMSyUiWOp",
    "outputId": "6b5b71be-e3f7-4933-cd74-f78fb703132d",
    "scrolled": true
   },
   "outputs": [
    {
     "name": "stderr",
     "output_type": "stream",
     "text": [
      "100%|██████████████████████████████████████████████████████████████████████████████| 9564/9564 [02:02<00:00, 78.05it/s]\n"
     ]
    }
   ],
   "source": [
    "# TF-IDF weighted Word2Vec\n",
    "tfidf_feat = model.get_feature_names() # tfidf words/col-names\n",
    "# final_tf_idf is the sparse matrix with row= sentence, col=word and cell_val = tfidf\n",
    "\n",
    "tfidf_sent_vectors = []; # the tfidf-w2v for each sentence/review is stored in this list\n",
    "row=0;\n",
    "for sent in tqdm(list_of_sentance): # for each review/sentence \n",
    "    sent_vec = np.zeros(50) # as word vectors are of zero length\n",
    "    weight_sum =0; # num of words with a valid vector in the sentence/review\n",
    "    for word in sent: # for each word in a review/sentence\n",
    "        if word in w2v_words and word in tfidf_feat:\n",
    "            vec = w2v_model.wv[word]\n",
    "#             tf_idf = tf_idf_matrix[row, tfidf_feat.index(word)]\n",
    "            # to reduce the computation we are \n",
    "            # dictionary[word] = idf value of word in whole courpus\n",
    "            # sent.count(word) = tf valeus of word in this review\n",
    "            tf_idf = dictionary[word]*(sent.count(word)/len(sent))\n",
    "            sent_vec += (vec * tf_idf)\n",
    "            weight_sum += tf_idf\n",
    "    if weight_sum != 0:\n",
    "        sent_vec /= weight_sum\n",
    "    tfidf_sent_vectors.append(sent_vec)\n",
    "    row += 1"
   ]
  },
  {
   "cell_type": "markdown",
   "metadata": {
    "colab_type": "text",
    "id": "IwObBT2UiWOr"
   },
   "source": [
    "# [5] Assignment 8: Decision Trees"
   ]
  },
  {
   "cell_type": "markdown",
   "metadata": {
    "colab_type": "text",
    "id": "k_mwmumRiWOr"
   },
   "source": [
    "<ol>\n",
    "    <li><strong>Apply Decision Trees on these feature sets</strong>\n",
    "        <ul>\n",
    "            <li><font color='red'>SET 1:</font>Review text, preprocessed one converted into vectors using (BOW)</li>\n",
    "            <li><font color='red'>SET 2:</font>Review text, preprocessed one converted into vectors using (TFIDF)</li>\n",
    "            <li><font color='red'>SET 3:</font>Review text, preprocessed one converted into vectors using (AVG W2v)</li>\n",
    "            <li><font color='red'>SET 4:</font>Review text, preprocessed one converted into vectors using (TFIDF W2v)</li>\n",
    "        </ul>\n",
    "    </li>\n",
    "    <br>\n",
    "    <li><strong>The hyper paramter tuning (best `depth` in range [1, 5, 10, 50, 100, 500, 100], and the best `min_samples_split` in range [5, 10, 100, 500])</strong>\n",
    "        <ul>\n",
    "    <li>Find the best hyper parameter which will give the maximum <a href='https://www.appliedaicourse.com/course/applied-ai-course-online/lessons/receiver-operating-characteristic-curve-roc-curve-and-auc-1/'>AUC</a> value</li>\n",
    "    <li>Find the best hyper paramter using k-fold cross validation or simple cross validation data</li>\n",
    "    <li>Use gridsearch cv or randomsearch cv or you can also write your own for loops to do this task of hyperparameter tuning</li>          \n",
    "        </ul>\n",
    "    </li>\n",
    "    <br>\n",
    "    <li><strong>Graphviz</strong>\n",
    "        <ul>\n",
    "    <li>Visualize your decision tree with Graphviz. It helps you to understand how a decision is being made, given a new vector.</li>\n",
    "    <li>Since feature names are not obtained from word2vec related models, visualize only BOW & TFIDF decision trees using Graphviz</li>\n",
    "    <li>Make sure to print the words in each node of the decision tree instead of printing its index.</li>\n",
    "    <li>Just for visualization purpose, limit max_depth to 2 or 3 and either embed the generated images of graphviz in your notebook, or directly upload them as .png files.</li>                \n",
    "        </ul>\n",
    "    </li>\n",
    "    <br>\n",
    "    <li><strong>Feature importance</strong>\n",
    "        <ul>\n",
    "    <li>Find the top 20 important features from both feature sets <font color='red'>Set 1</font> and <font color='red'>Set 2</font> using `feature_importances_` method of <a href='https://scikit-learn.org/stable/modules/generated/sklearn.tree.DecisionTreeClassifier.html'>Decision Tree Classifier</a> and print their corresponding feature names</li>\n",
    "        </ul>\n",
    "    </li>\n",
    "    <br>\n",
    "    <li><strong>Feature engineering</strong>\n",
    "        <ul>\n",
    "    <li>To increase the performance of your model, you can also experiment with with feature engineering like :</li>\n",
    "            <ul>\n",
    "            <li>Taking length of reviews as another feature.</li>\n",
    "            <li>Considering some features from review summary as well.</li>\n",
    "        </ul>\n",
    "        </ul>\n",
    "    </li>\n",
    "    <br>\n",
    "    <li><strong>Representation of results</strong>\n",
    "        <ul>\n",
    "    <li>You need to plot the performance of model both on train data and cross validation data for each hyper parameter, like shown in the figure.\n",
    "    <img src='train_cv_auc.JPG' width=300px></li>\n",
    "    <li>Once after you found the best hyper parameter, you need to train your model with it, and find the AUC on test data and plot the ROC curve on both train and test.\n",
    "    <img src='train_test_auc.JPG' width=300px></li>\n",
    "    <li>Along with plotting ROC curve, you need to print the <a href='https://www.appliedaicourse.com/course/applied-ai-course-online/lessons/confusion-matrix-tpr-fpr-fnr-tnr-1/'>confusion matrix</a> with predicted and original labels of test data points. Please visualize your confusion matrices using <a href='https://seaborn.pydata.org/generated/seaborn.heatmap.html'>seaborn heatmaps.\n",
    "    <img src='confusion_matrix.png' width=300px></li>\n",
    "        </ul>\n",
    "    </li>\n",
    "    <br>\n",
    "    <li><strong>Conclusion</strong>\n",
    "        <ul>\n",
    "    <li>You need to summarize the results at the end of the notebook, summarize it in the table format. To print out a table please refer to this prettytable library<a href='http://zetcode.com/python/prettytable/'>  link</a> \n",
    "        <img src='summary.JPG' width=400px>\n",
    "    </li>\n",
    "        </ul>\n",
    "</ol>"
   ]
  },
  {
   "cell_type": "markdown",
   "metadata": {
    "colab_type": "text",
    "id": "uqhvv_IiiWOs"
   },
   "source": [
    "<h4><font color='red'>Note: Data Leakage</font></h4>\n",
    "\n",
    "1. There will be an issue of data-leakage if you vectorize the entire data and then split it into train/cv/test.\n",
    "2. To avoid the issue of data-leakag, make sure to split your data first and then vectorize it. \n",
    "3. While vectorizing your data, apply the method fit_transform() on you train data, and apply the method transform() on cv/test data.\n",
    "4. For more details please go through this <a href='https://soundcloud.com/applied-ai-course/leakage-bow-and-tfidf'>link.</a>"
   ]
  },
  {
   "cell_type": "code",
   "execution_count": 24,
   "metadata": {},
   "outputs": [],
   "source": [
    "final['clean_text']=preprocessed_reviews"
   ]
  },
  {
   "cell_type": "code",
   "execution_count": 25,
   "metadata": {},
   "outputs": [
    {
     "data": {
      "text/plain": [
       "22620    dogs loves chicken product china wont buying a...\n",
       "22621    dogs love saw pet store tag attached regarding...\n",
       "70677    infestation fruitflies literally everywhere fl...\n",
       "70676    worst product gotten long time would rate no s...\n",
       "70675    wish would read reviews making purchase basica...\n",
       "Name: clean_text, dtype: object"
      ]
     },
     "execution_count": 25,
     "metadata": {},
     "output_type": "execute_result"
    }
   ],
   "source": [
    "final['clean_text'].head(5)"
   ]
  },
  {
   "cell_type": "code",
   "execution_count": 26,
   "metadata": {},
   "outputs": [],
   "source": [
    "from sklearn.model_selection import train_test_split\n",
    "x_train, x_test, y_train, y_test = train_test_split(final['clean_text'], final['Score'], random_state = 0, test_size = 0.2, shuffle = False)\n",
    "x_tr, x_cv, y_tr, y_cv = train_test_split(x_train, y_train, random_state = 0, test_size = 0.25, shuffle = False)\n",
    "# here we split the train data into train and cross validate"
   ]
  },
  {
   "cell_type": "markdown",
   "metadata": {
    "colab_type": "text",
    "id": "ayLYlocviWOs"
   },
   "source": [
    "# Applying Decision Trees"
   ]
  },
  {
   "cell_type": "code",
   "execution_count": 34,
   "metadata": {
    "colab": {},
    "colab_type": "code",
    "id": "vnSi4W-iiWOt"
   },
   "outputs": [
    {
     "name": "stdout",
     "output_type": "stream",
     "text": [
      "some feature names  ['ability', 'able', 'absence', 'absent', 'absolute', 'absolutely', 'absolutly', 'absorb', 'absorbed', 'absorbs']\n",
      "==================================================\n",
      "the type of count vectorizer  <class 'scipy.sparse.csr.csr_matrix'>\n",
      "the shape of out text BOW vectorizer  (52663, 7108)\n",
      "the number of unique words  7108\n",
      "Wall time: 8.05 s\n"
     ]
    }
   ],
   "source": [
    "%%time\n",
    "# Please write all the code with proper documentation\n",
    "#BoW\n",
    "count_vect = CountVectorizer(min_df=20) #in scikit-learn\n",
    "count_vect.fit(x_train)\n",
    "print(\"some feature names \", count_vect.get_feature_names()[:10])\n",
    "print('='*50)# y_train\n",
    "final_counts_x_train = count_vect.transform(x_tr)     #  y_tr\n",
    "final_counts_x_crossval = count_vect.transform(x_cv) # y_cv\n",
    "final_counts_x_test = count_vect.transform(x_test)\n",
    "print(\"the type of count vectorizer \",type(final_counts_x_train))\n",
    "print(\"the shape of out text BOW vectorizer \",final_counts_x_train.get_shape())\n",
    "print(\"the number of unique words \", final_counts_x_train.get_shape()[1])"
   ]
  },
  {
   "cell_type": "code",
   "execution_count": 35,
   "metadata": {},
   "outputs": [
    {
     "name": "stdout",
     "output_type": "stream",
     "text": [
      "AUC score on train data for depth value 1 and in_samples_split   5 is 0.6270686967416287\n",
      "AUC score on crossval dat afor depth value 1 and in_samples_split 5 is 0.619450761133467\n",
      "AUC score on train data for depth value 1 and in_samples_split   10 is 0.6270686967416287\n",
      "AUC score on crossval dat afor depth value 1 and in_samples_split 10 is 0.619450761133467\n",
      "AUC score on train data for depth value 1 and in_samples_split   100 is 0.6270686967416287\n",
      "AUC score on crossval dat afor depth value 1 and in_samples_split 100 is 0.619450761133467\n",
      "AUC score on train data for depth value 1 and in_samples_split   500 is 0.6270686967416287\n",
      "AUC score on crossval dat afor depth value 1 and in_samples_split 500 is 0.619450761133467\n",
      "AUC score on train data for depth value 5 and in_samples_split   5 is 0.7079339924059973\n",
      "AUC score on crossval dat afor depth value 5 and in_samples_split 5 is 0.6987288198314803\n",
      "AUC score on train data for depth value 5 and in_samples_split   10 is 0.7079339924059973\n",
      "AUC score on crossval dat afor depth value 5 and in_samples_split 10 is 0.6987971945117131\n",
      "AUC score on train data for depth value 5 and in_samples_split   100 is 0.7074139530840052\n",
      "AUC score on crossval dat afor depth value 5 and in_samples_split 100 is 0.6993835807187618\n",
      "AUC score on train data for depth value 5 and in_samples_split   500 is 0.7070224103379539\n",
      "AUC score on crossval dat afor depth value 5 and in_samples_split 500 is 0.6991403281700521\n",
      "AUC score on train data for depth value 10 and in_samples_split   5 is 0.784443198680626\n",
      "AUC score on crossval dat afor depth value 10 and in_samples_split 5 is 0.7494815072840803\n",
      "AUC score on train data for depth value 10 and in_samples_split   10 is 0.7840244476313947\n",
      "AUC score on crossval dat afor depth value 10 and in_samples_split 10 is 0.7511138267489172\n",
      "AUC score on train data for depth value 10 and in_samples_split   100 is 0.7774371769101738\n",
      "AUC score on crossval dat afor depth value 10 and in_samples_split 100 is 0.7592456590899853\n",
      "AUC score on train data for depth value 10 and in_samples_split   500 is 0.7740447120573999\n",
      "AUC score on crossval dat afor depth value 10 and in_samples_split 500 is 0.7613079439325788\n",
      "AUC score on train data for depth value 50 and in_samples_split   5 is 0.9655019442933164\n",
      "AUC score on crossval dat afor depth value 50 and in_samples_split 5 is 0.6935582596040877\n",
      "AUC score on train data for depth value 50 and in_samples_split   10 is 0.9627653331870258\n",
      "AUC score on crossval dat afor depth value 50 and in_samples_split 10 is 0.6986849399679931\n",
      "AUC score on train data for depth value 50 and in_samples_split   100 is 0.9372329508277243\n",
      "AUC score on crossval dat afor depth value 50 and in_samples_split 100 is 0.7731780198500129\n",
      "AUC score on train data for depth value 50 and in_samples_split   500 is 0.8951805054078089\n",
      "AUC score on crossval dat afor depth value 50 and in_samples_split 500 is 0.8192848379650688\n",
      "AUC score on train data for depth value 100 and in_samples_split   5 is 0.9918734294014215\n",
      "AUC score on crossval dat afor depth value 100 and in_samples_split 5 is 0.6806808830397476\n",
      "AUC score on train data for depth value 100 and in_samples_split   10 is 0.9889650436022659\n",
      "AUC score on crossval dat afor depth value 100 and in_samples_split 10 is 0.6925714782353816\n",
      "AUC score on train data for depth value 100 and in_samples_split   100 is 0.9679661971054979\n",
      "AUC score on crossval dat afor depth value 100 and in_samples_split 100 is 0.756132537443501\n",
      "AUC score on train data for depth value 100 and in_samples_split   500 is 0.9251550434237859\n",
      "AUC score on crossval dat afor depth value 100 and in_samples_split 500 is 0.8140067892574578\n",
      "AUC score on train data for depth value 500 and in_samples_split   5 is 0.9993102421946095\n",
      "AUC score on crossval dat afor depth value 500 and in_samples_split 5 is 0.6842214266358699\n",
      "AUC score on train data for depth value 500 and in_samples_split   10 is 0.9972483650767483\n",
      "AUC score on crossval dat afor depth value 500 and in_samples_split 10 is 0.703119544375328\n",
      "AUC score on train data for depth value 500 and in_samples_split   100 is 0.9799977269388841\n",
      "AUC score on crossval dat afor depth value 500 and in_samples_split 100 is 0.7585402244073502\n",
      "AUC score on train data for depth value 500 and in_samples_split   500 is 0.942793959696687\n",
      "AUC score on crossval dat afor depth value 500 and in_samples_split 500 is 0.799996510233311\n",
      "Wall time: 5min 11s\n"
     ]
    }
   ],
   "source": [
    "%%time\n",
    "from sklearn.tree import DecisionTreeClassifier\n",
    "from sklearn.metrics import roc_auc_score, auc\n",
    "\n",
    "auc_score_tr = []\n",
    "auc_score_cv = []\n",
    "depth=[1, 5, 10, 50, 100, 500]\n",
    "min_samples_split=[5, 10, 100, 500]\n",
    "\n",
    "for i in depth:\n",
    "    for j in min_samples_split:\n",
    "\n",
    "        dtc = DecisionTreeClassifier(max_depth=i,min_samples_split=j)\n",
    "        dtc.fit(final_counts_x_train, y_tr)\n",
    "    \n",
    "    \n",
    "        pred_tr = dtc.predict_proba(final_counts_x_train)[:,1]\n",
    "        auc_tr = roc_auc_score(y_tr, pred_tr)\n",
    "        print(\"AUC score on train data for depth value\", i,\"and in_samples_split  \",j,\"is\", auc_tr)\n",
    "        auc_score_tr.append(auc_tr)\n",
    "    \n",
    "        pred_cv = dtc.predict_proba(final_counts_x_crossval)[:,1]\n",
    "        auc_cv = roc_auc_score(y_cv, pred_cv)\n",
    "        print(\"AUC score on crossval dat afor depth value\", i, \"and in_samples_split\",j,\"is\", auc_cv)\n",
    "        auc_score_cv.append(auc_cv)\n",
    "\n",
    "\n",
    "auc_score_tr = [x for x in auc_score_tr]\n",
    "auc_score_cv = [y for y in auc_score_cv]\n"
   ]
  },
  {
   "cell_type": "code",
   "execution_count": 36,
   "metadata": {},
   "outputs": [
    {
     "name": "stdout",
     "output_type": "stream",
     "text": [
      "[0.9655019442933164, 0.9627653331870258, 0.9372329508277243, 0.8951805054078089]\n"
     ]
    }
   ],
   "source": [
    "print(auc_score_tr[12:16])"
   ]
  },
  {
   "cell_type": "code",
   "execution_count": 37,
   "metadata": {},
   "outputs": [
    {
     "name": "stdout",
     "output_type": "stream",
     "text": [
      "[0.6270686967416287, 0.6270686967416287, 0.6270686967416287, 0.6270686967416287, 0.7079339924059973, 0.7079339924059973, 0.7074139530840052, 0.7070224103379539, 0.784443198680626, 0.7840244476313947, 0.7774371769101738, 0.7740447120573999, 0.9655019442933164, 0.9627653331870258, 0.9372329508277243, 0.8951805054078089, 0.9918734294014215, 0.9889650436022659, 0.9679661971054979, 0.9251550434237859, 0.9993102421946095, 0.9972483650767483, 0.9799977269388841, 0.942793959696687]\n"
     ]
    }
   ],
   "source": [
    "print(auc_score_tr)"
   ]
  },
  {
   "cell_type": "code",
   "execution_count": 38,
   "metadata": {},
   "outputs": [
    {
     "name": "stdout",
     "output_type": "stream",
     "text": [
      "[0.619450761133467, 0.619450761133467, 0.619450761133467, 0.619450761133467, 0.6987288198314803, 0.6987971945117131, 0.6993835807187618, 0.6991403281700521, 0.7494815072840803, 0.7511138267489172, 0.7592456590899853, 0.7613079439325788, 0.6935582596040877, 0.6986849399679931, 0.7731780198500129, 0.8192848379650688, 0.6806808830397476, 0.6925714782353816, 0.756132537443501, 0.8140067892574578, 0.6842214266358699, 0.703119544375328, 0.7585402244073502, 0.799996510233311]\n"
     ]
    }
   ],
   "source": [
    "print(auc_score_cv)"
   ]
  },
  {
   "cell_type": "code",
   "execution_count": 39,
   "metadata": {},
   "outputs": [
    {
     "data": {
      "text/plain": [
       "Text(0.5,1,'min_samples_split v/s AUC')"
      ]
     },
     "execution_count": 39,
     "metadata": {},
     "output_type": "execute_result"
    },
    {
     "data": {
      "image/png": "[encoded data removed]",
      "text/plain": [
       "<Figure size 2880x1440 with 6 Axes>"
      ]
     },
     "metadata": {},
     "output_type": "display_data"
    }
   ],
   "source": [
    "    plt.figure(figsize=(40,20))\n",
    "    plt.subplot(3, 3, 1)\n",
    "   \n",
    "    plt.plot(min_samples_split, auc_score_cv[:4],color='green')\n",
    "    plt.plot(min_samples_split, auc_score_tr[:4],  color = 'black')\n",
    "    plt.xlabel(\"min_samples_split\")\n",
    "    plt.ylabel(\"AUC values\")\n",
    "    plt.title(\"min_samples_split v/s AUC\")\n",
    "    plt.subplot(3, 3, 2)\n",
    "    \n",
    "    plt.plot(min_samples_split, auc_score_cv[4:8],color='green')\n",
    "    plt.plot(min_samples_split, auc_score_tr[4:8],  color = 'black')\n",
    "    plt.xlabel(\"min_samples_split\")\n",
    "    plt.ylabel(\"AUC values\")\n",
    "    plt.title(\"min_samples_split v/s AUC\")\n",
    "    plt.subplot(3, 3, 3)\n",
    "    \n",
    "    plt.plot(min_samples_split, auc_score_cv[8:12],color='green')\n",
    "    plt.plot(min_samples_split, auc_score_tr[8:12],  color = 'black')\n",
    "    plt.xlabel(\"min_samples_split\")\n",
    "    plt.ylabel(\"AUC values\")\n",
    "    plt.title(\"min_samples_split v/s AUC\")\n",
    "    plt.subplot(3, 3, 4)\n",
    "    \n",
    "    plt.plot(min_samples_split, auc_score_cv[12:16],color='green')\n",
    "    plt.plot(min_samples_split, auc_score_tr[12:16],  color = 'black')\n",
    "    plt.xlabel(\"min_samples_split\")\n",
    "    plt.ylabel(\"AUC values\")\n",
    "    plt.title(\"min_samples_split v/s AUC\")\n",
    "    plt.subplot(3, 3, 5)\n",
    "    \n",
    "    plt.plot(min_samples_split, auc_score_cv[16:20],color='green')\n",
    "    plt.plot(min_samples_split, auc_score_tr[16:20],  color = 'black')\n",
    "    plt.xlabel(\"min_samples_split\")\n",
    "    plt.ylabel(\"AUC values\")\n",
    "    plt.title(\"min_samples_split v/s AUC\")\n",
    "    plt.subplot(3, 3, 6)\n",
    "    \n",
    "    plt.plot(min_samples_split, auc_score_cv[20:24],color='green')\n",
    "    plt.plot(min_samples_split, auc_score_tr[20:24],  color = 'black')\n",
    "    plt.xlabel(\"min_samples_split\")\n",
    "    plt.ylabel(\"AUC values\")\n",
    "    plt.title(\"min_samples_split v/s AUC\")\n",
    "   "
   ]
  },
  {
   "cell_type": "code",
   "execution_count": 40,
   "metadata": {},
   "outputs": [],
   "source": [
    "best_depth1=50\n",
    "best_min_samples1=500"
   ]
  },
  {
   "cell_type": "code",
   "execution_count": 41,
   "metadata": {},
   "outputs": [
    {
     "data": {
      "image/png": "[encoded data removed]",
      "text/plain": [
       "<Figure size 432x288 with 1 Axes>"
      ]
     },
     "metadata": {},
     "output_type": "display_data"
    },
    {
     "name": "stdout",
     "output_type": "stream",
     "text": [
      "====================================================================================================\n",
      "Train confusion matrix\n",
      "[[ 4314  3850]\n",
      " [ 2091 42408]]\n",
      "Test confusion matrix\n",
      "[[ 1395  1624]\n",
      " [ 1022 13514]]\n"
     ]
    }
   ],
   "source": [
    "# https://scikit-learn.org/stable/modules/generated/sklearn.metrics.roc_curve.html#sklearn.metrics.roc_curve\n",
    "from sklearn.metrics import roc_curve, auc\n",
    "\n",
    "\n",
    "dtc = DecisionTreeClassifier(max_depth=best_depth1,min_samples_split=best_min_samples1)\n",
    "dtc=dtc.fit(final_counts_x_train, y_tr)\n",
    "# roc_auc_score(y_true, y_score) the 2nd parameter should be probability estimates of the positive class\n",
    "# not the predicted outputs\n",
    "\n",
    "train_fpr, train_tpr, thresholds = roc_curve(y_tr, dtc.predict_proba(final_counts_x_train)[:,1])\n",
    "test_fpr, test_tpr, thresholds = roc_curve(y_test, dtc.predict_proba(final_counts_x_test)[:,1])\n",
    "\n",
    "plt.plot(train_fpr, train_tpr, label=\"train AUC =\"+str(auc(train_fpr, train_tpr)))\n",
    "plt.plot(test_fpr, test_tpr, label=\"train AUC =\"+str(auc(test_fpr, test_tpr)))\n",
    "plt.legend()\n",
    "plt.xlabel(\"C: hyperparameter\")\n",
    "plt.ylabel(\"AUC\")\n",
    "plt.title(\"ERROR PLOTS\")\n",
    "plt.show()\n",
    "\n",
    "print(\"=\"*100)\n",
    "\n",
    "from sklearn.metrics import confusion_matrix\n",
    "print(\"Train confusion matrix\")\n",
    "print(confusion_matrix(y_tr, dtc.predict(final_counts_x_train)))\n",
    "print(\"Test confusion matrix\")\n",
    "cm=confusion_matrix(y_test,dtc.predict(final_counts_x_test))\n",
    "print(confusion_matrix(y_test, dtc.predict(final_counts_x_test)))\n"
   ]
  },
  {
   "cell_type": "code",
   "execution_count": 42,
   "metadata": {},
   "outputs": [
    {
     "data": {
      "image/png": "[encoded data removed]",
      "text/plain": [
       "<Figure size 432x288 with 1 Axes>"
      ]
     },
     "metadata": {},
     "output_type": "display_data"
    }
   ],
   "source": [
    "plt.clf()\n",
    "plt.imshow(cm, interpolation='nearest', cmap=plt.cm.Wistia)\n",
    "classNames = ['Negative','Positive']\n",
    "plt.ylabel('True label')\n",
    "plt.xlabel('Predicted label')\n",
    "tick_marks = np.arange(len(classNames))\n",
    "plt.xticks(tick_marks, classNames, rotation=45)\n",
    "plt.yticks(tick_marks, classNames)\n",
    "s = [['TN','FP'], ['FN', 'TP']]\n",
    "for i in range(2):\n",
    "    for j in range(2):\n",
    "        plt.text(j,i, str(s[i][j])+\" = \"+str(cm[i][j]))\n",
    "plt.show()"
   ]
  },
  {
   "cell_type": "markdown",
   "metadata": {
    "colab_type": "text",
    "id": "fvKQwJMWiWOt"
   },
   "source": [
    "## [5.1] Applying Decision Trees on BOW,<font color='red'> SET 1</font>"
   ]
  },
  {
   "cell_type": "markdown",
   "metadata": {
    "colab_type": "text",
    "id": "jm4vkPwMiWOu"
   },
   "source": [
    "### [5.1.1] Top 20 important features from<font color='red'> SET 1</font>"
   ]
  },
  {
   "cell_type": "code",
   "execution_count": 43,
   "metadata": {
    "colab": {},
    "colab_type": "code",
    "id": "puCcjOAkiWOv"
   },
   "outputs": [],
   "source": [
    "# Calculate feature importances\n",
    "importances = dtc.feature_importances_"
   ]
  },
  {
   "cell_type": "code",
   "execution_count": 44,
   "metadata": {},
   "outputs": [],
   "source": [
    "indices = np.argsort(importances)[::-1][:20]"
   ]
  },
  {
   "cell_type": "code",
   "execution_count": 45,
   "metadata": {},
   "outputs": [
    {
     "data": {
      "text/plain": [
       "(20,)"
      ]
     },
     "execution_count": 45,
     "metadata": {},
     "output_type": "execute_result"
    }
   ],
   "source": [
    "np.shape(indices)"
   ]
  },
  {
   "cell_type": "code",
   "execution_count": 46,
   "metadata": {},
   "outputs": [
    {
     "name": "stdout",
     "output_type": "stream",
     "text": [
      "[4148 2735 1784 7029 3973  528 5220 1634 2680 3630 4504 6417  396 3635\n",
      "  380 2978 6350 6882 1785 5957]\n"
     ]
    }
   ],
   "source": [
    "print(indices)"
   ]
  },
  {
   "cell_type": "code",
   "execution_count": 47,
   "metadata": {},
   "outputs": [],
   "source": [
    "feature_names=count_vect.get_feature_names()"
   ]
  },
  {
   "cell_type": "code",
   "execution_count": 48,
   "metadata": {},
   "outputs": [],
   "source": [
    "feature_names=np.array(feature_names)"
   ]
  },
  {
   "cell_type": "code",
   "execution_count": 49,
   "metadata": {},
   "outputs": [
    {
     "name": "stdout",
     "output_type": "stream",
     "text": [
      "[0.10648824 0.05972496 0.04915819 0.03842099 0.0374506  0.02891738\n",
      " 0.02463843 0.02362063 0.02081715 0.01876406 0.01745753 0.0172255\n",
      " 0.01594233 0.01535957 0.01499228 0.01462527 0.01414721 0.011177\n",
      " 0.01103914 0.01068569]\n"
     ]
    }
   ],
   "source": [
    "print(importances[indices])"
   ]
  },
  {
   "cell_type": "code",
   "execution_count": 50,
   "metadata": {},
   "outputs": [
    {
     "name": "stdout",
     "output_type": "stream",
     "text": [
      "['not' 'great' 'disappointed' 'worst' 'money' 'best' 'return' 'delicious'\n",
      " 'good' 'love' 'perfect' 'threw' 'bad' 'loves' 'awful' 'horrible'\n",
      " 'terrible' 'waste' 'disappointing' 'stale']\n"
     ]
    }
   ],
   "source": [
    "print(feature_names[indices])"
   ]
  },
  {
   "cell_type": "code",
   "execution_count": 51,
   "metadata": {},
   "outputs": [
    {
     "name": "stdout",
     "output_type": "stream",
     "text": [
      "{'not': 0.10648823550972002, 'great': 0.059724964808433346, 'disappointed': 0.0491581939168771, 'worst': 0.03842098823828957, 'money': 0.03745060103167331, 'best': 0.02891738304592094, 'return': 0.024638432920110656, 'delicious': 0.02362062710871891, 'good': 0.020817146914074523, 'love': 0.01876406084830441, 'perfect': 0.01745753078193212, 'threw': 0.01722549729085531, 'bad': 0.01594232638413505, 'loves': 0.01535957062745406, 'awful': 0.014992277658860298, 'horrible': 0.01462526953125616, 'terrible': 0.014147211164065766, 'waste': 0.011176998022183596, 'disappointing': 0.01103913905604378, 'stale': 0.010685685717967928}\n"
     ]
    }
   ],
   "source": [
    "print(dict(zip(feature_names[indices],importances[indices])))"
   ]
  },
  {
   "cell_type": "markdown",
   "metadata": {
    "colab_type": "text",
    "id": "7JyitDTTiWOx"
   },
   "source": [
    "### [5.1.2] Graphviz visualization of Decision Tree on BOW,<font color='red'> SET 1</font>"
   ]
  },
  {
   "cell_type": "code",
   "execution_count": 52,
   "metadata": {
    "colab": {},
    "colab_type": "code",
    "id": "-jxU7zrAiWOy"
   },
   "outputs": [],
   "source": [
    "# Please write all the code with proper documentation\n",
    "from sklearn import tree\n",
    "import pydotplus\n",
    "from IPython.display import Image\n",
    "from IPython.display import SVG\n",
    "from graphviz import Source\n",
    "from IPython.display import display"
   ]
  },
  {
   "cell_type": "code",
   "execution_count": 53,
   "metadata": {},
   "outputs": [
    {
     "data": {
      "image/svg+xml": [
       "<svg height=\"520pt\" viewBox=\"0.00 0.00 841.50 520.00\" width=\"842pt\" xmlns=\"http://www.w3.org/2000/svg\" xmlns:xlink=\"http://www.w3.org/1999/xlink\">\n",
       "<g class=\"graph\" id=\"graph0\" transform=\"scale(1 1) rotate(0) translate(4 516)\">\n",
       "<title>Tree</title>\n",
       "<polygon fill=\"white\" points=\"-4,4 -4,-516 837.5,-516 837.5,4 -4,4\" stroke=\"none\"/>\n",
       "<!-- 0 -->\n",
       "<g class=\"node\" id=\"node1\"><title>0</title>\n",
       "<polygon fill=\"#399de5\" fill-opacity=\"0.815686\" points=\"487,-512 349,-512 349,-429 487,-429 487,-512\" stroke=\"black\"/>\n",
       "<text font-family=\"Times New Roman,serif\" font-size=\"14.00\" text-anchor=\"middle\" x=\"418\" y=\"-496.8\">not &lt;= 0.5</text>\n",
       "<text font-family=\"Times New Roman,serif\" font-size=\"14.00\" text-anchor=\"middle\" x=\"418\" y=\"-481.8\">gini = 0.262</text>\n",
       "<text font-family=\"Times New Roman,serif\" font-size=\"14.00\" text-anchor=\"middle\" x=\"418\" y=\"-466.8\">samples = 52663</text>\n",
       "<text font-family=\"Times New Roman,serif\" font-size=\"14.00\" text-anchor=\"middle\" x=\"418\" y=\"-451.8\">value = [8164, 44499]</text>\n",
       "<text font-family=\"Times New Roman,serif\" font-size=\"14.00\" text-anchor=\"middle\" x=\"418\" y=\"-436.8\">class = 1</text>\n",
       "</g>\n",
       "<!-- 1 -->\n",
       "<g class=\"node\" id=\"node2\"><title>1</title>\n",
       "<polygon fill=\"#399de5\" fill-opacity=\"0.905882\" points=\"409,-393 271,-393 271,-310 409,-310 409,-393\" stroke=\"black\"/>\n",
       "<text font-family=\"Times New Roman,serif\" font-size=\"14.00\" text-anchor=\"middle\" x=\"340\" y=\"-377.8\">disappointed &lt;= 0.5</text>\n",
       "<text font-family=\"Times New Roman,serif\" font-size=\"14.00\" text-anchor=\"middle\" x=\"340\" y=\"-362.8\">gini = 0.155</text>\n",
       "<text font-family=\"Times New Roman,serif\" font-size=\"14.00\" text-anchor=\"middle\" x=\"340\" y=\"-347.8\">samples = 24881</text>\n",
       "<text font-family=\"Times New Roman,serif\" font-size=\"14.00\" text-anchor=\"middle\" x=\"340\" y=\"-332.8\">value = [2104, 22777]</text>\n",
       "<text font-family=\"Times New Roman,serif\" font-size=\"14.00\" text-anchor=\"middle\" x=\"340\" y=\"-317.8\">class = 1</text>\n",
       "</g>\n",
       "<!-- 0&#45;&gt;1 -->\n",
       "<g class=\"edge\" id=\"edge1\"><title>0-&gt;1</title>\n",
       "<path d=\"M390.938,-428.907C385.07,-420.105 378.802,-410.703 372.741,-401.612\" fill=\"none\" stroke=\"black\"/>\n",
       "<polygon fill=\"black\" points=\"375.473,-399.4 367.014,-393.021 369.649,-403.283 375.473,-399.4\" stroke=\"black\"/>\n",
       "<text font-family=\"Times New Roman,serif\" font-size=\"14.00\" text-anchor=\"middle\" x=\"362.111\" y=\"-413.835\">True</text>\n",
       "</g>\n",
       "<!-- 384 -->\n",
       "<g class=\"node\" id=\"node9\"><title>384</title>\n",
       "<polygon fill=\"#399de5\" fill-opacity=\"0.721569\" points=\"565,-393 427,-393 427,-310 565,-310 565,-393\" stroke=\"black\"/>\n",
       "<text font-family=\"Times New Roman,serif\" font-size=\"14.00\" text-anchor=\"middle\" x=\"496\" y=\"-377.8\">great &lt;= 0.5</text>\n",
       "<text font-family=\"Times New Roman,serif\" font-size=\"14.00\" text-anchor=\"middle\" x=\"496\" y=\"-362.8\">gini = 0.341</text>\n",
       "<text font-family=\"Times New Roman,serif\" font-size=\"14.00\" text-anchor=\"middle\" x=\"496\" y=\"-347.8\">samples = 27782</text>\n",
       "<text font-family=\"Times New Roman,serif\" font-size=\"14.00\" text-anchor=\"middle\" x=\"496\" y=\"-332.8\">value = [6060, 21722]</text>\n",
       "<text font-family=\"Times New Roman,serif\" font-size=\"14.00\" text-anchor=\"middle\" x=\"496\" y=\"-317.8\">class = 1</text>\n",
       "</g>\n",
       "<!-- 0&#45;&gt;384 -->\n",
       "<g class=\"edge\" id=\"edge8\"><title>0-&gt;384</title>\n",
       "<path d=\"M445.062,-428.907C450.93,-420.105 457.198,-410.703 463.259,-401.612\" fill=\"none\" stroke=\"black\"/>\n",
       "<polygon fill=\"black\" points=\"466.351,-403.283 468.986,-393.021 460.527,-399.4 466.351,-403.283\" stroke=\"black\"/>\n",
       "<text font-family=\"Times New Roman,serif\" font-size=\"14.00\" text-anchor=\"middle\" x=\"473.889\" y=\"-413.835\">False</text>\n",
       "</g>\n",
       "<!-- 2 -->\n",
       "<g class=\"node\" id=\"node3\"><title>2</title>\n",
       "<polygon fill=\"#399de5\" fill-opacity=\"0.913725\" points=\"266,-274 128,-274 128,-191 266,-191 266,-274\" stroke=\"black\"/>\n",
       "<text font-family=\"Times New Roman,serif\" font-size=\"14.00\" text-anchor=\"middle\" x=\"197\" y=\"-258.8\">worst &lt;= 0.5</text>\n",
       "<text font-family=\"Times New Roman,serif\" font-size=\"14.00\" text-anchor=\"middle\" x=\"197\" y=\"-243.8\">gini = 0.147</text>\n",
       "<text font-family=\"Times New Roman,serif\" font-size=\"14.00\" text-anchor=\"middle\" x=\"197\" y=\"-228.8\">samples = 24623</text>\n",
       "<text font-family=\"Times New Roman,serif\" font-size=\"14.00\" text-anchor=\"middle\" x=\"197\" y=\"-213.8\">value = [1961, 22662]</text>\n",
       "<text font-family=\"Times New Roman,serif\" font-size=\"14.00\" text-anchor=\"middle\" x=\"197\" y=\"-198.8\">class = 1</text>\n",
       "</g>\n",
       "<!-- 1&#45;&gt;2 -->\n",
       "<g class=\"edge\" id=\"edge2\"><title>1-&gt;2</title>\n",
       "<path d=\"M290.387,-309.907C278.74,-300.379 266.237,-290.148 254.285,-280.37\" fill=\"none\" stroke=\"black\"/>\n",
       "<polygon fill=\"black\" points=\"256.481,-277.644 246.525,-274.021 252.049,-283.062 256.481,-277.644\" stroke=\"black\"/>\n",
       "</g>\n",
       "<!-- 383 -->\n",
       "<g class=\"node\" id=\"node8\"><title>383</title>\n",
       "<polygon fill=\"#e58139\" fill-opacity=\"0.196078\" points=\"402,-266.5 284,-266.5 284,-198.5 402,-198.5 402,-266.5\" stroke=\"black\"/>\n",
       "<text font-family=\"Times New Roman,serif\" font-size=\"14.00\" text-anchor=\"middle\" x=\"343\" y=\"-251.3\">gini = 0.494</text>\n",
       "<text font-family=\"Times New Roman,serif\" font-size=\"14.00\" text-anchor=\"middle\" x=\"343\" y=\"-236.3\">samples = 258</text>\n",
       "<text font-family=\"Times New Roman,serif\" font-size=\"14.00\" text-anchor=\"middle\" x=\"343\" y=\"-221.3\">value = [143, 115]</text>\n",
       "<text font-family=\"Times New Roman,serif\" font-size=\"14.00\" text-anchor=\"middle\" x=\"343\" y=\"-206.3\">class = 0</text>\n",
       "</g>\n",
       "<!-- 1&#45;&gt;383 -->\n",
       "<g class=\"edge\" id=\"edge7\"><title>1-&gt;383</title>\n",
       "<path d=\"M341.041,-309.907C341.315,-299.204 341.612,-287.615 341.89,-276.776\" fill=\"none\" stroke=\"black\"/>\n",
       "<polygon fill=\"black\" points=\"345.392,-276.753 342.15,-266.667 338.394,-276.574 345.392,-276.753\" stroke=\"black\"/>\n",
       "</g>\n",
       "<!-- 3 -->\n",
       "<g class=\"node\" id=\"node4\"><title>3</title>\n",
       "<polygon fill=\"#399de5\" fill-opacity=\"0.917647\" points=\"138,-155 0,-155 0,-72 138,-72 138,-155\" stroke=\"black\"/>\n",
       "<text font-family=\"Times New Roman,serif\" font-size=\"14.00\" text-anchor=\"middle\" x=\"69\" y=\"-139.8\">bad &lt;= 0.5</text>\n",
       "<text font-family=\"Times New Roman,serif\" font-size=\"14.00\" text-anchor=\"middle\" x=\"69\" y=\"-124.8\">gini = 0.143</text>\n",
       "<text font-family=\"Times New Roman,serif\" font-size=\"14.00\" text-anchor=\"middle\" x=\"69\" y=\"-109.8\">samples = 24551</text>\n",
       "<text font-family=\"Times New Roman,serif\" font-size=\"14.00\" text-anchor=\"middle\" x=\"69\" y=\"-94.8\">value = [1897, 22654]</text>\n",
       "<text font-family=\"Times New Roman,serif\" font-size=\"14.00\" text-anchor=\"middle\" x=\"69\" y=\"-79.8\">class = 1</text>\n",
       "</g>\n",
       "<!-- 2&#45;&gt;3 -->\n",
       "<g class=\"edge\" id=\"edge3\"><title>2-&gt;3</title>\n",
       "<path d=\"M152.591,-190.907C142.365,-181.56 131.4,-171.538 120.888,-161.929\" fill=\"none\" stroke=\"black\"/>\n",
       "<polygon fill=\"black\" points=\"123.073,-159.184 113.33,-155.021 118.35,-164.351 123.073,-159.184\" stroke=\"black\"/>\n",
       "</g>\n",
       "<!-- 382 -->\n",
       "<g class=\"node\" id=\"node7\"><title>382</title>\n",
       "<polygon fill=\"#e58139\" fill-opacity=\"0.874510\" points=\"254,-147.5 156,-147.5 156,-79.5 254,-79.5 254,-147.5\" stroke=\"black\"/>\n",
       "<text font-family=\"Times New Roman,serif\" font-size=\"14.00\" text-anchor=\"middle\" x=\"205\" y=\"-132.3\">gini = 0.198</text>\n",
       "<text font-family=\"Times New Roman,serif\" font-size=\"14.00\" text-anchor=\"middle\" x=\"205\" y=\"-117.3\">samples = 72</text>\n",
       "<text font-family=\"Times New Roman,serif\" font-size=\"14.00\" text-anchor=\"middle\" x=\"205\" y=\"-102.3\">value = [64, 8]</text>\n",
       "<text font-family=\"Times New Roman,serif\" font-size=\"14.00\" text-anchor=\"middle\" x=\"205\" y=\"-87.3\">class = 0</text>\n",
       "</g>\n",
       "<!-- 2&#45;&gt;382 -->\n",
       "<g class=\"edge\" id=\"edge6\"><title>2-&gt;382</title>\n",
       "<path d=\"M199.776,-190.907C200.507,-180.204 201.3,-168.615 202.041,-157.776\" fill=\"none\" stroke=\"black\"/>\n",
       "<polygon fill=\"black\" points=\"205.542,-157.882 202.732,-147.667 198.558,-157.405 205.542,-157.882\" stroke=\"black\"/>\n",
       "</g>\n",
       "<!-- 4 -->\n",
       "<g class=\"node\" id=\"node5\"><title>4</title>\n",
       "<polygon fill=\"#c0c0c0\" points=\"60,-36 6,-36 6,-0 60,-0 60,-36\" stroke=\"black\"/>\n",
       "<text font-family=\"Times New Roman,serif\" font-size=\"14.00\" text-anchor=\"middle\" x=\"33\" y=\"-14.3\">(...)</text>\n",
       "</g>\n",
       "<!-- 3&#45;&gt;4 -->\n",
       "<g class=\"edge\" id=\"edge4\"><title>3-&gt;4</title>\n",
       "<path d=\"M53.3146,-71.7615C49.9573,-63.0419 46.4907,-54.0385 43.3927,-45.9921\" fill=\"none\" stroke=\"black\"/>\n",
       "<polygon fill=\"black\" points=\"46.5609,-44.4797 39.7014,-36.4051 40.0284,-46.9949 46.5609,-44.4797\" stroke=\"black\"/>\n",
       "</g>\n",
       "<!-- 381 -->\n",
       "<g class=\"node\" id=\"node6\"><title>381</title>\n",
       "<polygon fill=\"#c0c0c0\" points=\"132,-36 78,-36 78,-0 132,-0 132,-36\" stroke=\"black\"/>\n",
       "<text font-family=\"Times New Roman,serif\" font-size=\"14.00\" text-anchor=\"middle\" x=\"105\" y=\"-14.3\">(...)</text>\n",
       "</g>\n",
       "<!-- 3&#45;&gt;381 -->\n",
       "<g class=\"edge\" id=\"edge5\"><title>3-&gt;381</title>\n",
       "<path d=\"M84.6854,-71.7615C88.0427,-63.0419 91.5093,-54.0385 94.6073,-45.9921\" fill=\"none\" stroke=\"black\"/>\n",
       "<polygon fill=\"black\" points=\"97.9716,-46.9949 98.2986,-36.4051 91.4391,-44.4797 97.9716,-46.9949\" stroke=\"black\"/>\n",
       "</g>\n",
       "<!-- 385 -->\n",
       "<g class=\"node\" id=\"node10\"><title>385</title>\n",
       "<polygon fill=\"#399de5\" fill-opacity=\"0.654902\" points=\"563,-274 425,-274 425,-191 563,-191 563,-274\" stroke=\"black\"/>\n",
       "<text font-family=\"Times New Roman,serif\" font-size=\"14.00\" text-anchor=\"middle\" x=\"494\" y=\"-258.8\">money &lt;= 0.5</text>\n",
       "<text font-family=\"Times New Roman,serif\" font-size=\"14.00\" text-anchor=\"middle\" x=\"494\" y=\"-243.8\">gini = 0.382</text>\n",
       "<text font-family=\"Times New Roman,serif\" font-size=\"14.00\" text-anchor=\"middle\" x=\"494\" y=\"-228.8\">samples = 21286</text>\n",
       "<text font-family=\"Times New Roman,serif\" font-size=\"14.00\" text-anchor=\"middle\" x=\"494\" y=\"-213.8\">value = [5478, 15808]</text>\n",
       "<text font-family=\"Times New Roman,serif\" font-size=\"14.00\" text-anchor=\"middle\" x=\"494\" y=\"-198.8\">class = 1</text>\n",
       "</g>\n",
       "<!-- 384&#45;&gt;385 -->\n",
       "<g class=\"edge\" id=\"edge9\"><title>384-&gt;385</title>\n",
       "<path d=\"M495.306,-309.907C495.163,-301.558 495.011,-292.671 494.864,-284.02\" fill=\"none\" stroke=\"black\"/>\n",
       "<polygon fill=\"black\" points=\"498.363,-283.959 494.693,-274.021 491.364,-284.079 498.363,-283.959\" stroke=\"black\"/>\n",
       "</g>\n",
       "<!-- 1064 -->\n",
       "<g class=\"node\" id=\"node17\"><title>1064</title>\n",
       "<polygon fill=\"#399de5\" fill-opacity=\"0.901961\" points=\"706.5,-274 581.5,-274 581.5,-191 706.5,-191 706.5,-274\" stroke=\"black\"/>\n",
       "<text font-family=\"Times New Roman,serif\" font-size=\"14.00\" text-anchor=\"middle\" x=\"644\" y=\"-258.8\">reviews &lt;= 0.5</text>\n",
       "<text font-family=\"Times New Roman,serif\" font-size=\"14.00\" text-anchor=\"middle\" x=\"644\" y=\"-243.8\">gini = 0.163</text>\n",
       "<text font-family=\"Times New Roman,serif\" font-size=\"14.00\" text-anchor=\"middle\" x=\"644\" y=\"-228.8\">samples = 6496</text>\n",
       "<text font-family=\"Times New Roman,serif\" font-size=\"14.00\" text-anchor=\"middle\" x=\"644\" y=\"-213.8\">value = [582, 5914]</text>\n",
       "<text font-family=\"Times New Roman,serif\" font-size=\"14.00\" text-anchor=\"middle\" x=\"644\" y=\"-198.8\">class = 1</text>\n",
       "</g>\n",
       "<!-- 384&#45;&gt;1064 -->\n",
       "<g class=\"edge\" id=\"edge16\"><title>384-&gt;1064</title>\n",
       "<path d=\"M547.348,-309.907C559.401,-300.379 572.342,-290.148 584.712,-280.37\" fill=\"none\" stroke=\"black\"/>\n",
       "<polygon fill=\"black\" points=\"587.069,-282.968 592.743,-274.021 582.728,-277.477 587.069,-282.968\" stroke=\"black\"/>\n",
       "</g>\n",
       "<!-- 386 -->\n",
       "<g class=\"node\" id=\"node11\"><title>386</title>\n",
       "<polygon fill=\"#399de5\" fill-opacity=\"0.674510\" points=\"420,-155 282,-155 282,-72 420,-72 420,-155\" stroke=\"black\"/>\n",
       "<text font-family=\"Times New Roman,serif\" font-size=\"14.00\" text-anchor=\"middle\" x=\"351\" y=\"-139.8\">disappointed &lt;= 0.5</text>\n",
       "<text font-family=\"Times New Roman,serif\" font-size=\"14.00\" text-anchor=\"middle\" x=\"351\" y=\"-124.8\">gini = 0.37</text>\n",
       "<text font-family=\"Times New Roman,serif\" font-size=\"14.00\" text-anchor=\"middle\" x=\"351\" y=\"-109.8\">samples = 20465</text>\n",
       "<text font-family=\"Times New Roman,serif\" font-size=\"14.00\" text-anchor=\"middle\" x=\"351\" y=\"-94.8\">value = [5011, 15454]</text>\n",
       "<text font-family=\"Times New Roman,serif\" font-size=\"14.00\" text-anchor=\"middle\" x=\"351\" y=\"-79.8\">class = 1</text>\n",
       "</g>\n",
       "<!-- 385&#45;&gt;386 -->\n",
       "<g class=\"edge\" id=\"edge10\"><title>385-&gt;386</title>\n",
       "<path d=\"M444.387,-190.907C432.74,-181.379 420.237,-171.148 408.285,-161.37\" fill=\"none\" stroke=\"black\"/>\n",
       "<polygon fill=\"black\" points=\"410.481,-158.644 400.525,-155.021 406.049,-164.062 410.481,-158.644\" stroke=\"black\"/>\n",
       "</g>\n",
       "<!-- 1055 -->\n",
       "<g class=\"node\" id=\"node14\"><title>1055</title>\n",
       "<polygon fill=\"#e58139\" fill-opacity=\"0.243137\" points=\"556,-155 438,-155 438,-72 556,-72 556,-155\" stroke=\"black\"/>\n",
       "<text font-family=\"Times New Roman,serif\" font-size=\"14.00\" text-anchor=\"middle\" x=\"497\" y=\"-139.8\">waste &lt;= 0.5</text>\n",
       "<text font-family=\"Times New Roman,serif\" font-size=\"14.00\" text-anchor=\"middle\" x=\"497\" y=\"-124.8\">gini = 0.491</text>\n",
       "<text font-family=\"Times New Roman,serif\" font-size=\"14.00\" text-anchor=\"middle\" x=\"497\" y=\"-109.8\">samples = 821</text>\n",
       "<text font-family=\"Times New Roman,serif\" font-size=\"14.00\" text-anchor=\"middle\" x=\"497\" y=\"-94.8\">value = [467, 354]</text>\n",
       "<text font-family=\"Times New Roman,serif\" font-size=\"14.00\" text-anchor=\"middle\" x=\"497\" y=\"-79.8\">class = 0</text>\n",
       "</g>\n",
       "<!-- 385&#45;&gt;1055 -->\n",
       "<g class=\"edge\" id=\"edge13\"><title>385-&gt;1055</title>\n",
       "<path d=\"M495.041,-190.907C495.255,-182.558 495.483,-173.671 495.705,-165.02\" fill=\"none\" stroke=\"black\"/>\n",
       "<polygon fill=\"black\" points=\"499.203,-165.107 495.961,-155.021 492.206,-164.928 499.203,-165.107\" stroke=\"black\"/>\n",
       "</g>\n",
       "<!-- 387 -->\n",
       "<g class=\"node\" id=\"node12\"><title>387</title>\n",
       "<polygon fill=\"#c0c0c0\" points=\"307,-36 253,-36 253,-0 307,-0 307,-36\" stroke=\"black\"/>\n",
       "<text font-family=\"Times New Roman,serif\" font-size=\"14.00\" text-anchor=\"middle\" x=\"280\" y=\"-14.3\">(...)</text>\n",
       "</g>\n",
       "<!-- 386&#45;&gt;387 -->\n",
       "<g class=\"edge\" id=\"edge11\"><title>386-&gt;387</title>\n",
       "<path d=\"M320.065,-71.7615C313.002,-62.4605 305.694,-52.8368 299.285,-44.3959\" fill=\"none\" stroke=\"black\"/>\n",
       "<polygon fill=\"black\" points=\"302.052,-42.2525 293.217,-36.4051 296.477,-46.4859 302.052,-42.2525\" stroke=\"black\"/>\n",
       "</g>\n",
       "<!-- 1046 -->\n",
       "<g class=\"node\" id=\"node13\"><title>1046</title>\n",
       "<polygon fill=\"#c0c0c0\" points=\"379,-36 325,-36 325,-0 379,-0 379,-36\" stroke=\"black\"/>\n",
       "<text font-family=\"Times New Roman,serif\" font-size=\"14.00\" text-anchor=\"middle\" x=\"352\" y=\"-14.3\">(...)</text>\n",
       "</g>\n",
       "<!-- 386&#45;&gt;1046 -->\n",
       "<g class=\"edge\" id=\"edge12\"><title>386-&gt;1046</title>\n",
       "<path d=\"M351.436,-71.7615C351.527,-63.2356 351.621,-54.4385 351.706,-46.5299\" fill=\"none\" stroke=\"black\"/>\n",
       "<polygon fill=\"black\" points=\"355.207,-46.442 351.814,-36.4051 348.207,-46.3671 355.207,-46.442\" stroke=\"black\"/>\n",
       "</g>\n",
       "<!-- 1056 -->\n",
       "<g class=\"node\" id=\"node15\"><title>1056</title>\n",
       "<polygon fill=\"#c0c0c0\" points=\"471,-36 417,-36 417,-0 471,-0 471,-36\" stroke=\"black\"/>\n",
       "<text font-family=\"Times New Roman,serif\" font-size=\"14.00\" text-anchor=\"middle\" x=\"444\" y=\"-14.3\">(...)</text>\n",
       "</g>\n",
       "<!-- 1055&#45;&gt;1056 -->\n",
       "<g class=\"edge\" id=\"edge14\"><title>1055-&gt;1056</title>\n",
       "<path d=\"M473.908,-71.7615C468.8,-62.7512 463.521,-53.4379 458.846,-45.1906\" fill=\"none\" stroke=\"black\"/>\n",
       "<polygon fill=\"black\" points=\"461.842,-43.3787 453.866,-36.4051 455.752,-46.8306 461.842,-43.3787\" stroke=\"black\"/>\n",
       "</g>\n",
       "<!-- 1063 -->\n",
       "<g class=\"node\" id=\"node16\"><title>1063</title>\n",
       "<polygon fill=\"#c0c0c0\" points=\"543,-36 489,-36 489,-0 543,-0 543,-36\" stroke=\"black\"/>\n",
       "<text font-family=\"Times New Roman,serif\" font-size=\"14.00\" text-anchor=\"middle\" x=\"516\" y=\"-14.3\">(...)</text>\n",
       "</g>\n",
       "<!-- 1055&#45;&gt;1063 -->\n",
       "<g class=\"edge\" id=\"edge15\"><title>1055-&gt;1063</title>\n",
       "<path d=\"M505.278,-71.7615C507.031,-63.1387 508.839,-54.2385 510.46,-46.2606\" fill=\"none\" stroke=\"black\"/>\n",
       "<polygon fill=\"black\" points=\"513.902,-46.9018 512.463,-36.4051 507.042,-45.5078 513.902,-46.9018\" stroke=\"black\"/>\n",
       "</g>\n",
       "<!-- 1065 -->\n",
       "<g class=\"node\" id=\"node18\"><title>1065</title>\n",
       "<polygon fill=\"#399de5\" fill-opacity=\"0.909804\" points=\"704.5,-155 579.5,-155 579.5,-72 704.5,-72 704.5,-155\" stroke=\"black\"/>\n",
       "<text font-family=\"Times New Roman,serif\" font-size=\"14.00\" text-anchor=\"middle\" x=\"642\" y=\"-139.8\">disgusting &lt;= 0.5</text>\n",
       "<text font-family=\"Times New Roman,serif\" font-size=\"14.00\" text-anchor=\"middle\" x=\"642\" y=\"-124.8\">gini = 0.15</text>\n",
       "<text font-family=\"Times New Roman,serif\" font-size=\"14.00\" text-anchor=\"middle\" x=\"642\" y=\"-109.8\">samples = 6191</text>\n",
       "<text font-family=\"Times New Roman,serif\" font-size=\"14.00\" text-anchor=\"middle\" x=\"642\" y=\"-94.8\">value = [505, 5686]</text>\n",
       "<text font-family=\"Times New Roman,serif\" font-size=\"14.00\" text-anchor=\"middle\" x=\"642\" y=\"-79.8\">class = 1</text>\n",
       "</g>\n",
       "<!-- 1064&#45;&gt;1065 -->\n",
       "<g class=\"edge\" id=\"edge17\"><title>1064-&gt;1065</title>\n",
       "<path d=\"M643.306,-190.907C643.163,-182.558 643.011,-173.671 642.864,-165.02\" fill=\"none\" stroke=\"black\"/>\n",
       "<polygon fill=\"black\" points=\"646.363,-164.959 642.693,-155.021 639.364,-165.079 646.363,-164.959\" stroke=\"black\"/>\n",
       "</g>\n",
       "<!-- 1160 -->\n",
       "<g class=\"node\" id=\"node21\"><title>1160</title>\n",
       "<polygon fill=\"#399de5\" fill-opacity=\"0.662745\" points=\"833.5,-147.5 722.5,-147.5 722.5,-79.5 833.5,-79.5 833.5,-147.5\" stroke=\"black\"/>\n",
       "<text font-family=\"Times New Roman,serif\" font-size=\"14.00\" text-anchor=\"middle\" x=\"778\" y=\"-132.3\">gini = 0.377</text>\n",
       "<text font-family=\"Times New Roman,serif\" font-size=\"14.00\" text-anchor=\"middle\" x=\"778\" y=\"-117.3\">samples = 305</text>\n",
       "<text font-family=\"Times New Roman,serif\" font-size=\"14.00\" text-anchor=\"middle\" x=\"778\" y=\"-102.3\">value = [77, 228]</text>\n",
       "<text font-family=\"Times New Roman,serif\" font-size=\"14.00\" text-anchor=\"middle\" x=\"778\" y=\"-87.3\">class = 1</text>\n",
       "</g>\n",
       "<!-- 1064&#45;&gt;1160 -->\n",
       "<g class=\"edge\" id=\"edge20\"><title>1064-&gt;1160</title>\n",
       "<path d=\"M690.491,-190.907C704.013,-179.101 718.769,-166.217 732.246,-154.45\" fill=\"none\" stroke=\"black\"/>\n",
       "<polygon fill=\"black\" points=\"734.783,-156.881 740.014,-147.667 730.179,-151.608 734.783,-156.881\" stroke=\"black\"/>\n",
       "</g>\n",
       "<!-- 1066 -->\n",
       "<g class=\"node\" id=\"node19\"><title>1066</title>\n",
       "<polygon fill=\"#c0c0c0\" points=\"649,-36 595,-36 595,-0 649,-0 649,-36\" stroke=\"black\"/>\n",
       "<text font-family=\"Times New Roman,serif\" font-size=\"14.00\" text-anchor=\"middle\" x=\"622\" y=\"-14.3\">(...)</text>\n",
       "</g>\n",
       "<!-- 1065&#45;&gt;1066 -->\n",
       "<g class=\"edge\" id=\"edge18\"><title>1065-&gt;1066</title>\n",
       "<path d=\"M633.286,-71.7615C631.441,-63.1387 629.538,-54.2385 627.831,-46.2606\" fill=\"none\" stroke=\"black\"/>\n",
       "<polygon fill=\"black\" points=\"631.237,-45.4518 625.723,-36.4051 624.392,-46.916 631.237,-45.4518\" stroke=\"black\"/>\n",
       "</g>\n",
       "<!-- 1159 -->\n",
       "<g class=\"node\" id=\"node20\"><title>1159</title>\n",
       "<polygon fill=\"#c0c0c0\" points=\"721,-36 667,-36 667,-0 721,-0 721,-36\" stroke=\"black\"/>\n",
       "<text font-family=\"Times New Roman,serif\" font-size=\"14.00\" text-anchor=\"middle\" x=\"694\" y=\"-14.3\">(...)</text>\n",
       "</g>\n",
       "<!-- 1065&#45;&gt;1159 -->\n",
       "<g class=\"edge\" id=\"edge19\"><title>1065-&gt;1159</title>\n",
       "<path d=\"M664.657,-71.7615C669.668,-62.7512 674.847,-53.4379 679.434,-45.1906\" fill=\"none\" stroke=\"black\"/>\n",
       "<polygon fill=\"black\" points=\"682.518,-46.8456 684.32,-36.4051 676.401,-43.4433 682.518,-46.8456\" stroke=\"black\"/>\n",
       "</g>\n",
       "</g>\n",
       "</svg>"
      ],
      "text/plain": [
       "<IPython.core.display.SVG object>"
      ]
     },
     "metadata": {},
     "output_type": "display_data"
    }
   ],
   "source": [
    "from sklearn import tree\n",
    "from subprocess import check_call\n",
    "graph=Source(tree.export_graphviz(dtc,out_file=None,feature_names=count_vect.get_feature_names(),class_names=['0','1'],filled=True,max_depth=3))\n",
    "display(SVG(graph.pipe(format='svg')))\n"
   ]
  },
  {
   "cell_type": "code",
   "execution_count": 54,
   "metadata": {},
   "outputs": [],
   "source": [
    "graph=tree.export_graphviz(dtc, out_file='dt_anju_1.dot'\n",
    "   , feature_names=count_vect.get_feature_names(), class_names=['0', '1'] \n",
    "   , filled = True)"
   ]
  },
  {
   "cell_type": "markdown",
   "metadata": {
    "colab_type": "text",
    "id": "5przjMTbiWOz"
   },
   "source": [
    "## [5.2] Applying Decision Trees on TFIDF,<font color='red'> SET 2</font>"
   ]
  },
  {
   "cell_type": "code",
   "execution_count": 55,
   "metadata": {
    "colab": {},
    "colab_type": "code",
    "id": "Bm3mfI7miWOz"
   },
   "outputs": [
    {
     "name": "stdout",
     "output_type": "stream",
     "text": [
      "some sample features(unique words in the corpus) ['abandon', 'abdominal', 'ability', 'able', 'able buy', 'able chew', 'able drink', 'able eat', 'able enjoy', 'able feed']\n",
      "==================================================\n",
      "the type of count vectorizer  <class 'scipy.sparse.csr.csr_matrix'>\n",
      "the shape of out text TFIDF vectorizer  (52663, 30520)\n",
      "the number of unique words including both unigrams and bigrams  30520\n"
     ]
    }
   ],
   "source": [
    "# Please write all the code with proper documentation\n",
    "tf_idf_vect = TfidfVectorizer(ngram_range=(1,2), min_df=10)\n",
    "tf_idf_vect.fit(x_tr)\n",
    "print(\"some sample features(unique words in the corpus)\",tf_idf_vect.get_feature_names()[0:10])\n",
    "print('='*50)\n",
    "\n",
    "\n",
    "final_tf_idf_tr = tf_idf_vect.transform(x_tr)\n",
    "final_tf_idf_cv = tf_idf_vect.transform(x_cv)\n",
    "final_tf_idf_test = tf_idf_vect.transform(x_test)\n",
    "print(\"the type of count vectorizer \",type(final_tf_idf_tr))\n",
    "print(\"the shape of out text TFIDF vectorizer \",final_tf_idf_tr.get_shape())\n",
    "print(\"the number of unique words including both unigrams and bigrams \", final_tf_idf_tr.get_shape()[1])"
   ]
  },
  {
   "cell_type": "code",
   "execution_count": 56,
   "metadata": {},
   "outputs": [
    {
     "name": "stdout",
     "output_type": "stream",
     "text": [
      "AUC score on train data for depth value 1 and in_samples_split   5 is 0.6187604695332022\n",
      "AUC score on crossval dat afor depth value 1 and in_samples_split 5 is 0.6226813960331594\n",
      "AUC score on train data for depth value 1 and in_samples_split   10 is 0.6187604695332022\n",
      "AUC score on crossval dat afor depth value 1 and in_samples_split 10 is 0.6226813960331594\n",
      "AUC score on train data for depth value 1 and in_samples_split   100 is 0.6187604695332022\n",
      "AUC score on crossval dat afor depth value 1 and in_samples_split 100 is 0.6226813960331594\n",
      "AUC score on train data for depth value 1 and in_samples_split   500 is 0.6187604695332022\n",
      "AUC score on crossval dat afor depth value 1 and in_samples_split 500 is 0.6226813960331594\n",
      "AUC score on train data for depth value 5 and in_samples_split   5 is 0.7147616937458167\n",
      "AUC score on crossval dat afor depth value 5 and in_samples_split 5 is 0.7117561440859819\n",
      "AUC score on train data for depth value 5 and in_samples_split   10 is 0.7147616937458167\n",
      "AUC score on crossval dat afor depth value 5 and in_samples_split 10 is 0.7113543168138975\n",
      "AUC score on train data for depth value 5 and in_samples_split   100 is 0.7144600654338154\n",
      "AUC score on crossval dat afor depth value 5 and in_samples_split 100 is 0.7124847216731195\n",
      "AUC score on train data for depth value 5 and in_samples_split   500 is 0.713967950097013\n",
      "AUC score on crossval dat afor depth value 5 and in_samples_split 500 is 0.7125632929795929\n",
      "AUC score on train data for depth value 10 and in_samples_split   5 is 0.7769265240330037\n",
      "AUC score on crossval dat afor depth value 10 and in_samples_split 5 is 0.7432076148129805\n",
      "AUC score on train data for depth value 10 and in_samples_split   10 is 0.7763500311635473\n",
      "AUC score on crossval dat afor depth value 10 and in_samples_split 10 is 0.7458217548160039\n",
      "AUC score on train data for depth value 10 and in_samples_split   100 is 0.7722326616371399\n",
      "AUC score on crossval dat afor depth value 10 and in_samples_split 100 is 0.7529940846277817\n",
      "AUC score on train data for depth value 10 and in_samples_split   500 is 0.7683906273667398\n",
      "AUC score on crossval dat afor depth value 10 and in_samples_split 500 is 0.7567308960937207\n",
      "AUC score on train data for depth value 50 and in_samples_split   5 is 0.9482726018241809\n",
      "AUC score on crossval dat afor depth value 50 and in_samples_split 5 is 0.7249741452511929\n",
      "AUC score on train data for depth value 50 and in_samples_split   10 is 0.9455824467382015\n",
      "AUC score on crossval dat afor depth value 50 and in_samples_split 10 is 0.7380931474867976\n",
      "AUC score on train data for depth value 50 and in_samples_split   100 is 0.9286665179369346\n",
      "AUC score on crossval dat afor depth value 50 and in_samples_split 100 is 0.7903573873961359\n",
      "AUC score on train data for depth value 50 and in_samples_split   500 is 0.9083314954068795\n",
      "AUC score on crossval dat afor depth value 50 and in_samples_split 500 is 0.8163313107045832\n",
      "AUC score on train data for depth value 100 and in_samples_split   5 is 0.9862102018730852\n",
      "AUC score on crossval dat afor depth value 100 and in_samples_split 5 is 0.6950755748731848\n",
      "AUC score on train data for depth value 100 and in_samples_split   10 is 0.9845583541181152\n",
      "AUC score on crossval dat afor depth value 100 and in_samples_split 10 is 0.7165545847399905\n",
      "AUC score on train data for depth value 100 and in_samples_split   100 is 0.9705977295769981\n",
      "AUC score on crossval dat afor depth value 100 and in_samples_split 100 is 0.7590743901397845\n",
      "AUC score on train data for depth value 100 and in_samples_split   500 is 0.9525974640809934\n",
      "AUC score on crossval dat afor depth value 100 and in_samples_split 500 is 0.7974241534841093\n",
      "AUC score on train data for depth value 500 and in_samples_split   5 is 0.9997565346144174\n",
      "AUC score on crossval dat afor depth value 500 and in_samples_split 5 is 0.7112320718678382\n",
      "AUC score on train data for depth value 500 and in_samples_split   10 is 0.9987687434228136\n",
      "AUC score on crossval dat afor depth value 500 and in_samples_split 10 is 0.718766244428575\n",
      "AUC score on train data for depth value 500 and in_samples_split   100 is 0.9893103945798253\n",
      "AUC score on crossval dat afor depth value 500 and in_samples_split 100 is 0.7477337024343997\n",
      "AUC score on train data for depth value 500 and in_samples_split   500 is 0.9757629621655586\n",
      "AUC score on crossval dat afor depth value 500 and in_samples_split 500 is 0.7712599542558725\n",
      "Wall time: 10min 4s\n"
     ]
    }
   ],
   "source": [
    "%%time\n",
    "from sklearn.tree import DecisionTreeClassifier\n",
    "from sklearn.metrics import roc_auc_score, auc\n",
    "\n",
    "auc_score_tr = []\n",
    "auc_score_cv = []\n",
    "depth=[1, 5, 10, 50, 100, 500]\n",
    "min_samples_split=[5, 10, 100, 500]\n",
    "\n",
    "for i in depth:\n",
    "    for j in min_samples_split:\n",
    "\n",
    "        dtc = DecisionTreeClassifier(max_depth=i,min_samples_split=j)\n",
    "        dtc.fit(final_tf_idf_tr, y_tr)\n",
    "    \n",
    "    \n",
    "        pred_tr = dtc.predict_proba(final_tf_idf_tr)[:,1]\n",
    "        auc_tr = roc_auc_score(y_tr, pred_tr)\n",
    "        print(\"AUC score on train data for depth value\", i,\"and in_samples_split  \",j,\"is\", auc_tr)\n",
    "        auc_score_tr.append(auc_tr)\n",
    "    \n",
    "        pred_cv = dtc.predict_proba(final_tf_idf_cv)[:,1]\n",
    "        auc_cv = roc_auc_score(y_cv, pred_cv)\n",
    "        print(\"AUC score on crossval dat afor depth value\", i, \"and in_samples_split\",j,\"is\", auc_cv)\n",
    "        auc_score_cv.append(auc_cv)\n",
    "\n",
    "\n",
    "auc_score_tr = [x for x in auc_score_tr]\n",
    "auc_score_cv = [y for y in auc_score_cv]\n"
   ]
  },
  {
   "cell_type": "code",
   "execution_count": 61,
   "metadata": {},
   "outputs": [
    {
     "name": "stdout",
     "output_type": "stream",
     "text": [
      "[0.6226813960331594, 0.6226813960331594, 0.6226813960331594, 0.6226813960331594, 0.7117561440859819, 0.7113543168138975, 0.7124847216731195, 0.7125632929795929, 0.7432076148129805, 0.7458217548160039, 0.7529940846277817, 0.7567308960937207, 0.7249741452511929, 0.7380931474867976, 0.7903573873961359, 0.8163313107045832, 0.6950755748731848, 0.7165545847399905, 0.7590743901397845, 0.7974241534841093, 0.7112320718678382, 0.718766244428575, 0.7477337024343997, 0.7712599542558725]\n"
     ]
    }
   ],
   "source": [
    "print(auc_score_cv)"
   ]
  },
  {
   "cell_type": "code",
   "execution_count": 57,
   "metadata": {},
   "outputs": [
    {
     "data": {
      "text/plain": [
       "Text(0.5,1,'min_samples_split v/s AUC')"
      ]
     },
     "execution_count": 57,
     "metadata": {},
     "output_type": "execute_result"
    },
    {
     "data": {
      "image/png": "[encoded data removed]",
      "text/plain": [
       "<Figure size 2160x720 with 6 Axes>"
      ]
     },
     "metadata": {},
     "output_type": "display_data"
    }
   ],
   "source": [
    "    plt.figure(figsize=(30,10))\n",
    "    plt.subplot(3, 3, 1)\n",
    "   \n",
    "    plt.plot(min_samples_split, auc_score_cv[:4],color='green')\n",
    "    plt.plot(min_samples_split, auc_score_tr[:4],  color = 'black')\n",
    "    plt.xlabel(\"min_samples_split\")\n",
    "    plt.ylabel(\"AUC values\")\n",
    "    plt.title(\"min_samples_split v/s AUC\")\n",
    "    plt.subplot(3, 3, 2)\n",
    "    \n",
    "    plt.plot(min_samples_split, auc_score_cv[4:8],color='green')\n",
    "    plt.plot(min_samples_split, auc_score_tr[4:8],  color = 'black')\n",
    "    plt.xlabel(\"min_samples_split\")\n",
    "    plt.ylabel(\"AUC values\")\n",
    "    plt.title(\"min_samples_split v/s AUC\")\n",
    "    plt.subplot(3, 3, 3)\n",
    "    \n",
    "    plt.plot(min_samples_split, auc_score_cv[8:12],color='green')\n",
    "    plt.plot(min_samples_split, auc_score_tr[8:12],  color = 'black')\n",
    "    plt.xlabel(\"min_samples_split\")\n",
    "    plt.ylabel(\"AUC values\")\n",
    "    plt.title(\"min_samples_split v/s AUC\")\n",
    "    plt.subplot(3, 3, 4)\n",
    "    \n",
    "    plt.plot(min_samples_split, auc_score_cv[12:16],color='green')\n",
    "    plt.plot(min_samples_split, auc_score_tr[12:16],  color = 'black')\n",
    "    plt.xlabel(\"min_samples_split\")\n",
    "    plt.ylabel(\"AUC values\")\n",
    "    plt.title(\"min_samples_split v/s AUC\")\n",
    "    plt.subplot(3, 3, 5)\n",
    "    \n",
    "    plt.plot(min_samples_split, auc_score_cv[16:20],color='green')\n",
    "    plt.plot(min_samples_split, auc_score_tr[16:20],  color = 'black')\n",
    "    plt.xlabel(\"min_samples_split\")\n",
    "    plt.ylabel(\"AUC values\")\n",
    "    plt.title(\"min_samples_split v/s AUC\")\n",
    "    plt.subplot(3, 3, 6)\n",
    "    \n",
    "    plt.plot(min_samples_split, auc_score_cv[20:24],color='green')\n",
    "    plt.plot(min_samples_split, auc_score_tr[20:24],  color = 'black')\n",
    "    plt.xlabel(\"min_samples_split\")\n",
    "    plt.ylabel(\"AUC values\")\n",
    "    plt.title(\"min_samples_split v/s AUC\")\n",
    "    "
   ]
  },
  {
   "cell_type": "code",
   "execution_count": 62,
   "metadata": {},
   "outputs": [],
   "source": [
    "best_depth2=50\n",
    "best_min_samples2=500"
   ]
  },
  {
   "cell_type": "code",
   "execution_count": 63,
   "metadata": {},
   "outputs": [
    {
     "data": {
      "image/png": "[encoded data removed]",
      "text/plain": [
       "<Figure size 432x288 with 1 Axes>"
      ]
     },
     "metadata": {},
     "output_type": "display_data"
    },
    {
     "name": "stdout",
     "output_type": "stream",
     "text": [
      "====================================================================================================\n",
      "Train confusion matrix\n",
      "[[ 5055  3109]\n",
      " [ 1938 42561]]\n",
      "Test confusion matrix\n",
      "[[ 1526  1493]\n",
      " [ 1084 13452]]\n"
     ]
    }
   ],
   "source": [
    "# https://scikit-learn.org/stable/modules/generated/sklearn.metrics.roc_curve.html#sklearn.metrics.roc_curve\n",
    "from sklearn.metrics import roc_curve, auc\n",
    "\n",
    "\n",
    "dtc = DecisionTreeClassifier(max_depth=best_depth2,min_samples_split=best_min_samples2)\n",
    "dtc=dtc.fit(final_tf_idf_tr, y_tr)\n",
    "# roc_auc_score(y_true, y_score) the 2nd parameter should be probability estimates of the positive class\n",
    "# not the predicted outputs\n",
    "\n",
    "train_fpr, train_tpr, thresholds = roc_curve(y_tr, dtc.predict_proba(final_tf_idf_tr)[:,1])\n",
    "test_fpr, test_tpr, thresholds = roc_curve(y_test, dtc.predict_proba(final_tf_idf_test)[:,1])\n",
    "\n",
    "plt.plot(train_fpr, train_tpr, label=\"train AUC =\"+str(auc(train_fpr, train_tpr)))\n",
    "plt.plot(test_fpr, test_tpr, label=\"train AUC =\"+str(auc(test_fpr, test_tpr)))\n",
    "plt.legend()\n",
    "plt.xlabel(\"C: hyperparameter\")\n",
    "plt.ylabel(\"AUC\")\n",
    "plt.title(\"ERROR PLOTS\")\n",
    "plt.show()\n",
    "\n",
    "print(\"=\"*100)\n",
    "\n",
    "from sklearn.metrics import confusion_matrix\n",
    "print(\"Train confusion matrix\")\n",
    "print(confusion_matrix(y_tr, dtc.predict(final_tf_idf_tr)))\n",
    "print(\"Test confusion matrix\")\n",
    "cm=confusion_matrix(y_test,dtc.predict(final_tf_idf_test))\n",
    "print(confusion_matrix(y_test, dtc.predict(final_tf_idf_test)))\n"
   ]
  },
  {
   "cell_type": "code",
   "execution_count": 64,
   "metadata": {},
   "outputs": [
    {
     "data": {
      "image/png": "[encoded data removed]",
      "text/plain": [
       "<Figure size 432x288 with 1 Axes>"
      ]
     },
     "metadata": {},
     "output_type": "display_data"
    }
   ],
   "source": [
    "plt.clf()\n",
    "plt.imshow(cm, interpolation='nearest', cmap=plt.cm.Wistia)\n",
    "classNames = ['Negative','Positive']\n",
    "plt.ylabel('True label')\n",
    "plt.xlabel('Predicted label')\n",
    "tick_marks = np.arange(len(classNames))\n",
    "plt.xticks(tick_marks, classNames, rotation=45)\n",
    "plt.yticks(tick_marks, classNames)\n",
    "s = [['TN','FP'], ['FN', 'TP']]\n",
    "for i in range(2):\n",
    "    for j in range(2):\n",
    "        plt.text(j,i, str(s[i][j])+\" = \"+str(cm[i][j]))\n",
    "plt.show()"
   ]
  },
  {
   "cell_type": "markdown",
   "metadata": {
    "colab_type": "text",
    "id": "PIKUCldjiWO0"
   },
   "source": [
    "### [5.2.1] Top 20 important features from<font color='red'> SET 2</font>"
   ]
  },
  {
   "cell_type": "code",
   "execution_count": 65,
   "metadata": {
    "colab": {},
    "colab_type": "code",
    "id": "p2P0iHQciWO1"
   },
   "outputs": [],
   "source": [
    "# Please write all the code with proper documentation\n",
    "# Calculate feature importances\n",
    "importances = dtc.feature_importances_"
   ]
  },
  {
   "cell_type": "code",
   "execution_count": 66,
   "metadata": {},
   "outputs": [],
   "source": [
    "indices = np.argsort(importances)[::-1][:20]"
   ]
  },
  {
   "cell_type": "code",
   "execution_count": 67,
   "metadata": {},
   "outputs": [
    {
     "data": {
      "text/plain": [
       "(20,)"
      ]
     },
     "execution_count": 67,
     "metadata": {},
     "output_type": "execute_result"
    }
   ],
   "source": [
    "np.shape(indices)"
   ]
  },
  {
   "cell_type": "code",
   "execution_count": 68,
   "metadata": {},
   "outputs": [],
   "source": [
    "feature_names=tf_idf_vect.get_feature_names()"
   ]
  },
  {
   "cell_type": "code",
   "execution_count": 69,
   "metadata": {},
   "outputs": [],
   "source": [
    "feature_names=np.array(feature_names)"
   ]
  },
  {
   "cell_type": "code",
   "execution_count": 70,
   "metadata": {},
   "outputs": [
    {
     "name": "stdout",
     "output_type": "stream",
     "text": [
      "{'not': 0.09436310696129543, 'great': 0.04942168091126285, 'disappointed': 0.04314084337975339, 'worst': 0.029524636672523658, 'return': 0.025823681434209225, 'money': 0.023352580158834915, 'not buy': 0.022984660284878347, 'threw': 0.022180377031286565, 'horrible': 0.021621921046167895, 'not worth': 0.018522530613187833, 'best': 0.01673097573551974, 'terrible': 0.016522714091415855, 'not recommend': 0.015882130698400165, 'delicious': 0.014402831815921033, 'disappointing': 0.013427242664239739, 'awful': 0.013254678202229973, 'love': 0.013052051452806593, 'disgusting': 0.012784632295524944, 'good': 0.012579192710601629, 'not disappointed': 0.011354367302227752}\n"
     ]
    }
   ],
   "source": [
    "print(dict(zip(feature_names[indices],importances[indices])))"
   ]
  },
  {
   "cell_type": "markdown",
   "metadata": {
    "colab_type": "text",
    "id": "RTZB9ipUiWO3"
   },
   "source": [
    "### [5.2.2] Graphviz visualization of Decision Tree on TFIDF,<font color='red'> SET 2</font>"
   ]
  },
  {
   "cell_type": "code",
   "execution_count": 71,
   "metadata": {
    "colab": {},
    "colab_type": "code",
    "id": "DMbZoPoTiWO4"
   },
   "outputs": [],
   "source": [
    "from sklearn import tree\n",
    "import pydotplus\n",
    "from IPython.display import Image\n",
    "from IPython.display import SVG\n",
    "from graphviz import Source\n",
    "from IPython.display import display"
   ]
  },
  {
   "cell_type": "code",
   "execution_count": null,
   "metadata": {},
   "outputs": [],
   "source": []
  },
  {
   "cell_type": "code",
   "execution_count": null,
   "metadata": {},
   "outputs": [],
   "source": []
  },
  {
   "cell_type": "code",
   "execution_count": 72,
   "metadata": {},
   "outputs": [
    {
     "data": {
      "image/svg+xml": [
       "<svg height=\"520pt\" viewBox=\"0.00 0.00 1139.00 520.00\" width=\"1139pt\" xmlns=\"http://www.w3.org/2000/svg\" xmlns:xlink=\"http://www.w3.org/1999/xlink\">\n",
       "<g class=\"graph\" id=\"graph0\" transform=\"scale(1 1) rotate(0) translate(4 516)\">\n",
       "<title>Tree</title>\n",
       "<polygon fill=\"white\" points=\"-4,4 -4,-516 1135,-516 1135,4 -4,4\" stroke=\"none\"/>\n",
       "<!-- 0 -->\n",
       "<g class=\"node\" id=\"node1\"><title>0</title>\n",
       "<polygon fill=\"#399de5\" fill-opacity=\"0.815686\" points=\"670,-512 532,-512 532,-429 670,-429 670,-512\" stroke=\"black\"/>\n",
       "<text font-family=\"Times New Roman,serif\" font-size=\"14.00\" text-anchor=\"middle\" x=\"601\" y=\"-496.8\">not &lt;= 0.05</text>\n",
       "<text font-family=\"Times New Roman,serif\" font-size=\"14.00\" text-anchor=\"middle\" x=\"601\" y=\"-481.8\">gini = 0.262</text>\n",
       "<text font-family=\"Times New Roman,serif\" font-size=\"14.00\" text-anchor=\"middle\" x=\"601\" y=\"-466.8\">samples = 52663</text>\n",
       "<text font-family=\"Times New Roman,serif\" font-size=\"14.00\" text-anchor=\"middle\" x=\"601\" y=\"-451.8\">value = [8164, 44499]</text>\n",
       "<text font-family=\"Times New Roman,serif\" font-size=\"14.00\" text-anchor=\"middle\" x=\"601\" y=\"-436.8\">class = 1</text>\n",
       "</g>\n",
       "<!-- 1 -->\n",
       "<g class=\"node\" id=\"node2\"><title>1</title>\n",
       "<polygon fill=\"#399de5\" fill-opacity=\"0.874510\" points=\"559.5,-393 416.5,-393 416.5,-310 559.5,-310 559.5,-393\" stroke=\"black\"/>\n",
       "<text font-family=\"Times New Roman,serif\" font-size=\"14.00\" text-anchor=\"middle\" x=\"488\" y=\"-377.8\">disappointed &lt;= 0.043</text>\n",
       "<text font-family=\"Times New Roman,serif\" font-size=\"14.00\" text-anchor=\"middle\" x=\"488\" y=\"-362.8\">gini = 0.197</text>\n",
       "<text font-family=\"Times New Roman,serif\" font-size=\"14.00\" text-anchor=\"middle\" x=\"488\" y=\"-347.8\">samples = 36959</text>\n",
       "<text font-family=\"Times New Roman,serif\" font-size=\"14.00\" text-anchor=\"middle\" x=\"488\" y=\"-332.8\">value = [4091, 32868]</text>\n",
       "<text font-family=\"Times New Roman,serif\" font-size=\"14.00\" text-anchor=\"middle\" x=\"488\" y=\"-317.8\">class = 1</text>\n",
       "</g>\n",
       "<!-- 0&#45;&gt;1 -->\n",
       "<g class=\"edge\" id=\"edge1\"><title>0-&gt;1</title>\n",
       "<path d=\"M561.795,-428.907C552.943,-419.742 543.463,-409.927 534.348,-400.489\" fill=\"none\" stroke=\"black\"/>\n",
       "<polygon fill=\"black\" points=\"536.6,-397.782 527.135,-393.021 531.565,-402.645 536.6,-397.782\" stroke=\"black\"/>\n",
       "<text font-family=\"Times New Roman,serif\" font-size=\"14.00\" text-anchor=\"middle\" x=\"526.701\" y=\"-414.317\">True</text>\n",
       "</g>\n",
       "<!-- 572 -->\n",
       "<g class=\"node\" id=\"node13\"><title>572</title>\n",
       "<polygon fill=\"#399de5\" fill-opacity=\"0.650980\" points=\"783,-393 645,-393 645,-310 783,-310 783,-393\" stroke=\"black\"/>\n",
       "<text font-family=\"Times New Roman,serif\" font-size=\"14.00\" text-anchor=\"middle\" x=\"714\" y=\"-377.8\">great &lt;= 0.016</text>\n",
       "<text font-family=\"Times New Roman,serif\" font-size=\"14.00\" text-anchor=\"middle\" x=\"714\" y=\"-362.8\">gini = 0.384</text>\n",
       "<text font-family=\"Times New Roman,serif\" font-size=\"14.00\" text-anchor=\"middle\" x=\"714\" y=\"-347.8\">samples = 15704</text>\n",
       "<text font-family=\"Times New Roman,serif\" font-size=\"14.00\" text-anchor=\"middle\" x=\"714\" y=\"-332.8\">value = [4073, 11631]</text>\n",
       "<text font-family=\"Times New Roman,serif\" font-size=\"14.00\" text-anchor=\"middle\" x=\"714\" y=\"-317.8\">class = 1</text>\n",
       "</g>\n",
       "<!-- 0&#45;&gt;572 -->\n",
       "<g class=\"edge\" id=\"edge12\"><title>0-&gt;572</title>\n",
       "<path d=\"M640.205,-428.907C649.057,-419.742 658.537,-409.927 667.652,-400.489\" fill=\"none\" stroke=\"black\"/>\n",
       "<polygon fill=\"black\" points=\"670.435,-402.645 674.865,-393.021 665.4,-397.782 670.435,-402.645\" stroke=\"black\"/>\n",
       "<text font-family=\"Times New Roman,serif\" font-size=\"14.00\" text-anchor=\"middle\" x=\"675.299\" y=\"-414.317\">False</text>\n",
       "</g>\n",
       "<!-- 2 -->\n",
       "<g class=\"node\" id=\"node3\"><title>2</title>\n",
       "<polygon fill=\"#399de5\" fill-opacity=\"0.886275\" points=\"281,-274 143,-274 143,-191 281,-191 281,-274\" stroke=\"black\"/>\n",
       "<text font-family=\"Times New Roman,serif\" font-size=\"14.00\" text-anchor=\"middle\" x=\"212\" y=\"-258.8\">worst &lt;= 0.067</text>\n",
       "<text font-family=\"Times New Roman,serif\" font-size=\"14.00\" text-anchor=\"middle\" x=\"212\" y=\"-243.8\">gini = 0.186</text>\n",
       "<text font-family=\"Times New Roman,serif\" font-size=\"14.00\" text-anchor=\"middle\" x=\"212\" y=\"-228.8\">samples = 36328</text>\n",
       "<text font-family=\"Times New Roman,serif\" font-size=\"14.00\" text-anchor=\"middle\" x=\"212\" y=\"-213.8\">value = [3759, 32569]</text>\n",
       "<text font-family=\"Times New Roman,serif\" font-size=\"14.00\" text-anchor=\"middle\" x=\"212\" y=\"-198.8\">class = 1</text>\n",
       "</g>\n",
       "<!-- 1&#45;&gt;2 -->\n",
       "<g class=\"edge\" id=\"edge2\"><title>1-&gt;2</title>\n",
       "<path d=\"M416.205,-320.065C377.611,-303.705 329.964,-283.507 290.405,-266.737\" fill=\"none\" stroke=\"black\"/>\n",
       "<polygon fill=\"black\" points=\"291.628,-263.454 281.055,-262.773 288.896,-269.899 291.628,-263.454\" stroke=\"black\"/>\n",
       "</g>\n",
       "<!-- 567 -->\n",
       "<g class=\"node\" id=\"node8\"><title>567</title>\n",
       "<polygon fill=\"#e58139\" fill-opacity=\"0.098039\" points=\"570.5,-274 405.5,-274 405.5,-191 570.5,-191 570.5,-274\" stroke=\"black\"/>\n",
       "<text font-family=\"Times New Roman,serif\" font-size=\"14.00\" text-anchor=\"middle\" x=\"488\" y=\"-258.8\">not disappointed &lt;= 0.031</text>\n",
       "<text font-family=\"Times New Roman,serif\" font-size=\"14.00\" text-anchor=\"middle\" x=\"488\" y=\"-243.8\">gini = 0.499</text>\n",
       "<text font-family=\"Times New Roman,serif\" font-size=\"14.00\" text-anchor=\"middle\" x=\"488\" y=\"-228.8\">samples = 631</text>\n",
       "<text font-family=\"Times New Roman,serif\" font-size=\"14.00\" text-anchor=\"middle\" x=\"488\" y=\"-213.8\">value = [332, 299]</text>\n",
       "<text font-family=\"Times New Roman,serif\" font-size=\"14.00\" text-anchor=\"middle\" x=\"488\" y=\"-198.8\">class = 0</text>\n",
       "</g>\n",
       "<!-- 1&#45;&gt;567 -->\n",
       "<g class=\"edge\" id=\"edge7\"><title>1-&gt;567</title>\n",
       "<path d=\"M488,-309.907C488,-301.649 488,-292.864 488,-284.302\" fill=\"none\" stroke=\"black\"/>\n",
       "<polygon fill=\"black\" points=\"491.5,-284.021 488,-274.021 484.5,-284.021 491.5,-284.021\" stroke=\"black\"/>\n",
       "</g>\n",
       "<!-- 3 -->\n",
       "<g class=\"node\" id=\"node4\"><title>3</title>\n",
       "<polygon fill=\"#399de5\" fill-opacity=\"0.890196\" points=\"138,-155 0,-155 0,-72 138,-72 138,-155\" stroke=\"black\"/>\n",
       "<text font-family=\"Times New Roman,serif\" font-size=\"14.00\" text-anchor=\"middle\" x=\"69\" y=\"-139.8\">horrible &lt;= 0.038</text>\n",
       "<text font-family=\"Times New Roman,serif\" font-size=\"14.00\" text-anchor=\"middle\" x=\"69\" y=\"-124.8\">gini = 0.181</text>\n",
       "<text font-family=\"Times New Roman,serif\" font-size=\"14.00\" text-anchor=\"middle\" x=\"69\" y=\"-109.8\">samples = 36178</text>\n",
       "<text font-family=\"Times New Roman,serif\" font-size=\"14.00\" text-anchor=\"middle\" x=\"69\" y=\"-94.8\">value = [3633, 32545]</text>\n",
       "<text font-family=\"Times New Roman,serif\" font-size=\"14.00\" text-anchor=\"middle\" x=\"69\" y=\"-79.8\">class = 1</text>\n",
       "</g>\n",
       "<!-- 2&#45;&gt;3 -->\n",
       "<g class=\"edge\" id=\"edge3\"><title>2-&gt;3</title>\n",
       "<path d=\"M162.387,-190.907C150.74,-181.379 138.237,-171.148 126.285,-161.37\" fill=\"none\" stroke=\"black\"/>\n",
       "<polygon fill=\"black\" points=\"128.481,-158.644 118.525,-155.021 124.049,-164.062 128.481,-158.644\" stroke=\"black\"/>\n",
       "</g>\n",
       "<!-- 566 -->\n",
       "<g class=\"node\" id=\"node7\"><title>566</title>\n",
       "<polygon fill=\"#e58139\" fill-opacity=\"0.807843\" points=\"267.5,-147.5 156.5,-147.5 156.5,-79.5 267.5,-79.5 267.5,-147.5\" stroke=\"black\"/>\n",
       "<text font-family=\"Times New Roman,serif\" font-size=\"14.00\" text-anchor=\"middle\" x=\"212\" y=\"-132.3\">gini = 0.269</text>\n",
       "<text font-family=\"Times New Roman,serif\" font-size=\"14.00\" text-anchor=\"middle\" x=\"212\" y=\"-117.3\">samples = 150</text>\n",
       "<text font-family=\"Times New Roman,serif\" font-size=\"14.00\" text-anchor=\"middle\" x=\"212\" y=\"-102.3\">value = [126, 24]</text>\n",
       "<text font-family=\"Times New Roman,serif\" font-size=\"14.00\" text-anchor=\"middle\" x=\"212\" y=\"-87.3\">class = 0</text>\n",
       "</g>\n",
       "<!-- 2&#45;&gt;566 -->\n",
       "<g class=\"edge\" id=\"edge6\"><title>2-&gt;566</title>\n",
       "<path d=\"M212,-190.907C212,-180.204 212,-168.615 212,-157.776\" fill=\"none\" stroke=\"black\"/>\n",
       "<polygon fill=\"black\" points=\"215.5,-157.667 212,-147.667 208.5,-157.667 215.5,-157.667\" stroke=\"black\"/>\n",
       "</g>\n",
       "<!-- 4 -->\n",
       "<g class=\"node\" id=\"node5\"><title>4</title>\n",
       "<polygon fill=\"#c0c0c0\" points=\"60,-36 6,-36 6,-0 60,-0 60,-36\" stroke=\"black\"/>\n",
       "<text font-family=\"Times New Roman,serif\" font-size=\"14.00\" text-anchor=\"middle\" x=\"33\" y=\"-14.3\">(...)</text>\n",
       "</g>\n",
       "<!-- 3&#45;&gt;4 -->\n",
       "<g class=\"edge\" id=\"edge4\"><title>3-&gt;4</title>\n",
       "<path d=\"M53.3146,-71.7615C49.9573,-63.0419 46.4907,-54.0385 43.3927,-45.9921\" fill=\"none\" stroke=\"black\"/>\n",
       "<polygon fill=\"black\" points=\"46.5609,-44.4797 39.7014,-36.4051 40.0284,-46.9949 46.5609,-44.4797\" stroke=\"black\"/>\n",
       "</g>\n",
       "<!-- 565 -->\n",
       "<g class=\"node\" id=\"node6\"><title>565</title>\n",
       "<polygon fill=\"#c0c0c0\" points=\"132,-36 78,-36 78,-0 132,-0 132,-36\" stroke=\"black\"/>\n",
       "<text font-family=\"Times New Roman,serif\" font-size=\"14.00\" text-anchor=\"middle\" x=\"105\" y=\"-14.3\">(...)</text>\n",
       "</g>\n",
       "<!-- 3&#45;&gt;565 -->\n",
       "<g class=\"edge\" id=\"edge5\"><title>3-&gt;565</title>\n",
       "<path d=\"M84.6854,-71.7615C88.0427,-63.0419 91.5093,-54.0385 94.6073,-45.9921\" fill=\"none\" stroke=\"black\"/>\n",
       "<polygon fill=\"black\" points=\"97.9716,-46.9949 98.2986,-36.4051 91.4391,-44.4797 97.9716,-46.9949\" stroke=\"black\"/>\n",
       "</g>\n",
       "<!-- 568 -->\n",
       "<g class=\"node\" id=\"node9\"><title>568</title>\n",
       "<polygon fill=\"#e58139\" fill-opacity=\"0.419608\" points=\"462.5,-155 285.5,-155 285.5,-72 462.5,-72 462.5,-155\" stroke=\"black\"/>\n",
       "<text font-family=\"Times New Roman,serif\" font-size=\"14.00\" text-anchor=\"middle\" x=\"374\" y=\"-139.8\">never disappointed &lt;= 0.027</text>\n",
       "<text font-family=\"Times New Roman,serif\" font-size=\"14.00\" text-anchor=\"middle\" x=\"374\" y=\"-124.8\">gini = 0.465</text>\n",
       "<text font-family=\"Times New Roman,serif\" font-size=\"14.00\" text-anchor=\"middle\" x=\"374\" y=\"-109.8\">samples = 525</text>\n",
       "<text font-family=\"Times New Roman,serif\" font-size=\"14.00\" text-anchor=\"middle\" x=\"374\" y=\"-94.8\">value = [332, 193]</text>\n",
       "<text font-family=\"Times New Roman,serif\" font-size=\"14.00\" text-anchor=\"middle\" x=\"374\" y=\"-79.8\">class = 0</text>\n",
       "</g>\n",
       "<!-- 567&#45;&gt;568 -->\n",
       "<g class=\"edge\" id=\"edge8\"><title>567-&gt;568</title>\n",
       "<path d=\"M448.448,-190.907C439.429,-181.651 429.765,-171.732 420.486,-162.209\" fill=\"none\" stroke=\"black\"/>\n",
       "<polygon fill=\"black\" points=\"422.967,-159.741 413.482,-155.021 417.954,-164.626 422.967,-159.741\" stroke=\"black\"/>\n",
       "</g>\n",
       "<!-- 571 -->\n",
       "<g class=\"node\" id=\"node12\"><title>571</title>\n",
       "<polygon fill=\"#399de5\" points=\"585,-147.5 481,-147.5 481,-79.5 585,-79.5 585,-147.5\" stroke=\"black\"/>\n",
       "<text font-family=\"Times New Roman,serif\" font-size=\"14.00\" text-anchor=\"middle\" x=\"533\" y=\"-132.3\">gini = 0.0</text>\n",
       "<text font-family=\"Times New Roman,serif\" font-size=\"14.00\" text-anchor=\"middle\" x=\"533\" y=\"-117.3\">samples = 106</text>\n",
       "<text font-family=\"Times New Roman,serif\" font-size=\"14.00\" text-anchor=\"middle\" x=\"533\" y=\"-102.3\">value = [0, 106]</text>\n",
       "<text font-family=\"Times New Roman,serif\" font-size=\"14.00\" text-anchor=\"middle\" x=\"533\" y=\"-87.3\">class = 1</text>\n",
       "</g>\n",
       "<!-- 567&#45;&gt;571 -->\n",
       "<g class=\"edge\" id=\"edge11\"><title>567-&gt;571</title>\n",
       "<path d=\"M503.613,-190.907C507.814,-179.983 512.37,-168.137 516.613,-157.107\" fill=\"none\" stroke=\"black\"/>\n",
       "<polygon fill=\"black\" points=\"519.92,-158.257 520.243,-147.667 513.387,-155.744 519.92,-158.257\" stroke=\"black\"/>\n",
       "</g>\n",
       "<!-- 569 -->\n",
       "<g class=\"node\" id=\"node10\"><title>569</title>\n",
       "<polygon fill=\"#c0c0c0\" points=\"365,-36 311,-36 311,-0 365,-0 365,-36\" stroke=\"black\"/>\n",
       "<text font-family=\"Times New Roman,serif\" font-size=\"14.00\" text-anchor=\"middle\" x=\"338\" y=\"-14.3\">(...)</text>\n",
       "</g>\n",
       "<!-- 568&#45;&gt;569 -->\n",
       "<g class=\"edge\" id=\"edge9\"><title>568-&gt;569</title>\n",
       "<path d=\"M358.315,-71.7615C354.957,-63.0419 351.491,-54.0385 348.393,-45.9921\" fill=\"none\" stroke=\"black\"/>\n",
       "<polygon fill=\"black\" points=\"351.561,-44.4797 344.701,-36.4051 345.028,-46.9949 351.561,-44.4797\" stroke=\"black\"/>\n",
       "</g>\n",
       "<!-- 570 -->\n",
       "<g class=\"node\" id=\"node11\"><title>570</title>\n",
       "<polygon fill=\"#c0c0c0\" points=\"437,-36 383,-36 383,-0 437,-0 437,-36\" stroke=\"black\"/>\n",
       "<text font-family=\"Times New Roman,serif\" font-size=\"14.00\" text-anchor=\"middle\" x=\"410\" y=\"-14.3\">(...)</text>\n",
       "</g>\n",
       "<!-- 568&#45;&gt;570 -->\n",
       "<g class=\"edge\" id=\"edge10\"><title>568-&gt;570</title>\n",
       "<path d=\"M389.685,-71.7615C393.043,-63.0419 396.509,-54.0385 399.607,-45.9921\" fill=\"none\" stroke=\"black\"/>\n",
       "<polygon fill=\"black\" points=\"402.972,-46.9949 403.299,-36.4051 396.439,-44.4797 402.972,-46.9949\" stroke=\"black\"/>\n",
       "</g>\n",
       "<!-- 573 -->\n",
       "<g class=\"node\" id=\"node14\"><title>573</title>\n",
       "<polygon fill=\"#399de5\" fill-opacity=\"0.568627\" points=\"779.5,-274 648.5,-274 648.5,-191 779.5,-191 779.5,-274\" stroke=\"black\"/>\n",
       "<text font-family=\"Times New Roman,serif\" font-size=\"14.00\" text-anchor=\"middle\" x=\"714\" y=\"-258.8\">not buy &lt;= 0.063</text>\n",
       "<text font-family=\"Times New Roman,serif\" font-size=\"14.00\" text-anchor=\"middle\" x=\"714\" y=\"-243.8\">gini = 0.422</text>\n",
       "<text font-family=\"Times New Roman,serif\" font-size=\"14.00\" text-anchor=\"middle\" x=\"714\" y=\"-228.8\">samples = 12348</text>\n",
       "<text font-family=\"Times New Roman,serif\" font-size=\"14.00\" text-anchor=\"middle\" x=\"714\" y=\"-213.8\">value = [3730, 8618]</text>\n",
       "<text font-family=\"Times New Roman,serif\" font-size=\"14.00\" text-anchor=\"middle\" x=\"714\" y=\"-198.8\">class = 1</text>\n",
       "</g>\n",
       "<!-- 572&#45;&gt;573 -->\n",
       "<g class=\"edge\" id=\"edge13\"><title>572-&gt;573</title>\n",
       "<path d=\"M714,-309.907C714,-301.649 714,-292.864 714,-284.302\" fill=\"none\" stroke=\"black\"/>\n",
       "<polygon fill=\"black\" points=\"717.5,-284.021 714,-274.021 710.5,-284.021 717.5,-284.021\" stroke=\"black\"/>\n",
       "</g>\n",
       "<!-- 1000 -->\n",
       "<g class=\"node\" id=\"node19\"><title>1000</title>\n",
       "<polygon fill=\"#399de5\" fill-opacity=\"0.886275\" points=\"1014.5,-274 889.5,-274 889.5,-191 1014.5,-191 1014.5,-274\" stroke=\"black\"/>\n",
       "<text font-family=\"Times New Roman,serif\" font-size=\"14.00\" text-anchor=\"middle\" x=\"952\" y=\"-258.8\">not worth &lt;= 0.06</text>\n",
       "<text font-family=\"Times New Roman,serif\" font-size=\"14.00\" text-anchor=\"middle\" x=\"952\" y=\"-243.8\">gini = 0.184</text>\n",
       "<text font-family=\"Times New Roman,serif\" font-size=\"14.00\" text-anchor=\"middle\" x=\"952\" y=\"-228.8\">samples = 3356</text>\n",
       "<text font-family=\"Times New Roman,serif\" font-size=\"14.00\" text-anchor=\"middle\" x=\"952\" y=\"-213.8\">value = [343, 3013]</text>\n",
       "<text font-family=\"Times New Roman,serif\" font-size=\"14.00\" text-anchor=\"middle\" x=\"952\" y=\"-198.8\">class = 1</text>\n",
       "</g>\n",
       "<!-- 572&#45;&gt;1000 -->\n",
       "<g class=\"edge\" id=\"edge18\"><title>572-&gt;1000</title>\n",
       "<path d=\"M783.159,-316.502C813.508,-301.582 849.135,-284.068 879.821,-268.983\" fill=\"none\" stroke=\"black\"/>\n",
       "<polygon fill=\"black\" points=\"881.744,-271.938 889.174,-264.385 878.656,-265.656 881.744,-271.938\" stroke=\"black\"/>\n",
       "</g>\n",
       "<!-- 574 -->\n",
       "<g class=\"node\" id=\"node15\"><title>574</title>\n",
       "<polygon fill=\"#399de5\" fill-opacity=\"0.596078\" points=\"734.5,-155 603.5,-155 603.5,-72 734.5,-72 734.5,-155\" stroke=\"black\"/>\n",
       "<text font-family=\"Times New Roman,serif\" font-size=\"14.00\" text-anchor=\"middle\" x=\"669\" y=\"-139.8\">money &lt;= 0.045</text>\n",
       "<text font-family=\"Times New Roman,serif\" font-size=\"14.00\" text-anchor=\"middle\" x=\"669\" y=\"-124.8\">gini = 0.41</text>\n",
       "<text font-family=\"Times New Roman,serif\" font-size=\"14.00\" text-anchor=\"middle\" x=\"669\" y=\"-109.8\">samples = 11914</text>\n",
       "<text font-family=\"Times New Roman,serif\" font-size=\"14.00\" text-anchor=\"middle\" x=\"669\" y=\"-94.8\">value = [3433, 8481]</text>\n",
       "<text font-family=\"Times New Roman,serif\" font-size=\"14.00\" text-anchor=\"middle\" x=\"669\" y=\"-79.8\">class = 1</text>\n",
       "</g>\n",
       "<!-- 573&#45;&gt;574 -->\n",
       "<g class=\"edge\" id=\"edge14\"><title>573-&gt;574</title>\n",
       "<path d=\"M698.387,-190.907C695.106,-182.377 691.609,-173.284 688.214,-164.456\" fill=\"none\" stroke=\"black\"/>\n",
       "<polygon fill=\"black\" points=\"691.441,-163.098 684.585,-155.021 684.908,-165.611 691.441,-163.098\" stroke=\"black\"/>\n",
       "</g>\n",
       "<!-- 999 -->\n",
       "<g class=\"node\" id=\"node18\"><title>999</title>\n",
       "<polygon fill=\"#e58139\" fill-opacity=\"0.537255\" points=\"871,-147.5 753,-147.5 753,-79.5 871,-79.5 871,-147.5\" stroke=\"black\"/>\n",
       "<text font-family=\"Times New Roman,serif\" font-size=\"14.00\" text-anchor=\"middle\" x=\"812\" y=\"-132.3\">gini = 0.432</text>\n",
       "<text font-family=\"Times New Roman,serif\" font-size=\"14.00\" text-anchor=\"middle\" x=\"812\" y=\"-117.3\">samples = 434</text>\n",
       "<text font-family=\"Times New Roman,serif\" font-size=\"14.00\" text-anchor=\"middle\" x=\"812\" y=\"-102.3\">value = [297, 137]</text>\n",
       "<text font-family=\"Times New Roman,serif\" font-size=\"14.00\" text-anchor=\"middle\" x=\"812\" y=\"-87.3\">class = 0</text>\n",
       "</g>\n",
       "<!-- 573&#45;&gt;999 -->\n",
       "<g class=\"edge\" id=\"edge17\"><title>573-&gt;999</title>\n",
       "<path d=\"M748.001,-190.907C757.613,-179.432 768.077,-166.938 777.707,-155.442\" fill=\"none\" stroke=\"black\"/>\n",
       "<polygon fill=\"black\" points=\"780.481,-157.58 784.219,-147.667 775.115,-153.086 780.481,-157.58\" stroke=\"black\"/>\n",
       "</g>\n",
       "<!-- 575 -->\n",
       "<g class=\"node\" id=\"node16\"><title>575</title>\n",
       "<polygon fill=\"#c0c0c0\" points=\"660,-36 606,-36 606,-0 660,-0 660,-36\" stroke=\"black\"/>\n",
       "<text font-family=\"Times New Roman,serif\" font-size=\"14.00\" text-anchor=\"middle\" x=\"633\" y=\"-14.3\">(...)</text>\n",
       "</g>\n",
       "<!-- 574&#45;&gt;575 -->\n",
       "<g class=\"edge\" id=\"edge15\"><title>574-&gt;575</title>\n",
       "<path d=\"M653.315,-71.7615C649.957,-63.0419 646.491,-54.0385 643.393,-45.9921\" fill=\"none\" stroke=\"black\"/>\n",
       "<polygon fill=\"black\" points=\"646.561,-44.4797 639.701,-36.4051 640.028,-46.9949 646.561,-44.4797\" stroke=\"black\"/>\n",
       "</g>\n",
       "<!-- 998 -->\n",
       "<g class=\"node\" id=\"node17\"><title>998</title>\n",
       "<polygon fill=\"#c0c0c0\" points=\"732,-36 678,-36 678,-0 732,-0 732,-36\" stroke=\"black\"/>\n",
       "<text font-family=\"Times New Roman,serif\" font-size=\"14.00\" text-anchor=\"middle\" x=\"705\" y=\"-14.3\">(...)</text>\n",
       "</g>\n",
       "<!-- 574&#45;&gt;998 -->\n",
       "<g class=\"edge\" id=\"edge16\"><title>574-&gt;998</title>\n",
       "<path d=\"M684.685,-71.7615C688.043,-63.0419 691.509,-54.0385 694.607,-45.9921\" fill=\"none\" stroke=\"black\"/>\n",
       "<polygon fill=\"black\" points=\"697.972,-46.9949 698.299,-36.4051 691.439,-44.4797 697.972,-46.9949\" stroke=\"black\"/>\n",
       "</g>\n",
       "<!-- 1001 -->\n",
       "<g class=\"node\" id=\"node20\"><title>1001</title>\n",
       "<polygon fill=\"#399de5\" fill-opacity=\"0.890196\" points=\"1014.5,-155 889.5,-155 889.5,-72 1014.5,-72 1014.5,-155\" stroke=\"black\"/>\n",
       "<text font-family=\"Times New Roman,serif\" font-size=\"14.00\" text-anchor=\"middle\" x=\"952\" y=\"-139.8\">yuck &lt;= 0.103</text>\n",
       "<text font-family=\"Times New Roman,serif\" font-size=\"14.00\" text-anchor=\"middle\" x=\"952\" y=\"-124.8\">gini = 0.178</text>\n",
       "<text font-family=\"Times New Roman,serif\" font-size=\"14.00\" text-anchor=\"middle\" x=\"952\" y=\"-109.8\">samples = 3338</text>\n",
       "<text font-family=\"Times New Roman,serif\" font-size=\"14.00\" text-anchor=\"middle\" x=\"952\" y=\"-94.8\">value = [329, 3009]</text>\n",
       "<text font-family=\"Times New Roman,serif\" font-size=\"14.00\" text-anchor=\"middle\" x=\"952\" y=\"-79.8\">class = 1</text>\n",
       "</g>\n",
       "<!-- 1000&#45;&gt;1001 -->\n",
       "<g class=\"edge\" id=\"edge19\"><title>1000-&gt;1001</title>\n",
       "<path d=\"M952,-190.907C952,-182.649 952,-173.864 952,-165.302\" fill=\"none\" stroke=\"black\"/>\n",
       "<polygon fill=\"black\" points=\"955.5,-165.021 952,-155.021 948.5,-165.021 955.5,-165.021\" stroke=\"black\"/>\n",
       "</g>\n",
       "<!-- 1096 -->\n",
       "<g class=\"node\" id=\"node23\"><title>1096</title>\n",
       "<polygon fill=\"#e58139\" fill-opacity=\"0.713725\" points=\"1131,-147.5 1033,-147.5 1033,-79.5 1131,-79.5 1131,-147.5\" stroke=\"black\"/>\n",
       "<text font-family=\"Times New Roman,serif\" font-size=\"14.00\" text-anchor=\"middle\" x=\"1082\" y=\"-132.3\">gini = 0.346</text>\n",
       "<text font-family=\"Times New Roman,serif\" font-size=\"14.00\" text-anchor=\"middle\" x=\"1082\" y=\"-117.3\">samples = 18</text>\n",
       "<text font-family=\"Times New Roman,serif\" font-size=\"14.00\" text-anchor=\"middle\" x=\"1082\" y=\"-102.3\">value = [14, 4]</text>\n",
       "<text font-family=\"Times New Roman,serif\" font-size=\"14.00\" text-anchor=\"middle\" x=\"1082\" y=\"-87.3\">class = 0</text>\n",
       "</g>\n",
       "<!-- 1000&#45;&gt;1096 -->\n",
       "<g class=\"edge\" id=\"edge22\"><title>1000-&gt;1096</title>\n",
       "<path d=\"M997.103,-190.907C1010.22,-179.101 1024.54,-166.217 1037.61,-154.45\" fill=\"none\" stroke=\"black\"/>\n",
       "<polygon fill=\"black\" points=\"1040.06,-156.958 1045.15,-147.667 1035.37,-151.755 1040.06,-156.958\" stroke=\"black\"/>\n",
       "</g>\n",
       "<!-- 1002 -->\n",
       "<g class=\"node\" id=\"node21\"><title>1002</title>\n",
       "<polygon fill=\"#c0c0c0\" points=\"943,-36 889,-36 889,-0 943,-0 943,-36\" stroke=\"black\"/>\n",
       "<text font-family=\"Times New Roman,serif\" font-size=\"14.00\" text-anchor=\"middle\" x=\"916\" y=\"-14.3\">(...)</text>\n",
       "</g>\n",
       "<!-- 1001&#45;&gt;1002 -->\n",
       "<g class=\"edge\" id=\"edge20\"><title>1001-&gt;1002</title>\n",
       "<path d=\"M936.315,-71.7615C932.957,-63.0419 929.491,-54.0385 926.393,-45.9921\" fill=\"none\" stroke=\"black\"/>\n",
       "<polygon fill=\"black\" points=\"929.561,-44.4797 922.701,-36.4051 923.028,-46.9949 929.561,-44.4797\" stroke=\"black\"/>\n",
       "</g>\n",
       "<!-- 1095 -->\n",
       "<g class=\"node\" id=\"node22\"><title>1095</title>\n",
       "<polygon fill=\"#c0c0c0\" points=\"1015,-36 961,-36 961,-0 1015,-0 1015,-36\" stroke=\"black\"/>\n",
       "<text font-family=\"Times New Roman,serif\" font-size=\"14.00\" text-anchor=\"middle\" x=\"988\" y=\"-14.3\">(...)</text>\n",
       "</g>\n",
       "<!-- 1001&#45;&gt;1095 -->\n",
       "<g class=\"edge\" id=\"edge21\"><title>1001-&gt;1095</title>\n",
       "<path d=\"M967.685,-71.7615C971.043,-63.0419 974.509,-54.0385 977.607,-45.9921\" fill=\"none\" stroke=\"black\"/>\n",
       "<polygon fill=\"black\" points=\"980.972,-46.9949 981.299,-36.4051 974.439,-44.4797 980.972,-46.9949\" stroke=\"black\"/>\n",
       "</g>\n",
       "</g>\n",
       "</svg>"
      ],
      "text/plain": [
       "<IPython.core.display.SVG object>"
      ]
     },
     "metadata": {},
     "output_type": "display_data"
    }
   ],
   "source": [
    "from sklearn import tree\n",
    "from subprocess import check_call\n",
    "graph=Source(tree.export_graphviz(dtc,out_file=None,feature_names=tf_idf_vect.get_feature_names(),class_names=['0','1'],filled=True,max_depth=3))\n",
    "display(SVG(graph.pipe(format='svg')))\n"
   ]
  },
  {
   "cell_type": "code",
   "execution_count": 73,
   "metadata": {},
   "outputs": [],
   "source": [
    "graph=tree.export_graphviz(dtc,out_file='dt_anju_2.dot',feature_names=tf_idf_vect.get_feature_names(),class_names=['0','1'],filled=True)"
   ]
  },
  {
   "cell_type": "markdown",
   "metadata": {
    "colab_type": "text",
    "id": "NVhl_V6MiWO5"
   },
   "source": [
    "## [5.3] Applying Decision Trees on AVG W2V,<font color='red'> SET 3</font>"
   ]
  },
  {
   "cell_type": "code",
   "execution_count": 27,
   "metadata": {
    "colab": {},
    "colab_type": "code",
    "id": "uYDXnzMmiWO5"
   },
   "outputs": [],
   "source": [
    "# Please write all the code with 2proper documentation\n",
    "from sklearn.model_selection import train_test_split\n",
    "x_train, x_test, y_train, y_test = train_test_split(final['clean_text'], final['Score'], random_state = 0, test_size = 0.2, shuffle = False)\n",
    "x_tr, x_cv, y_tr, y_cv = train_test_split(x_train, y_train, random_state = 0, test_size = 0.25, shuffle = False)\n",
    "# here we split the train data into train and cross validate"
   ]
  },
  {
   "cell_type": "code",
   "execution_count": 28,
   "metadata": {},
   "outputs": [],
   "source": [
    "# Train your own Word2Vec model using your own text corpus\n",
    "i=0\n",
    "list_of_sentance_train=[]\n",
    "\n",
    "for sentance in x_tr:\n",
    "    list_of_sentance_train.append(sentance.split())\n",
    "list_of_sentance_cv=[]\n",
    "for sentance in x_cv:\n",
    "    list_of_sentance_cv.append(sentance.split())\n",
    "    list_of_sentance_test=[]\n",
    "for sentance in x_test:\n",
    "    list_of_sentance_test.append(sentance.split())"
   ]
  },
  {
   "cell_type": "code",
   "execution_count": 29,
   "metadata": {},
   "outputs": [],
   "source": [
    "import gensim\n",
    "# Using Google News Word2Vectors\n",
    "\n",
    "# in this project we are using a pretrained model by google\n",
    "# its 3.3G file, once you load this into your memory \n",
    "# it occupies ~9Gb, so please do this step only if you have >12G of ram\n",
    "# we will provide a pickle file wich contains a dict , \n",
    "# and it contains all our courpus words as keys and  model[word] as values\n",
    "# To use this code-snippet, download \"GoogleNews-vectors-negative300.bin\" \n",
    "# from https://drive.google.com/file/d/0B7XkCwpI5KDYNlNUTTlSS21pQmM/edit\n",
    "# it's 1.9GB in size.\n",
    "\n",
    "\n",
    "# http://kavita-ganesan.com/gensim-word2vec-tutorial-starter-code/#.W17SRFAzZPY\n",
    "# you can comment this whole cell\n",
    "# or change these varible according to your need\n",
    "\n",
    "is_your_ram_gt_16g=False\n",
    "want_to_use_google_w2v = False\n",
    "want_to_train_w2v = True\n",
    "\n",
    "if want_to_train_w2v:\n",
    "    # min_count = 5 considers only words that occured atleast 5 times\n",
    "    w2v_model=Word2Vec(list_of_sentance_train,min_count=5,size=50, workers=4)\n",
    "  "
   ]
  },
  {
   "cell_type": "code",
   "execution_count": 30,
   "metadata": {},
   "outputs": [
    {
     "name": "stdout",
     "output_type": "stream",
     "text": [
      "number of words that occured minimum 5 times  13708\n",
      "sample words  ['dogs', 'loves', 'chicken', 'product', 'china', 'wont', 'buying', 'anymore', 'hard', 'find', 'products', 'made', 'usa', 'one', 'isnt', 'bad', 'good', 'take', 'chances', 'till', 'know', 'going', 'imports', 'love', 'saw', 'pet', 'store', 'tag', 'attached', 'regarding', 'satisfied', 'safe', 'infestation', 'literally', 'everywhere', 'flying', 'around', 'kitchen', 'bought', 'hoping', 'least', 'get', 'rid', 'weeks', 'fly', 'stuck', 'buggers', 'success', 'rate', 'day']\n"
     ]
    }
   ],
   "source": [
    "w2v_words = list(w2v_model.wv.vocab)\n",
    "print(\"number of words that occured minimum 5 times \",len(w2v_words))\n",
    "print(\"sample words \", w2v_words[0:50])"
   ]
  },
  {
   "cell_type": "code",
   "execution_count": 31,
   "metadata": {},
   "outputs": [
    {
     "name": "stderr",
     "output_type": "stream",
     "text": [
      "100%|███████████████████████████████████████████████████████████████████████████| 52663/52663 [02:46<00:00, 315.81it/s]\n"
     ]
    },
    {
     "name": "stdout",
     "output_type": "stream",
     "text": [
      "52663\n",
      "50\n"
     ]
    }
   ],
   "source": [
    "# average Word2Vec\n",
    "# compute average word2vec for each review.\n",
    "sent_vectors_tr = []; # the avg-w2v for each sentence/review is stored in this list\n",
    "for sent in tqdm(list_of_sentance_train): # for each review/sentence\n",
    "    sent_vec = np.zeros(50) # as word vectors are of zero length 50, you might need to change this to 300 if you use google's w2v\n",
    "    cnt_words =0; # num of words with a valid vector in the sentence/review\n",
    "    for word in sent: # for each word in a review/sentence\n",
    "        if word in w2v_words:\n",
    "            vec = w2v_model.wv[word]\n",
    "            sent_vec += vec\n",
    "            cnt_words += 1\n",
    "    if cnt_words != 0:\n",
    "        sent_vec /= cnt_words\n",
    "    sent_vectors_tr.append(sent_vec)\n",
    "print(len(sent_vectors_tr))\n",
    "print(len(sent_vectors_tr[0]))"
   ]
  },
  {
   "cell_type": "code",
   "execution_count": 32,
   "metadata": {},
   "outputs": [
    {
     "name": "stderr",
     "output_type": "stream",
     "text": [
      "100%|███████████████████████████████████████████████████████████████████████████| 17555/17555 [00:48<00:00, 360.83it/s]\n"
     ]
    },
    {
     "name": "stdout",
     "output_type": "stream",
     "text": [
      "17555\n",
      "50\n"
     ]
    }
   ],
   "source": [
    "# average Word2Vec\n",
    "# compute average word2vec for each review.\n",
    "sent_vectors_cv = []; # the avg-w2v for each sentence/review is stored in this list\n",
    "for sent in tqdm(list_of_sentance_cv): # for each review/sentence\n",
    "    sent_vec = np.zeros(50) # as word vectors are of zero length 50, you might need to change this to 300 if you use google's w2v\n",
    "    cnt_words =0; # num of words with a valid vector in the sentence/review\n",
    "    for word in sent: # for each word in a review/sentence\n",
    "        if word in w2v_words:\n",
    "            vec = w2v_model.wv[word]\n",
    "            sent_vec += vec\n",
    "            cnt_words += 1\n",
    "    if cnt_words != 0:\n",
    "        sent_vec /= cnt_words\n",
    "    sent_vectors_cv.append(sent_vec)\n",
    "print(len(sent_vectors_cv))\n",
    "print(len(sent_vectors_cv[0]))"
   ]
  },
  {
   "cell_type": "code",
   "execution_count": 33,
   "metadata": {},
   "outputs": [
    {
     "name": "stderr",
     "output_type": "stream",
     "text": [
      "100%|███████████████████████████████████████████████████████████████████████████| 17555/17555 [01:00<00:00, 288.74it/s]\n"
     ]
    },
    {
     "name": "stdout",
     "output_type": "stream",
     "text": [
      "17555\n",
      "50\n"
     ]
    }
   ],
   "source": [
    "# average Word2Vec\n",
    "# compute average word2vec for each review.\n",
    "sent_vectors_test = []; # the avg-w2v for each sentence/review is stored in this list\n",
    "for sent in tqdm(list_of_sentance_test): # for each review/sentence\n",
    "    sent_vec = np.zeros(50) # as word vectors are of zero length 50, you might need to change this to 300 if you use google's w2v\n",
    "    cnt_words =0; # num of words with a valid vector in the sentence/review\n",
    "    for word in sent: # for each word in a review/sentence\n",
    "        if word in w2v_words:\n",
    "            vec = w2v_model.wv[word]\n",
    "            sent_vec += vec\n",
    "            cnt_words += 1\n",
    "    if cnt_words != 0:\n",
    "        sent_vec /= cnt_words\n",
    "    sent_vectors_test.append(sent_vec)\n",
    "print(len(sent_vectors_test))\n",
    "print(len(sent_vectors_test[0]))"
   ]
  },
  {
   "cell_type": "code",
   "execution_count": 34,
   "metadata": {},
   "outputs": [
    {
     "name": "stdout",
     "output_type": "stream",
     "text": [
      "AUC score on train data for depth value 1 and in_samples_split   5 is 0.6674161646515209\n",
      "AUC score on crossval dat afor depth value 1 and in_samples_split 5 is 0.6859927295534386\n",
      "AUC score on train data for depth value 1 and in_samples_split   10 is 0.6674161646515209\n",
      "AUC score on crossval dat afor depth value 1 and in_samples_split 10 is 0.6859927295534386\n",
      "AUC score on train data for depth value 1 and in_samples_split   100 is 0.6674161646515209\n",
      "AUC score on crossval dat afor depth value 1 and in_samples_split 100 is 0.6859927295534386\n",
      "AUC score on train data for depth value 1 and in_samples_split   500 is 0.6674161646515209\n",
      "AUC score on crossval dat afor depth value 1 and in_samples_split 500 is 0.6859927295534386\n",
      "AUC score on train data for depth value 5 and in_samples_split   5 is 0.8246378794918996\n",
      "AUC score on crossval dat afor depth value 5 and in_samples_split 5 is 0.8116853382550882\n",
      "AUC score on train data for depth value 5 and in_samples_split   10 is 0.8246378794918996\n",
      "AUC score on crossval dat afor depth value 5 and in_samples_split 10 is 0.8116853382550882\n",
      "AUC score on train data for depth value 5 and in_samples_split   100 is 0.8244902618194911\n",
      "AUC score on crossval dat afor depth value 5 and in_samples_split 100 is 0.8119857491951653\n",
      "AUC score on train data for depth value 5 and in_samples_split   500 is 0.8238439390305432\n",
      "AUC score on crossval dat afor depth value 5 and in_samples_split 500 is 0.8120201427591833\n",
      "AUC score on train data for depth value 10 and in_samples_split   5 is 0.9119372802931927\n",
      "AUC score on crossval dat afor depth value 10 and in_samples_split 5 is 0.79408077139471\n",
      "AUC score on train data for depth value 10 and in_samples_split   10 is 0.9109048360494181\n",
      "AUC score on crossval dat afor depth value 10 and in_samples_split 10 is 0.7964111129386114\n",
      "AUC score on train data for depth value 10 and in_samples_split   100 is 0.8952239858425326\n",
      "AUC score on crossval dat afor depth value 10 and in_samples_split 100 is 0.8188373206419173\n",
      "AUC score on train data for depth value 10 and in_samples_split   500 is 0.8681717660276078\n",
      "AUC score on crossval dat afor depth value 10 and in_samples_split 500 is 0.8280602263614364\n",
      "AUC score on train data for depth value 50 and in_samples_split   5 is 0.9994132646199329\n",
      "AUC score on crossval dat afor depth value 50 and in_samples_split 5 is 0.6715669551952911\n",
      "AUC score on train data for depth value 50 and in_samples_split   10 is 0.9965770347068008\n",
      "AUC score on crossval dat afor depth value 50 and in_samples_split 10 is 0.6904764267062151\n",
      "AUC score on train data for depth value 50 and in_samples_split   100 is 0.9424375032611703\n",
      "AUC score on crossval dat afor depth value 50 and in_samples_split 100 is 0.7892140591724198\n",
      "AUC score on train data for depth value 50 and in_samples_split   500 is 0.8824605582964892\n",
      "AUC score on crossval dat afor depth value 50 and in_samples_split 500 is 0.8260352680450154\n",
      "AUC score on train data for depth value 100 and in_samples_split   5 is 0.9994506204682257\n",
      "AUC score on crossval dat afor depth value 100 and in_samples_split 5 is 0.669623902138418\n",
      "AUC score on train data for depth value 100 and in_samples_split   10 is 0.9965812407149206\n",
      "AUC score on crossval dat afor depth value 100 and in_samples_split 10 is 0.6870866327820937\n",
      "AUC score on train data for depth value 100 and in_samples_split   100 is 0.9424598490556174\n",
      "AUC score on crossval dat afor depth value 100 and in_samples_split 100 is 0.7888290964327251\n",
      "AUC score on train data for depth value 100 and in_samples_split   500 is 0.8825866256825308\n",
      "AUC score on crossval dat afor depth value 100 and in_samples_split 500 is 0.8258521297635945\n",
      "AUC score on train data for depth value 500 and in_samples_split   5 is 0.9994625104237709\n",
      "AUC score on crossval dat afor depth value 500 and in_samples_split 5 is 0.6655468785194114\n",
      "AUC score on train data for depth value 500 and in_samples_split   10 is 0.996592761818968\n",
      "AUC score on crossval dat afor depth value 500 and in_samples_split 10 is 0.6866763274162808\n",
      "AUC score on train data for depth value 500 and in_samples_split   100 is 0.9421037036665127\n",
      "AUC score on crossval dat afor depth value 500 and in_samples_split 100 is 0.7883261736213693\n",
      "AUC score on train data for depth value 500 and in_samples_split   500 is 0.8825506241248103\n",
      "AUC score on crossval dat afor depth value 500 and in_samples_split 500 is 0.8263275675116333\n",
      "AUC score on train data for depth value 100 and in_samples_split   5 is 0.9994565551236617\n",
      "AUC score on crossval dat afor depth value 100 and in_samples_split 5 is 0.6678363419032807\n",
      "AUC score on train data for depth value 100 and in_samples_split   10 is 0.9966365574290386\n",
      "AUC score on crossval dat afor depth value 100 and in_samples_split 10 is 0.689809613177579\n",
      "AUC score on train data for depth value 100 and in_samples_split   100 is 0.9420590685063923\n",
      "AUC score on crossval dat afor depth value 100 and in_samples_split 100 is 0.7871985871554681\n",
      "AUC score on train data for depth value 100 and in_samples_split   500 is 0.88242325887697\n",
      "AUC score on crossval dat afor depth value 100 and in_samples_split 500 is 0.8264585540597398\n",
      "Wall time: 2min 16s\n"
     ]
    }
   ],
   "source": [
    "%%time\n",
    "from sklearn.tree import DecisionTreeClassifier\n",
    "from sklearn.metrics import roc_auc_score, auc\n",
    "\n",
    "auc_score_tr = []\n",
    "auc_score_cv = []\n",
    "depth=[1, 5, 10, 50, 100, 500, 100]\n",
    "min_samples_split=[5, 10, 100, 500]\n",
    "\n",
    "for i in depth:\n",
    "    for j in min_samples_split:\n",
    "\n",
    "        dtc = DecisionTreeClassifier(max_depth=i,min_samples_split=j)\n",
    "        dtc.fit(sent_vectors_tr, y_tr)\n",
    "    \n",
    "    \n",
    "        pred_tr = dtc.predict_proba(sent_vectors_tr)[:,1]\n",
    "        auc_tr = roc_auc_score(y_tr, pred_tr)\n",
    "        print(\"AUC score on train data for depth value\", i,\"and in_samples_split  \",j,\"is\", auc_tr)\n",
    "        auc_score_tr.append(auc_tr)\n",
    "    \n",
    "        pred_cv = dtc.predict_proba(sent_vectors_cv)[:,1]\n",
    "        auc_cv = roc_auc_score(y_cv, pred_cv)\n",
    "        print(\"AUC score on crossval dat afor depth value\", i, \"and in_samples_split\",j,\"is\", auc_cv)\n",
    "        auc_score_cv.append(auc_cv)\n",
    "\n",
    "\n",
    "auc_score_tr = [x for x in auc_score_tr]\n",
    "auc_score_cv = [y for y in auc_score_cv]\n"
   ]
  },
  {
   "cell_type": "code",
   "execution_count": 36,
   "metadata": {},
   "outputs": [
    {
     "name": "stdout",
     "output_type": "stream",
     "text": [
      "[0.6859927295534386, 0.6859927295534386, 0.6859927295534386, 0.6859927295534386, 0.8116853382550882, 0.8116853382550882, 0.8119857491951653, 0.8120201427591833, 0.79408077139471, 0.7964111129386114, 0.8188373206419173, 0.8280602263614364, 0.6715669551952911, 0.6904764267062151, 0.7892140591724198, 0.8260352680450154, 0.669623902138418, 0.6870866327820937, 0.7888290964327251, 0.8258521297635945, 0.6655468785194114, 0.6866763274162808, 0.7883261736213693, 0.8263275675116333, 0.6678363419032807, 0.689809613177579, 0.7871985871554681, 0.8264585540597398]\n"
     ]
    }
   ],
   "source": [
    "print(auc_score_cv)"
   ]
  },
  {
   "cell_type": "code",
   "execution_count": 35,
   "metadata": {},
   "outputs": [
    {
     "data": {
      "text/plain": [
       "Text(0.5,1,'min_samples_split v/s AUC')"
      ]
     },
     "execution_count": 35,
     "metadata": {},
     "output_type": "execute_result"
    },
    {
     "data": {
      "image/png": "[encoded data removed]",
      "text/plain": [
       "<Figure size 2880x720 with 7 Axes>"
      ]
     },
     "metadata": {},
     "output_type": "display_data"
    }
   ],
   "source": [
    "    plt.figure(figsize=(40,10))\n",
    "    plt.subplot(3, 3, 1)\n",
    "   \n",
    "    plt.plot(min_samples_split, auc_score_cv[:4],color='green')\n",
    "    plt.plot(min_samples_split, auc_score_tr[:4],  color = 'black')\n",
    "    plt.xlabel(\"min_samples_split\")\n",
    "    plt.ylabel(\"AUC values\")\n",
    "    plt.title(\"min_samples_split v/s AUC\")\n",
    "    plt.subplot(3, 3, 2)\n",
    "    \n",
    "    plt.plot(min_samples_split, auc_score_cv[4:8],color='green')\n",
    "    plt.plot(min_samples_split, auc_score_tr[4:8],  color = 'black')\n",
    "    plt.xlabel(\"min_samples_split\")\n",
    "    plt.ylabel(\"AUC values\")\n",
    "    plt.title(\"min_samples_split v/s AUC\")\n",
    "    plt.subplot(3, 3, 3)\n",
    "    \n",
    "    plt.plot(min_samples_split, auc_score_cv[8:12],color='green')\n",
    "    plt.plot(min_samples_split, auc_score_tr[8:12],  color = 'black')\n",
    "    plt.xlabel(\"min_samples_split\")\n",
    "    plt.ylabel(\"AUC values\")\n",
    "    plt.title(\"min_samples_split v/s AUC\")\n",
    "    plt.subplot(3, 3, 4)\n",
    "    \n",
    "    plt.plot(min_samples_split, auc_score_cv[12:16],color='green')\n",
    "    plt.plot(min_samples_split, auc_score_tr[12:16],  color = 'black')\n",
    "    plt.xlabel(\"min_samples_split\")\n",
    "    plt.ylabel(\"AUC values\")\n",
    "    plt.title(\"min_samples_split v/s AUC\")\n",
    "    plt.subplot(3, 3, 5)\n",
    "    \n",
    "    plt.plot(min_samples_split, auc_score_cv[16:20],color='green')\n",
    "    plt.plot(min_samples_split, auc_score_tr[16:20],  color = 'black')\n",
    "    plt.xlabel(\"min_samples_split\")\n",
    "    plt.ylabel(\"AUC values\")\n",
    "    plt.title(\"min_samples_split v/s AUC\")\n",
    "    plt.subplot(3, 3, 6)\n",
    "    \n",
    "    plt.plot(min_samples_split, auc_score_cv[20:24],color='green')\n",
    "    plt.plot(min_samples_split, auc_score_tr[20:24],  color = 'black')\n",
    "    plt.xlabel(\"min_samples_split\")\n",
    "    plt.ylabel(\"AUC values\")\n",
    "    plt.title(\"min_samples_split v/s AUC\")\n",
    "    plt.subplot(3, 3,7)\n",
    "    \n",
    "    plt.plot(min_samples_split, auc_score_cv[24:28],color='green')\n",
    "    plt.plot(min_samples_split, auc_score_tr[24:28],  color = 'black')\n",
    "    plt.xlabel(\"min_samples_split\")\n",
    "    plt.ylabel(\"AUC values\")\n",
    "    plt.title(\"min_samples_split v/s AUC\")"
   ]
  },
  {
   "cell_type": "code",
   "execution_count": 37,
   "metadata": {},
   "outputs": [],
   "source": [
    "best_depth3=10\n",
    "best_min_samples3=500"
   ]
  },
  {
   "cell_type": "code",
   "execution_count": 38,
   "metadata": {},
   "outputs": [
    {
     "data": {
      "image/png": "[encoded data removed]",
      "text/plain": [
       "<Figure size 432x288 with 1 Axes>"
      ]
     },
     "metadata": {},
     "output_type": "display_data"
    },
    {
     "name": "stdout",
     "output_type": "stream",
     "text": [
      "====================================================================================================\n",
      "Train confusion matrix\n",
      "[[ 3267  4897]\n",
      " [ 1885 42614]]\n",
      "Test confusion matrix\n",
      "[[ 1108  1911]\n",
      " [  744 13792]]\n"
     ]
    }
   ],
   "source": [
    "# https://scikit-learn.org/stable/modules/generated/sklearn.metrics.roc_curve.html#sklearn.metrics.roc_curve\n",
    "from sklearn.metrics import roc_curve, auc\n",
    "\n",
    "\n",
    "dtc = DecisionTreeClassifier(max_depth=best_depth3,min_samples_split=best_min_samples3)\n",
    "dtc=dtc.fit(sent_vectors_tr, y_tr)\n",
    "# roc_auc_score(y_true, y_score) the 2nd parameter should be probability estimates of the positive class\n",
    "# not the predicted outputs\n",
    "\n",
    "train_fpr, train_tpr, thresholds = roc_curve(y_tr, dtc.predict_proba(sent_vectors_tr)[:,1])\n",
    "test_fpr, test_tpr, thresholds = roc_curve(y_test, dtc.predict_proba(sent_vectors_test)[:,1])\n",
    "\n",
    "plt.plot(train_fpr, train_tpr, label=\"train AUC =\"+str(auc(train_fpr, train_tpr)))\n",
    "plt.plot(test_fpr, test_tpr, label=\"train AUC =\"+str(auc(test_fpr, test_tpr)))\n",
    "plt.legend()\n",
    "plt.xlabel(\"C: hyperparameter\")\n",
    "plt.ylabel(\"AUC\")\n",
    "plt.title(\"ERROR PLOTS\")\n",
    "plt.show()\n",
    "\n",
    "print(\"=\"*100)\n",
    "\n",
    "from sklearn.metrics import confusion_matrix\n",
    "print(\"Train confusion matrix\")\n",
    "print(confusion_matrix(y_tr, dtc.predict(sent_vectors_tr)))\n",
    "print(\"Test confusion matrix\")\n",
    "cm=confusion_matrix(y_test,dtc.predict(sent_vectors_test))\n",
    "print(confusion_matrix(y_test, dtc.predict(sent_vectors_test)))\n"
   ]
  },
  {
   "cell_type": "code",
   "execution_count": 39,
   "metadata": {},
   "outputs": [
    {
     "data": {
      "image/png": "[encoded data removed]",
      "text/plain": [
       "<Figure size 432x288 with 1 Axes>"
      ]
     },
     "metadata": {},
     "output_type": "display_data"
    }
   ],
   "source": [
    "plt.clf()\n",
    "plt.imshow(cm, interpolation='nearest', cmap=plt.cm.Wistia)\n",
    "classNames = ['Negative','Positive']\n",
    "plt.ylabel('True label')\n",
    "plt.xlabel('Predicted label')\n",
    "tick_marks = np.arange(len(classNames))\n",
    "plt.xticks(tick_marks, classNames, rotation=45)\n",
    "plt.yticks(tick_marks, classNames)\n",
    "s = [['TN','FP'], ['FN', 'TP']]\n",
    "for i in range(2):\n",
    "    for j in range(2):\n",
    "        plt.text(j,i, str(s[i][j])+\" = \"+str(cm[i][j]))\n",
    "plt.show()"
   ]
  },
  {
   "cell_type": "markdown",
   "metadata": {
    "colab_type": "text",
    "id": "PnwVzXytiWO7"
   },
   "source": [
    "## [5.4] Applying Decision Trees on TFIDF W2V,<font color='red'> SET 4</font>"
   ]
  },
  {
   "cell_type": "code",
   "execution_count": 48,
   "metadata": {
    "colab": {},
    "colab_type": "code",
    "id": "YqODkVCgiWO7"
   },
   "outputs": [],
   "source": [
    "# Please write all the code with proper documentation\n",
    "# S = [\"abc def pqr\", \"def def def abc\", \"pqr pqr def\"]\n",
    "model = TfidfVectorizer()\n",
    "model.fit(x_tr)\n",
    "# we are converting a dictionary with word as a key, and the idf as a value\n",
    "dictionary = dict(zip(model.get_feature_names(), list(model.idf_)))"
   ]
  },
  {
   "cell_type": "code",
   "execution_count": 49,
   "metadata": {},
   "outputs": [
    {
     "name": "stderr",
     "output_type": "stream",
     "text": [
      "100%|████████████████████████████████████████████████████████████████████████████| 52663/52663 [23:23<00:00, 37.51it/s]\n"
     ]
    }
   ],
   "source": [
    "# TF-IDF weighted Word2Vec\n",
    "tfidf_feat = model.get_feature_names() # tfidf words/col-names\n",
    "# final_tf_idf is the sparse matrix with row= sentence, col=word and cell_val = tfidf\n",
    "\n",
    "tfidf_sent_vectors_train = []; # the tfidf-w2v for each sentence/review is stored in this list\n",
    "row=0;\n",
    "for sent in tqdm(list_of_sentance_train): # for each review/sentence \n",
    "    sent_vec = np.zeros(50) # as word vectors are of zero length\n",
    "    weight_sum =0; # num of words with a valid vector in the sentence/review\n",
    "    for word in sent: # for each word in a review/sentence\n",
    "        if word in w2v_words and word in tfidf_feat:\n",
    "            vec = w2v_model.wv[word]\n",
    "#             tf_idf = tf_idf_matrix[row, tfidf_feat.index(word)]\n",
    "            # to reduce the computation we are \n",
    "            # dictionary[word] = idf value of word in whole courpus\n",
    "            # sent.count(word) = tf valeus of word in this review\n",
    "            tf_idf = dictionary[word]*(sent.count(word)/len(sent))\n",
    "            sent_vec += (vec * tf_idf)\n",
    "            weight_sum += tf_idf\n",
    "    if weight_sum != 0:\n",
    "        sent_vec /= weight_sum\n",
    "    tfidf_sent_vectors_train.append(sent_vec)\n",
    "    row += 1"
   ]
  },
  {
   "cell_type": "code",
   "execution_count": 50,
   "metadata": {},
   "outputs": [
    {
     "name": "stderr",
     "output_type": "stream",
     "text": [
      "100%|████████████████████████████████████████████████████████████████████████████| 17555/17555 [10:12<00:00, 28.65it/s]\n"
     ]
    }
   ],
   "source": [
    "# TF-IDF weighted Word2Vec\n",
    "tfidf_feat = model.get_feature_names() # tfidf words/col-names\n",
    "# final_tf_idf is the sparse matrix with row= sentence, col=word and cell_val = tfidf\n",
    "\n",
    "tfidf_sent_vectors_cv = []; # the tfidf-w2v for each sentence/review is stored in this list\n",
    "row=0;\n",
    "for sent in tqdm(list_of_sentance_cv): # for each review/sentence \n",
    "    sent_vec = np.zeros(50) # as word vectors are of zero length\n",
    "    weight_sum =0; # num of words with a valid vector in the sentence/review\n",
    "    for word in sent: # for each word in a review/sentence\n",
    "        if word in w2v_words and word in tfidf_feat:\n",
    "            vec = w2v_model.wv[word]\n",
    "#             tf_idf = tf_idf_matrix[row, tfidf_feat.index(word)]\n",
    "            # to reduce the computation we are \n",
    "            # dictionary[word] = idf value of word in whole courpus\n",
    "            # sent.count(word) = tf valeus of word in this review\n",
    "            tf_idf = dictionary[word]*(sent.count(word)/len(sent))\n",
    "            sent_vec += (vec * tf_idf)\n",
    "            weight_sum += tf_idf\n",
    "    if weight_sum != 0:\n",
    "        sent_vec /= weight_sum\n",
    "    tfidf_sent_vectors_cv.append(sent_vec)\n",
    "    row += 1"
   ]
  },
  {
   "cell_type": "code",
   "execution_count": 51,
   "metadata": {},
   "outputs": [
    {
     "name": "stderr",
     "output_type": "stream",
     "text": [
      "100%|████████████████████████████████████████████████████████████████████████████| 17555/17555 [09:34<00:00, 30.55it/s]\n"
     ]
    }
   ],
   "source": [
    "# TF-IDF weighted Word2Vec\n",
    "tfidf_feat = model.get_feature_names() # tfidf words/col-names\n",
    "# final_tf_idf is the sparse matrix with row= sentence, col=word and cell_val = tfidf\n",
    "\n",
    "tfidf_sent_vectors_test = []; # the tfidf-w2v for each sentence/review is stored in this list\n",
    "row=0;\n",
    "for sent in tqdm(list_of_sentance_test): # for each review/sentence \n",
    "    sent_vec = np.zeros(50) # as word vectors are of zero length\n",
    "    weight_sum =0; # num of words with a valid vector in the sentence/review\n",
    "    for word in sent: # for each word in a review/sentence\n",
    "        if word in w2v_words and word in tfidf_feat:\n",
    "            vec = w2v_model.wv[word]\n",
    "#             tf_idf = tf_idf_matrix[row, tfidf_feat.index(word)]\n",
    "            # to reduce the computation we are \n",
    "            # dictionary[word] = idf value of word in whole courpus\n",
    "            # sent.count(word) = tf valeus of word in this review\n",
    "            tf_idf = dictionary[word]*(sent.count(word)/len(sent))\n",
    "            sent_vec += (vec * tf_idf)\n",
    "            weight_sum += tf_idf\n",
    "    if weight_sum != 0:\n",
    "        sent_vec /= weight_sum\n",
    "    tfidf_sent_vectors_test.append(sent_vec)\n",
    "    row += 1"
   ]
  },
  {
   "cell_type": "code",
   "execution_count": 53,
   "metadata": {},
   "outputs": [
    {
     "name": "stdout",
     "output_type": "stream",
     "text": [
      "AUC score on train data for depth value 1 and in_samples_split   5 is 0.6537781461631644\n",
      "AUC score on crossval dat afor depth value 1 and in_samples_split 5 is 0.6741191363727956\n",
      "AUC score on train data for depth value 1 and in_samples_split   10 is 0.6537781461631644\n",
      "AUC score on crossval dat afor depth value 1 and in_samples_split 10 is 0.6741191363727956\n",
      "AUC score on train data for depth value 1 and in_samples_split   100 is 0.6537781461631644\n",
      "AUC score on crossval dat afor depth value 1 and in_samples_split 100 is 0.6741191363727956\n",
      "AUC score on train data for depth value 1 and in_samples_split   500 is 0.6537781461631644\n",
      "AUC score on crossval dat afor depth value 1 and in_samples_split 500 is 0.6741191363727956\n",
      "AUC score on train data for depth value 5 and in_samples_split   5 is 0.7983796001383314\n",
      "AUC score on crossval dat afor depth value 5 and in_samples_split 5 is 0.781962539382464\n",
      "AUC score on train data for depth value 5 and in_samples_split   10 is 0.7983796001383314\n",
      "AUC score on crossval dat afor depth value 5 and in_samples_split 10 is 0.781962539382464\n",
      "AUC score on train data for depth value 5 and in_samples_split   100 is 0.7983796001383314\n",
      "AUC score on crossval dat afor depth value 5 and in_samples_split 100 is 0.781962539382464\n",
      "AUC score on train data for depth value 5 and in_samples_split   500 is 0.7974146818685013\n",
      "AUC score on crossval dat afor depth value 5 and in_samples_split 500 is 0.7816411623457336\n",
      "AUC score on train data for depth value 10 and in_samples_split   5 is 0.8907034643820864\n",
      "AUC score on crossval dat afor depth value 10 and in_samples_split 5 is 0.7657279866410907\n",
      "AUC score on train data for depth value 10 and in_samples_split   10 is 0.8893400722612015\n",
      "AUC score on crossval dat afor depth value 10 and in_samples_split 10 is 0.7670976455967096\n",
      "AUC score on train data for depth value 10 and in_samples_split   100 is 0.871137155898851\n",
      "AUC score on crossval dat afor depth value 10 and in_samples_split 100 is 0.7946587253355641\n",
      "AUC score on train data for depth value 10 and in_samples_split   500 is 0.8443272412388658\n",
      "AUC score on crossval dat afor depth value 10 and in_samples_split 500 is 0.8006461384368219\n",
      "AUC score on train data for depth value 50 and in_samples_split   5 is 0.9994714206647939\n",
      "AUC score on crossval dat afor depth value 50 and in_samples_split 5 is 0.647137110435603\n",
      "AUC score on train data for depth value 50 and in_samples_split   10 is 0.9962776800614923\n",
      "AUC score on crossval dat afor depth value 50 and in_samples_split 10 is 0.6722780610352175\n",
      "AUC score on train data for depth value 50 and in_samples_split   100 is 0.9303762478507656\n",
      "AUC score on crossval dat afor depth value 50 and in_samples_split 100 is 0.7687932528855421\n",
      "AUC score on train data for depth value 50 and in_samples_split   500 is 0.8662305157362014\n",
      "AUC score on crossval dat afor depth value 50 and in_samples_split 500 is 0.8000075088413915\n",
      "AUC score on train data for depth value 100 and in_samples_split   5 is 0.999479348219365\n",
      "AUC score on crossval dat afor depth value 100 and in_samples_split 5 is 0.6501937267330749\n",
      "AUC score on train data for depth value 100 and in_samples_split   10 is 0.9962749329436236\n",
      "AUC score on crossval dat afor depth value 100 and in_samples_split 10 is 0.6684758422218507\n",
      "AUC score on train data for depth value 100 and in_samples_split   100 is 0.9300573082919942\n",
      "AUC score on crossval dat afor depth value 100 and in_samples_split 100 is 0.7695411811487707\n",
      "AUC score on train data for depth value 100 and in_samples_split   500 is 0.8661969172184603\n",
      "AUC score on crossval dat afor depth value 100 and in_samples_split 500 is 0.7995118726078885\n",
      "AUC score on train data for depth value 500 and in_samples_split   5 is 0.9994636995569566\n",
      "AUC score on crossval dat afor depth value 500 and in_samples_split 5 is 0.6476329070654738\n",
      "AUC score on train data for depth value 500 and in_samples_split   10 is 0.9962884263021331\n",
      "AUC score on crossval dat afor depth value 500 and in_samples_split 10 is 0.6690036493839886\n",
      "AUC score on train data for depth value 500 and in_samples_split   100 is 0.9300874660308415\n",
      "AUC score on crossval dat afor depth value 500 and in_samples_split 100 is 0.7704447626301025\n",
      "AUC score on train data for depth value 500 and in_samples_split   500 is 0.8661700970351398\n",
      "AUC score on crossval dat afor depth value 500 and in_samples_split 500 is 0.7998894571146626\n",
      "Wall time: 1min 37s\n"
     ]
    }
   ],
   "source": [
    "%%time\n",
    "from sklearn.tree import DecisionTreeClassifier\n",
    "from sklearn.metrics import roc_auc_score, auc\n",
    "\n",
    "auc_score_tr = []\n",
    "auc_score_cv = []\n",
    "depth=[1, 5, 10, 50, 100, 500]\n",
    "min_samples_split=[5, 10, 100, 500]\n",
    "\n",
    "for i in depth:\n",
    "    for j in min_samples_split:\n",
    "\n",
    "        dtc = DecisionTreeClassifier(max_depth=i,min_samples_split=j)\n",
    "        dtc.fit( tfidf_sent_vectors_train, y_tr)\n",
    "    \n",
    "    \n",
    "        pred_tr = dtc.predict_proba(tfidf_sent_vectors_train)[:,1]\n",
    "        auc_tr = roc_auc_score(y_tr, pred_tr)\n",
    "        print(\"AUC score on train data for depth value\", i,\"and in_samples_split  \",j,\"is\", auc_tr)\n",
    "        auc_score_tr.append(auc_tr)\n",
    "    \n",
    "        pred_cv = dtc.predict_proba(tfidf_sent_vectors_cv)[:,1]\n",
    "        auc_cv = roc_auc_score(y_cv, pred_cv)\n",
    "        print(\"AUC score on crossval dat afor depth value\", i, \"and in_samples_split\",j,\"is\", auc_cv)\n",
    "        auc_score_cv.append(auc_cv)\n",
    "\n",
    "\n",
    "auc_score_tr = [x for x in auc_score_tr]\n",
    "auc_score_cv = [y for y in auc_score_cv]\n"
   ]
  },
  {
   "cell_type": "code",
   "execution_count": 54,
   "metadata": {},
   "outputs": [
    {
     "name": "stdout",
     "output_type": "stream",
     "text": [
      "[0.6741191363727956, 0.6741191363727956, 0.6741191363727956, 0.6741191363727956, 0.781962539382464, 0.781962539382464, 0.781962539382464, 0.7816411623457336, 0.7657279866410907, 0.7670976455967096, 0.7946587253355641, 0.8006461384368219, 0.647137110435603, 0.6722780610352175, 0.7687932528855421, 0.8000075088413915, 0.6501937267330749, 0.6684758422218507, 0.7695411811487707, 0.7995118726078885, 0.6476329070654738, 0.6690036493839886, 0.7704447626301025, 0.7998894571146626]\n"
     ]
    }
   ],
   "source": [
    "print(auc_score_cv)"
   ]
  },
  {
   "cell_type": "code",
   "execution_count": 56,
   "metadata": {},
   "outputs": [
    {
     "data": {
      "text/plain": [
       "Text(0.5,1,'min_samples_split v/s AUC')"
      ]
     },
     "execution_count": 56,
     "metadata": {},
     "output_type": "execute_result"
    },
    {
     "data": {
      "image/png": "[encoded data removed]",
      "text/plain": [
       "<Figure size 2160x720 with 6 Axes>"
      ]
     },
     "metadata": {},
     "output_type": "display_data"
    }
   ],
   "source": [
    "    plt.figure(figsize=(30,10))\n",
    "    plt.subplot(3, 3, 1)\n",
    "   \n",
    "    plt.plot(min_samples_split, auc_score_cv[:4],color='green')\n",
    "    plt.plot(min_samples_split, auc_score_tr[:4],  color = 'black')\n",
    "    plt.xlabel(\"min_samples_split\")\n",
    "    plt.ylabel(\"AUC values\")\n",
    "    plt.title(\"min_samples_split v/s AUC\")\n",
    "    plt.subplot(3, 3, 2)\n",
    "    \n",
    "    plt.plot(min_samples_split, auc_score_cv[4:8],color='green')\n",
    "    plt.plot(min_samples_split, auc_score_tr[4:8],  color = 'black')\n",
    "    plt.xlabel(\"min_samples_split\")\n",
    "    plt.ylabel(\"AUC values\")\n",
    "    plt.title(\"min_samples_split v/s AUC\")\n",
    "    plt.subplot(3, 3, 3)\n",
    "    \n",
    "    plt.plot(min_samples_split, auc_score_cv[8:12],color='green')\n",
    "    plt.plot(min_samples_split, auc_score_tr[8:12],  color = 'black')\n",
    "    plt.xlabel(\"min_samples_split\")\n",
    "    plt.ylabel(\"AUC values\")\n",
    "    plt.title(\"min_samples_split v/s AUC\")\n",
    "    plt.subplot(3, 3, 4)\n",
    "    \n",
    "    plt.plot(min_samples_split, auc_score_cv[12:16],color='green')\n",
    "    plt.plot(min_samples_split, auc_score_tr[12:16],  color = 'black')\n",
    "    plt.xlabel(\"min_samples_split\")\n",
    "    plt.ylabel(\"AUC values\")\n",
    "    plt.title(\"min_samples_split v/s AUC\")\n",
    "    plt.subplot(3, 3, 5)\n",
    "    \n",
    "    plt.plot(min_samples_split, auc_score_cv[16:20],color='green')\n",
    "    plt.plot(min_samples_split, auc_score_tr[16:20],  color = 'black')\n",
    "    plt.xlabel(\"min_samples_split\")\n",
    "    plt.ylabel(\"AUC values\")\n",
    "    plt.title(\"min_samples_split v/s AUC\")\n",
    "    plt.subplot(3, 3, 6)\n",
    "    \n",
    "    plt.plot(min_samples_split, auc_score_cv[20:24],color='green')\n",
    "    plt.plot(min_samples_split, auc_score_tr[20:24],  color = 'black')\n",
    "    plt.xlabel(\"min_samples_split\")\n",
    "    plt.ylabel(\"AUC values\")\n",
    "    plt.title(\"min_samples_split v/s AUC\")\n",
    "    "
   ]
  },
  {
   "cell_type": "code",
   "execution_count": 57,
   "metadata": {},
   "outputs": [],
   "source": [
    "best_depth4=10\n",
    "best_min_samples4=500"
   ]
  },
  {
   "cell_type": "code",
   "execution_count": 61,
   "metadata": {},
   "outputs": [
    {
     "data": {
      "image/png": "[encoded data removed]",
      "text/plain": [
       "<Figure size 432x288 with 1 Axes>"
      ]
     },
     "metadata": {},
     "output_type": "display_data"
    },
    {
     "name": "stdout",
     "output_type": "stream",
     "text": [
      "====================================================================================================\n",
      "Train confusion matrix\n",
      "[[ 2598  5566]\n",
      " [ 1424 43075]]\n",
      "Test confusion matrix\n",
      "[[  885  2134]\n",
      " [  549 13987]]\n"
     ]
    }
   ],
   "source": [
    "# https://scikit-learn.org/stable/modules/generated/sklearn.metrics.roc_curve.html#sklearn.metrics.roc_curve\n",
    "from sklearn.metrics import roc_curve, auc\n",
    "\n",
    "\n",
    "dtc = DecisionTreeClassifier(max_depth=best_depth4,min_samples_split=best_min_samples4)\n",
    "dtc=dtc.fit(tfidf_sent_vectors_train, y_tr)\n",
    "# roc_auc_score(y_true, y_score) the 2nd parameter should be probability estimates of the positive class\n",
    "# not the predicted outputs\n",
    "\n",
    "train_fpr, train_tpr, thresholds = roc_curve(y_tr, dtc.predict_proba(tfidf_sent_vectors_train)[:,1])\n",
    "test_fpr, test_tpr, thresholds = roc_curve(y_test, dtc.predict_proba(tfidf_sent_vectors_test)[:,1])\n",
    "\n",
    "plt.plot(train_fpr, train_tpr, label=\"train AUC =\"+str(auc(train_fpr, train_tpr)))\n",
    "plt.plot(test_fpr, test_tpr, label=\"test AUC =\"+str(auc(test_fpr, test_tpr)))\n",
    "plt.legend()\n",
    "plt.xlabel(\"C: hyperparameter\")\n",
    "plt.ylabel(\"AUC\")\n",
    "plt.title(\"ERROR PLOTS\")\n",
    "plt.show()\n",
    "\n",
    "print(\"=\"*100)\n",
    "\n",
    "from sklearn.metrics import confusion_matrix\n",
    "print(\"Train confusion matrix\")\n",
    "print(confusion_matrix(y_tr, dtc.predict(tfidf_sent_vectors_train)))\n",
    "print(\"Test confusion matrix\")\n",
    "cm=confusion_matrix(y_test,dtc.predict(tfidf_sent_vectors_test))\n",
    "print(confusion_matrix(y_test, dtc.predict(tfidf_sent_vectors_test)))\n"
   ]
  },
  {
   "cell_type": "code",
   "execution_count": 62,
   "metadata": {},
   "outputs": [
    {
     "data": {
      "image/png": "[encoded data removed]",
      "text/plain": [
       "<Figure size 432x288 with 1 Axes>"
      ]
     },
     "metadata": {},
     "output_type": "display_data"
    }
   ],
   "source": [
    "plt.clf()\n",
    "plt.imshow(cm, interpolation='nearest', cmap=plt.cm.Wistia)\n",
    "classNames = ['Negative','Positive']\n",
    "plt.ylabel('True label')\n",
    "plt.xlabel('Predicted label')\n",
    "tick_marks = np.arange(len(classNames))\n",
    "plt.xticks(tick_marks, classNames, rotation=45)\n",
    "plt.yticks(tick_marks, classNames)\n",
    "s = [['TN','FP'], ['FN', 'TP']]\n",
    "for i in range(2):\n",
    "    for j in range(2):\n",
    "        plt.text(j,i, str(s[i][j])+\" = \"+str(cm[i][j]))\n",
    "plt.show()"
   ]
  },
  {
   "cell_type": "markdown",
   "metadata": {
    "colab_type": "text",
    "id": "Em-rF6u2iWO8"
   },
   "source": [
    "# [6] Conclusions"
   ]
  },
  {
   "cell_type": "code",
   "execution_count": 63,
   "metadata": {
    "colab": {},
    "colab_type": "code",
    "id": "3Hnu2QziiWO9"
   },
   "outputs": [
    {
     "name": "stdout",
     "output_type": "stream",
     "text": [
      "+------------+-----------+-------------------+--------+\n",
      "| Vectorizer | max_depth | min_samples_split |  AUC   |\n",
      "+------------+-----------+-------------------+--------+\n",
      "|    BOW     |     50    |        500        | 0.824  |\n",
      "|   TF-IDF   |     50    |        500        | 0.824  |\n",
      "|  AVG-W2V   |     10    |        500        | 0.831  |\n",
      "| TFIDF-W2V  |     10    |        500        | 0.8014 |\n",
      "+------------+-----------+-------------------+--------+\n"
     ]
    }
   ],
   "source": [
    "# Please compare all your models using Prettytable library\n",
    "from prettytable import PrettyTable\n",
    "t = PrettyTable()\n",
    "t.field_names = [\"Vectorizer\", \"max_depth\", \"min_samples_split\", \"AUC\" ]\n",
    "t.add_row([\"BOW\",50,500,0.824])\n",
    "t.add_row([\"TF-IDF\", 50,500,0.824])\n",
    "t.add_row([\"AVG-W2V\", 10,500,0.831])\n",
    "t.add_row([\"TFIDF-W2V\", 10,500,0.8014])\n",
    "print(t)"
   ]
  },
  {
   "cell_type": "code",
   "execution_count": null,
   "metadata": {},
   "outputs": [],
   "source": []
  }
 ],
 "metadata": {
  "colab": {
   "collapsed_sections": [
    "NTwQITJKiWN5",
    "T_LFck8iiWOX",
    "mjfrB76yiWOa",
    "0tcbbZxSiWOd",
    "u566lt93iWOf",
    "mUNnof40iWOl",
    "heHLB_FCiWOm",
    "ylTn3LgiiWOo",
    "NVhl_V6MiWO5",
    "PnwVzXytiWO7"
   ],
   "name": "08 Amazon Fine Food Reviews Analysis_Decision Trees.ipynb",
   "provenance": [],
   "version": "0.3.2"
  },
  "kernelspec": {
   "display_name": "Python 3",
   "language": "python",
   "name": "python3"
  },
  "language_info": {
   "codemirror_mode": {
    "name": "ipython",
    "version": 3
   },
   "file_extension": ".py",
   "mimetype": "text/x-python",
   "name": "python",
   "nbconvert_exporter": "python",
   "pygments_lexer": "ipython3",
   "version": "3.6.5"
  }
 },
 "nbformat": 4,
 "nbformat_minor": 1
}
